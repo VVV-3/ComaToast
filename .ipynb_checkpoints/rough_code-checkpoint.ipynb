{
 "cells": [
  {
   "cell_type": "code",
   "execution_count": null,
   "id": "224dc9af",
   "metadata": {},
   "outputs": [],
   "source": [
    "from src.datasets import patientDataset, eegDataset\n",
    "from src.resnet import ResNet1d\n",
    "from tqdm import tqdm\n",
    "import numpy as np"
   ]
  },
  {
   "cell_type": "code",
   "execution_count": null,
   "id": "59622179",
   "metadata": {},
   "outputs": [],
   "source": [
    "import torch\n",
    "from torch.utils.data import DataLoader\n",
    "\n",
    "pattrainset = patientDataset(\"../train/\")\n",
    "trainset = eegDataset(pattrainset, [i for i in range(len(pattrainset))])\n",
    "trainloader = DataLoader(dataset=trainset, batch_size=128, shuffle=True, num_workers=20)\n",
    "\n",
    "pattestset = patientDataset(\"../split_1/\")\n",
    "testset = eegDataset(pattestset, [i for i in range(len(pattestset))])\n",
    "testloader = DataLoader(dataset=testset, batch_size=128, shuffle=True, num_workers=20)\n",
    "\n",
    "device = torch.device('cuda' if torch.cuda.is_available() else 'cpu')"
   ]
  },
  {
   "cell_type": "code",
   "execution_count": null,
   "id": "fa3262e5",
   "metadata": {},
   "outputs": [],
   "source": [
    "def validate(model, val_loader, criterion):\n",
    "    val_loss = []\n",
    "    model.eval()\n",
    "    for i, (inputs, labels) in enumerate(val_loader):\n",
    "        inputs = inputs.type(torch.FloatTensor).to(device)\n",
    "        labels = labels.type(torch.FloatTensor).reshape((labels.shape[0],2)).to(device)\n",
    "        \n",
    "        outputs = model(inputs)\n",
    "        loss    = criterion(outputs, labels)\n",
    "        val_loss.append(loss.item())\n",
    "    \n",
    "    return np.mean(val_loss)"
   ]
  },
  {
   "cell_type": "code",
   "execution_count": null,
   "id": "26f1304e",
   "metadata": {},
   "outputs": [],
   "source": [
    "def train_one_epoch(model, optimizer, criterion ,train_loader, epoch):\n",
    "    model.train()\n",
    "    train_loss = []\n",
    "    for i, (inputs, labels) in enumerate(train_loader): \n",
    "            \n",
    "        inputs = inputs.type(torch.FloatTensor).to(device)\n",
    "        labels = labels.type(torch.FloatTensor).reshape((labels.shape[0],2)).to(device)\n",
    "#         print(labels.shape, type(labels))\n",
    "        \n",
    "        outputs = model(inputs)\n",
    "#         print(outputs.shape)\n",
    "        loss    = criterion(outputs, labels)\n",
    "        optimizer.zero_grad()\n",
    "        loss.backward()\n",
    "        optimizer.step()\n",
    "        \n",
    "        train_loss.append(loss.cpu().detach().numpy())\n",
    "        print(\"Epoch {}: {}/{} Loss: {}\".format(epoch, i, len(train_loader), loss.item()), end='\\r')\n",
    "    return np.mean(train_loss)"
   ]
  },
  {
   "cell_type": "code",
   "execution_count": null,
   "id": "2371c889",
   "metadata": {},
   "outputs": [],
   "source": [
    "train_config = { 'num_epochs':20, 'learning_rate':5e-5 }\n",
    "arch_config  = {\n",
    "                'n_input_channels':18,\n",
    "                'signal_length':400,\n",
    "                'net_filter_size':[ 18, 36],\n",
    "                'net_signal_length':[ 200, 50],\n",
    "                'kernel_size': 9,\n",
    "                'n_classes':2,\n",
    "                'dropout_rate':0.35\n",
    "               }\n",
    "\n",
    "model = ResNet1d(input_dim=(arch_config['n_input_channels'], arch_config['signal_length']), \n",
    "                 blocks_dim=list(zip(arch_config['net_filter_size'], arch_config['net_signal_length'])),\n",
    "                 kernel_size=arch_config['kernel_size'],\n",
    "                 dropout_rate=arch_config['dropout_rate'])\n",
    "model = model.to(device)\n",
    "\n",
    "criterion = torch.nn.CrossEntropyLoss(reduction='sum')\n",
    "optimizer = torch.optim.AdamW(model.parameters(), lr=train_config['learning_rate'], weight_decay=1e-7)"
   ]
  },
  {
   "cell_type": "code",
   "execution_count": null,
   "id": "49b3783e",
   "metadata": {},
   "outputs": [],
   "source": [
    "train_losses = []\n",
    "val_losses = []"
   ]
  },
  {
   "cell_type": "code",
   "execution_count": null,
   "id": "d82c984d",
   "metadata": {
    "scrolled": true
   },
   "outputs": [],
   "source": [
    "for epoch in range(train_config['num_epochs']):\n",
    "    train_losses.append(train_one_epoch(model, optimizer, criterion, trainloader, epoch))\n",
    "    val_losses.append(validate(model, testloader, criterion))"
   ]
  },
  {
   "cell_type": "code",
   "execution_count": null,
   "id": "266e0cb1",
   "metadata": {},
   "outputs": [],
   "source": [
    "import matplotlib.pyplot as plt\n",
    "plt.plot(train_losses)\n",
    "plt.plot(val_losses)"
   ]
  },
  {
   "cell_type": "code",
   "execution_count": null,
   "id": "aee49f8a",
   "metadata": {},
   "outputs": [],
   "source": []
  },
  {
   "cell_type": "code",
   "execution_count": null,
   "id": "b2df1f16",
   "metadata": {},
   "outputs": [],
   "source": []
  }
 ],
 "metadata": {
  "kernelspec": {
   "display_name": "Python 3 (ipykernel)",
   "language": "python",
   "name": "python3"
  },
  "language_info": {
   "codemirror_mode": {
    "name": "ipython",
    "version": 3
   },
   "file_extension": ".py",
   "mimetype": "text/x-python",
   "name": "python",
   "nbconvert_exporter": "python",
   "pygments_lexer": "ipython3",
   "version": "3.8.16"
  }
 },
 "nbformat": 4,
 "nbformat_minor": 5
}
