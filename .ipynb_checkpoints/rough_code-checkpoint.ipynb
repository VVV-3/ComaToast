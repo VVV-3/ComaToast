{
 "cells": [
  {
   "cell_type": "code",
   "execution_count": 1,
   "id": "224dc9af",
   "metadata": {},
   "outputs": [],
   "source": [
    "# from src.datasets import patientDataset, eegDataset\n",
    "# from src.resnet import ResNet1d\n",
    "# from src.lstm import Lstm\n",
    "from tqdm import tqdm\n",
    "import numpy as np\n",
    "import mne\n",
    "from helper_code import *\n",
    "import matplotlib.pyplot as plt"
   ]
  },
  {
   "cell_type": "code",
   "execution_count": 51,
   "id": "ddf39cd0",
   "metadata": {},
   "outputs": [],
   "source": [
    "import numpy as np\n",
    "from scipy import signal\n",
    "\n",
    "def psd(eeg_data, fs):\n",
    "    # Define frequency bands of interest (in Hz)\n",
    "    freq_bands = {'delta': [0.5, 4],\n",
    "              'theta': [4, 8],\n",
    "              'alpha': [8, 12],\n",
    "              'beta': [12, 30]}\n",
    "\n",
    "    # Define sampling frequency (in Hz)\n",
    "    fs = 60\n",
    "\n",
    "    # Compute PSD and extract power in each frequency band for each epoch\n",
    "    freqs, psds = signal.welch(eeg_data, fs=fs, nperseg=fs*2)\n",
    "    band_powers = {}\n",
    "    for band, freq_range in freq_bands.items():\n",
    "        freq_mask = (freqs >= freq_range[0]) & (freqs < freq_range[1])\n",
    "        band_powers[band] = psds[:, freq_mask].mean(axis=1)\n",
    "        \n",
    "    return np.concatenate([band_powers[band] for band in freq_bands])\n",
    "\n",
    "def bsr(eeg_data, sfreq):\n",
    "\n",
    "    # Define the  duration of the epochs (in seconds)\n",
    "    epoch_duration = 1\n",
    "\n",
    "    # Define the frequency band of interest for the BSR computation (in Hz)\n",
    "    freq_band = [0.5, 25]\n",
    "\n",
    "    # Define the threshold for the BSR computation as a fraction of the median RMS amplitude\n",
    "    bsr_threshold = 0.5\n",
    "\n",
    "    # Filter the EEG data in the frequency band of interest using a Butterworth filter\n",
    "    nyquist_freq = sfreq / 2\n",
    "    b, a = signal.butter(4, [freq_band[0] / nyquist_freq, freq_band[1] / nyquist_freq], btype='bandpass')\n",
    "    filtered_data = signal.filtfilt(b, a, eeg_data)\n",
    "\n",
    "    # Compute the root mean square (RMS) amplitude of each epoch\n",
    "    epoch_samples = int(epoch_duration * sfreq)\n",
    "    n_epochs = filtered_data.shape[-1] // epoch_samples\n",
    "    epochs = filtered_data[:, :n_epochs * epoch_samples].reshape(18, n_epochs, epoch_samples)\n",
    "    \n",
    "    rms_amplitude = np.sqrt(np.mean(epochs ** 2, axis=-1))\n",
    "\n",
    "    # Compute the median RMS amplitude across all epochs\n",
    "    median_rms = np.median(rms_amplitude)\n",
    "#     print(rms_amplitude.shape, median_rms)\n",
    "    # Compute the percentage of epochs that have an RMS amplitude below the BSR threshold\n",
    "    bsr = (rms_amplitude < bsr_threshold * median_rms).mean(axis=-1) * 100\n",
    "\n",
    "    return bsr\n"
   ]
  },
  {
   "cell_type": "code",
   "execution_count": 52,
   "id": "9d56fae4",
   "metadata": {},
   "outputs": [],
   "source": [
    "import torch\n",
    "from torch.utils.data import Dataset\n",
    "from helper_code import *\n",
    "import numpy as np, os, sys\n",
    "import librosa\n",
    "import mne\n",
    "import torchaudio.transforms as T\n",
    "\n",
    "from tqdm import tqdm\n",
    "\n",
    "n_fft = 2048\n",
    "hop_length = 512\n",
    "n_mels = 256\n",
    "n_mfcc = 256\n",
    "\n",
    "\n",
    "def featurise_recording(location):\n",
    "    channels = ['Fp1-F7', 'F7-T3', 'T3-T5', 'T5-O1', 'Fp2-F8', 'F8-T4', \n",
    "                'T4-T6', 'T6-O2', 'Fp1-F3', 'F3-C3', 'C3-P3', 'P3-O1', \n",
    "                'Fp2-F4', 'F4-C4', 'C4-P4', 'P4-O2', 'Fz-Cz', 'Cz-Pz']\n",
    "    recording_data, sr, cur_channels = load_recording(location)\n",
    "    signal_data = reorder_recording_channels(recording_data, cur_channels, channels)\n",
    "    resampled_data = librosa.resample(y=signal_data, orig_sr=sr, target_sr=60)\n",
    "    final2 = psd(resampled_data, 60)\n",
    "    final1 = bsr(resampled_data, 60)\n",
    "    final3 = dwt(resampled_data, 60)\n",
    "    \n",
    "    final = np.concatenate((final1, final2))\n",
    "    return final\n",
    "\n",
    "def featurise_locs(locs):\n",
    "    fin = []\n",
    "    fin.append(featurise_recording(locs[0]))\n",
    "    fin.append(featurise_recording(locs[len(locs)//2]))\n",
    "    fin.append(featurise_recording(locs[-1]))\n",
    "    fin = np.array(fin).flatten()\n",
    "#     print(fin.shape)\n",
    "    return fin\n",
    "\n",
    "def featurise_labels(label):\n",
    "#     print(label)\n",
    "    tp = np.array([0,0])\n",
    "    tp[label] = 1\n",
    "    return tp\n",
    "\n",
    "class patientDataset(Dataset):\n",
    "    def __init__(self, data_folder, segs):\n",
    "        \n",
    "        self.no_of_segments = segs\n",
    "        \n",
    "        self.data_folder  = data_folder\n",
    "        self.patient_ids  = find_data_folders(data_folder)\n",
    "        self.num_patients = len(self.patient_ids)\n",
    "        \n",
    "        self.inputs = []\n",
    "        self.outcomes = []\n",
    "        \n",
    "        for i in tqdm(range(self.num_patients)):\n",
    "            inp, out = self.getitemx(i)\n",
    "#             if inp.shape[0] == self.no_of_segments:\n",
    "            self.inputs.append(inp)\n",
    "            self.outcomes.append(out)\n",
    "#         self.inputs = np.array(self.inputs)\n",
    "#         self.outcomes = np.array(self.outcomes)\n",
    "        \n",
    "    def getMetadata(self, idx):\n",
    "        # Load data.\n",
    "        patient_id = self.patient_ids[idx]\n",
    "        \n",
    "        # Define file location.\n",
    "        patient_metadata_file = os.path.join(self.data_folder, patient_id, patient_id + '.txt')\n",
    "        recording_metadata_file = os.path.join(self.data_folder, patient_id, patient_id + '.tsv')\n",
    "\n",
    "        # Load non-recording data.\n",
    "        patient_metadata = load_text_file(patient_metadata_file)\n",
    "        recording_metadata = load_text_file(recording_metadata_file)\n",
    "        \n",
    "        return patient_metadata, recording_metadata\n",
    "        \n",
    "    def getitemx(self, index):\n",
    "        \n",
    "        patient_metadata, recording_metadata = self.getMetadata(index)\n",
    "        \n",
    "        # Load recordings.\n",
    "        recording_ids = list(get_recording_ids(recording_metadata))\n",
    "        \n",
    "        recording_locations = []\n",
    "        for recording_id in reversed(recording_ids):\n",
    "            if recording_id != 'nan':\n",
    "                recording_location = os.path.join(self.data_folder, self.patient_ids[index], recording_id)\n",
    "                recording_locations.append(recording_location)\n",
    "            \n",
    "            if len(recording_locations) >= self.no_of_segments:\n",
    "                break\n",
    "        recording_locations.reverse()\n",
    "        return featurise_locs(recording_locations), featurise_labels(get_outcome(patient_metadata))\n",
    "    \n",
    "    def __getitem__(self, index):\n",
    "        \n",
    "        return self.inputs[index], self.outcomes[index]\n",
    "        \n",
    "    def __len__(self):\n",
    "        return self.num_patients"
   ]
  },
  {
   "cell_type": "code",
   "execution_count": 64,
   "id": "f431a135",
   "metadata": {},
   "outputs": [],
   "source": [
    "import pywt\n",
    "import numpy as np\n",
    "\n",
    "def dwt(eeg_signal, sfreq):\n",
    "    eeg_signal = eeg_signal[:, 170*sfreq:180*sfreq]\n",
    "    # Define the wavelet family and level of decomposition\n",
    "    wavelet = 'db4'\n",
    "    level = 5\n",
    "\n",
    "    # Compute the wavelet coefficients for each channel\n",
    "    coeffs_list = []\n",
    "    for ch_signal in eeg_signal:\n",
    "        coeffs = pywt.wavedec(ch_signal, wavelet, level=level)\n",
    "        coeffs_list.append(coeffs)\n",
    "\n",
    "    # Extract the coefficients corresponding to each frequency band for each channel\n",
    "    delta_coeffs_list = []\n",
    "    theta_coeffs_list = []\n",
    "    alpha_coeffs_list = []\n",
    "    beta_coeffs_list = []\n",
    "    for coeffs in coeffs_list:\n",
    "        delta_coeffs = coeffs[level]\n",
    "        theta_coeffs = coeffs[level-1]\n",
    "        alpha_coeffs = coeffs[level-2]\n",
    "        beta_coeffs = coeffs[level-3]\n",
    "        delta_coeffs_list.append(delta_coeffs)\n",
    "        theta_coeffs_list.append(theta_coeffs)\n",
    "        alpha_coeffs_list.append(alpha_coeffs)\n",
    "        beta_coeffs_list.append(beta_coeffs)\n",
    "\n",
    "    # Stack the coefficient arrays for each frequency band across channels\n",
    "    delta_coeffs = np.stack(delta_coeffs_list, axis=0)\n",
    "    theta_coeffs = np.stack(theta_coeffs_list, axis=0)\n",
    "    alpha_coeffs = np.stack(alpha_coeffs_list, axis=0)\n",
    "    beta_coeffs = np.stack(beta_coeffs_list, axis=0)\n",
    "    \n",
    "    fin = np.concatenate( (delta_coeffs, theta_coeffs, alpha_coeffs, beta_coeffs), axis=1 )\n",
    "    \n",
    "    return fin.mean(axis=1)\n"
   ]
  },
  {
   "cell_type": "code",
   "execution_count": 63,
   "id": "59622179",
   "metadata": {},
   "outputs": [
    {
     "name": "stderr",
     "output_type": "stream",
     "text": [
      "  0%|          | 2/486 [00:00<00:38, 12.63it/s]"
     ]
    },
    {
     "name": "stdout",
     "output_type": "stream",
     "text": [
      "(18, 583)\n",
      "(18, 583)\n",
      "(18, 583)\n",
      "(18, 583)\n",
      "(18, 583)\n",
      "(18, 583)\n",
      "(18, 583)\n",
      "(18, 583)\n"
     ]
    },
    {
     "name": "stderr",
     "output_type": "stream",
     "text": [
      "\r",
      "  1%|          | 4/486 [00:00<00:38, 12.64it/s]"
     ]
    },
    {
     "name": "stdout",
     "output_type": "stream",
     "text": [
      "(18, 583)\n",
      "(18, 583)\n",
      "(18, 583)\n",
      "(18, 583)\n",
      "(18, 583)\n",
      "(18, 583)\n",
      "(18, 583)\n",
      "(18, 583)\n"
     ]
    },
    {
     "name": "stderr",
     "output_type": "stream",
     "text": [
      "  2%|▏         | 8/486 [00:00<00:37, 12.75it/s]"
     ]
    },
    {
     "name": "stdout",
     "output_type": "stream",
     "text": [
      "(18, 583)\n",
      "(18, 583)\n",
      "(18, 583)\n",
      "(18, 583)\n",
      "(18, 583)\n",
      "(18, 583)\n",
      "(18, 583)\n",
      "(18, 583)\n"
     ]
    },
    {
     "name": "stderr",
     "output_type": "stream",
     "text": [
      "\r",
      "  2%|▏         | 10/486 [00:00<00:37, 12.76it/s]"
     ]
    },
    {
     "name": "stdout",
     "output_type": "stream",
     "text": [
      "(18, 583)\n",
      "(18, 583)\n",
      "(18, 583)\n",
      "(18, 583)\n",
      "(18, 583)\n",
      "(18, 583)\n",
      "(18, 583)\n",
      "(18, 583)\n"
     ]
    },
    {
     "name": "stderr",
     "output_type": "stream",
     "text": [
      "\r",
      "  2%|▏         | 12/486 [00:00<00:37, 12.74it/s]"
     ]
    },
    {
     "name": "stdout",
     "output_type": "stream",
     "text": [
      "(18, 583)\n",
      "(18, 583)\n",
      "(18, 583)\n",
      "(18, 583)\n",
      "(18, 583)\n",
      "(18, 583)\n",
      "(18, 583)\n",
      "(18, 583)\n"
     ]
    },
    {
     "name": "stderr",
     "output_type": "stream",
     "text": [
      "  3%|▎         | 16/486 [00:01<00:35, 13.43it/s]"
     ]
    },
    {
     "name": "stdout",
     "output_type": "stream",
     "text": [
      "(18, 583)\n",
      "(18, 583)\n",
      "(18, 583)\n",
      "(18, 583)\n",
      "(18, 583)\n",
      "(18, 583)\n",
      "(18, 583)\n",
      "(18, 583)\n",
      "(18, 583)\n",
      "(18, 583)\n"
     ]
    },
    {
     "name": "stderr",
     "output_type": "stream",
     "text": [
      "  4%|▍         | 20/486 [00:01<00:31, 14.93it/s]"
     ]
    },
    {
     "name": "stdout",
     "output_type": "stream",
     "text": [
      "(18, 583)\n",
      "(18, 583)\n",
      "(18, 583)\n",
      "(18, 583)\n",
      "(18, 583)\n",
      "(18, 583)\n",
      "(18, 583)\n",
      "(18, 583)\n",
      "(18, 583)\n",
      "(18, 583)\n"
     ]
    },
    {
     "name": "stderr",
     "output_type": "stream",
     "text": [
      "\r",
      "  5%|▍         | 22/486 [00:01<00:30, 15.34it/s]"
     ]
    },
    {
     "name": "stdout",
     "output_type": "stream",
     "text": [
      "(18, 583)\n",
      "(18, 583)\n",
      "(18, 583)\n",
      "(18, 583)\n",
      "(18, 583)\n",
      "(18, 583)\n",
      "(18, 583)\n",
      "(18, 583)\n",
      "(18, 583)\n",
      "(18, 583)\n",
      "(18, 583)\n"
     ]
    },
    {
     "name": "stderr",
     "output_type": "stream",
     "text": [
      "  5%|▌         | 26/486 [00:01<00:28, 15.98it/s]"
     ]
    },
    {
     "name": "stdout",
     "output_type": "stream",
     "text": [
      "(18, 583)\n",
      "(18, 583)\n",
      "(18, 583)\n",
      "(18, 583)\n",
      "(18, 583)\n",
      "(18, 583)\n",
      "(18, 583)\n",
      "(18, 583)\n",
      "(18, 583)\n",
      "(18, 583)\n",
      "(18, 583)\n"
     ]
    },
    {
     "name": "stderr",
     "output_type": "stream",
     "text": [
      "  6%|▌         | 30/486 [00:02<00:27, 16.38it/s]"
     ]
    },
    {
     "name": "stdout",
     "output_type": "stream",
     "text": [
      "(18, 583)\n",
      "(18, 583)\n",
      "(18, 583)\n",
      "(18, 583)\n",
      "(18, 583)\n",
      "(18, 583)\n",
      "(18, 583)\n",
      "(18, 583)\n",
      "(18, 583)\n",
      "(18, 583)\n",
      "(18, 583)\n"
     ]
    },
    {
     "name": "stderr",
     "output_type": "stream",
     "text": [
      "  7%|▋         | 34/486 [00:02<00:27, 16.55it/s]"
     ]
    },
    {
     "name": "stdout",
     "output_type": "stream",
     "text": [
      "(18, 583)\n",
      "(18, 583)\n",
      "(18, 583)\n",
      "(18, 583)\n",
      "(18, 583)\n",
      "(18, 583)\n",
      "(18, 583)\n",
      "(18, 583)\n",
      "(18, 583)\n",
      "(18, 583)\n",
      "(18, 583)\n"
     ]
    },
    {
     "name": "stderr",
     "output_type": "stream",
     "text": [
      "  8%|▊         | 38/486 [00:02<00:26, 16.66it/s]"
     ]
    },
    {
     "name": "stdout",
     "output_type": "stream",
     "text": [
      "(18, 583)\n",
      "(18, 583)\n",
      "(18, 583)\n",
      "(18, 583)\n",
      "(18, 583)\n",
      "(18, 583)\n",
      "(18, 583)\n",
      "(18, 583)\n",
      "(18, 583)\n",
      "(18, 583)\n",
      "(18, 583)\n"
     ]
    },
    {
     "name": "stderr",
     "output_type": "stream",
     "text": [
      "  8%|▊         | 41/486 [00:02<00:29, 14.95it/s]\n"
     ]
    },
    {
     "name": "stdout",
     "output_type": "stream",
     "text": [
      "(18, 583)\n",
      "(18, 583)\n",
      "(18, 583)\n",
      "(18, 583)\n",
      "(18, 583)\n",
      "(18, 583)\n",
      "(18, 583)\n",
      "(18, 583)\n"
     ]
    },
    {
     "ename": "KeyboardInterrupt",
     "evalue": "",
     "output_type": "error",
     "traceback": [
      "\u001b[0;31m---------------------------------------------------------------------------\u001b[0m",
      "\u001b[0;31mKeyboardInterrupt\u001b[0m                         Traceback (most recent call last)",
      "Cell \u001b[0;32mIn[63], line 5\u001b[0m\n\u001b[1;32m      2\u001b[0m \u001b[38;5;28;01mimport\u001b[39;00m \u001b[38;5;21;01mtorch\u001b[39;00m\n\u001b[1;32m      4\u001b[0m no_of_segs \u001b[38;5;241m=\u001b[39m \u001b[38;5;241m82\u001b[39m\n\u001b[0;32m----> 5\u001b[0m pattrainset \u001b[38;5;241m=\u001b[39m \u001b[43mpatientDataset\u001b[49m\u001b[43m(\u001b[49m\u001b[38;5;124;43m\"\u001b[39;49m\u001b[38;5;124;43m../train/\u001b[39;49m\u001b[38;5;124;43m\"\u001b[39;49m\u001b[43m,\u001b[49m\u001b[43m \u001b[49m\u001b[43mno_of_segs\u001b[49m\u001b[43m)\u001b[49m\n\u001b[1;32m      7\u001b[0m pattestset \u001b[38;5;241m=\u001b[39m patientDataset(\u001b[38;5;124m\"\u001b[39m\u001b[38;5;124m../split_5/\u001b[39m\u001b[38;5;124m\"\u001b[39m, no_of_segs)\n\u001b[1;32m      9\u001b[0m device \u001b[38;5;241m=\u001b[39m torch\u001b[38;5;241m.\u001b[39mdevice(\u001b[38;5;124m'\u001b[39m\u001b[38;5;124mcuda\u001b[39m\u001b[38;5;124m'\u001b[39m \u001b[38;5;28;01mif\u001b[39;00m torch\u001b[38;5;241m.\u001b[39mcuda\u001b[38;5;241m.\u001b[39mis_available() \u001b[38;5;28;01melse\u001b[39;00m \u001b[38;5;124m'\u001b[39m\u001b[38;5;124mcpu\u001b[39m\u001b[38;5;124m'\u001b[39m)\n",
      "Cell \u001b[0;32mIn[52], line 59\u001b[0m, in \u001b[0;36mpatientDataset.__init__\u001b[0;34m(self, data_folder, segs)\u001b[0m\n\u001b[1;32m     56\u001b[0m         \u001b[38;5;28mself\u001b[39m\u001b[38;5;241m.\u001b[39moutcomes \u001b[38;5;241m=\u001b[39m []\n\u001b[1;32m     58\u001b[0m         \u001b[38;5;28;01mfor\u001b[39;00m i \u001b[38;5;129;01min\u001b[39;00m tqdm(\u001b[38;5;28mrange\u001b[39m(\u001b[38;5;28mself\u001b[39m\u001b[38;5;241m.\u001b[39mnum_patients)):\n\u001b[0;32m---> 59\u001b[0m             inp, out \u001b[38;5;241m=\u001b[39m \u001b[38;5;28;43mself\u001b[39;49m\u001b[38;5;241;43m.\u001b[39;49m\u001b[43mgetitemx\u001b[49m\u001b[43m(\u001b[49m\u001b[43mi\u001b[49m\u001b[43m)\u001b[49m\n\u001b[1;32m     60\u001b[0m \u001b[38;5;66;03m#             if inp.shape[0] == self.no_of_segments:\u001b[39;00m\n\u001b[1;32m     61\u001b[0m             \u001b[38;5;28mself\u001b[39m\u001b[38;5;241m.\u001b[39minputs\u001b[38;5;241m.\u001b[39mappend(inp)\n",
      "Cell \u001b[0;32mIn[52], line 96\u001b[0m, in \u001b[0;36mpatientDataset.getitemx\u001b[0;34m(self, index)\u001b[0m\n\u001b[1;32m     94\u001b[0m         \u001b[38;5;28;01mbreak\u001b[39;00m\n\u001b[1;32m     95\u001b[0m recording_locations\u001b[38;5;241m.\u001b[39mreverse()\n\u001b[0;32m---> 96\u001b[0m \u001b[38;5;28;01mreturn\u001b[39;00m \u001b[43mfeaturise_locs\u001b[49m\u001b[43m(\u001b[49m\u001b[43mrecording_locations\u001b[49m\u001b[43m)\u001b[49m, featurise_labels(get_outcome(patient_metadata))\n",
      "Cell \u001b[0;32mIn[52], line 33\u001b[0m, in \u001b[0;36mfeaturise_locs\u001b[0;34m(locs)\u001b[0m\n\u001b[1;32m     31\u001b[0m \u001b[38;5;28;01mdef\u001b[39;00m \u001b[38;5;21mfeaturise_locs\u001b[39m(locs):\n\u001b[1;32m     32\u001b[0m     fin \u001b[38;5;241m=\u001b[39m []\n\u001b[0;32m---> 33\u001b[0m     fin\u001b[38;5;241m.\u001b[39mappend(\u001b[43mfeaturise_recording\u001b[49m\u001b[43m(\u001b[49m\u001b[43mlocs\u001b[49m\u001b[43m[\u001b[49m\u001b[38;5;241;43m0\u001b[39;49m\u001b[43m]\u001b[49m\u001b[43m)\u001b[49m)\n\u001b[1;32m     34\u001b[0m     fin\u001b[38;5;241m.\u001b[39mappend(featurise_recording(locs[\u001b[38;5;28mlen\u001b[39m(locs)\u001b[38;5;241m/\u001b[39m\u001b[38;5;241m/\u001b[39m\u001b[38;5;241m2\u001b[39m]))\n\u001b[1;32m     35\u001b[0m     fin\u001b[38;5;241m.\u001b[39mappend(featurise_recording(locs[\u001b[38;5;241m-\u001b[39m\u001b[38;5;241m1\u001b[39m]))\n",
      "Cell \u001b[0;32mIn[52], line 24\u001b[0m, in \u001b[0;36mfeaturise_recording\u001b[0;34m(location)\u001b[0m\n\u001b[1;32m     22\u001b[0m signal_data \u001b[38;5;241m=\u001b[39m reorder_recording_channels(recording_data, cur_channels, channels)\n\u001b[1;32m     23\u001b[0m resampled_data \u001b[38;5;241m=\u001b[39m librosa\u001b[38;5;241m.\u001b[39mresample(y\u001b[38;5;241m=\u001b[39msignal_data, orig_sr\u001b[38;5;241m=\u001b[39msr, target_sr\u001b[38;5;241m=\u001b[39m\u001b[38;5;241m60\u001b[39m)\n\u001b[0;32m---> 24\u001b[0m final2 \u001b[38;5;241m=\u001b[39m \u001b[43mpsd\u001b[49m\u001b[43m(\u001b[49m\u001b[43mresampled_data\u001b[49m\u001b[43m,\u001b[49m\u001b[43m \u001b[49m\u001b[38;5;241;43m60\u001b[39;49m\u001b[43m)\u001b[49m\n\u001b[1;32m     25\u001b[0m final1 \u001b[38;5;241m=\u001b[39m bsr(resampled_data, \u001b[38;5;241m60\u001b[39m)\n\u001b[1;32m     26\u001b[0m dwt(resampled_data, \u001b[38;5;241m60\u001b[39m)\n",
      "Cell \u001b[0;32mIn[51], line 15\u001b[0m, in \u001b[0;36mpsd\u001b[0;34m(eeg_data, fs)\u001b[0m\n\u001b[1;32m     12\u001b[0m fs \u001b[38;5;241m=\u001b[39m \u001b[38;5;241m60\u001b[39m\n\u001b[1;32m     14\u001b[0m \u001b[38;5;66;03m# Compute PSD and extract power in each frequency band for each epoch\u001b[39;00m\n\u001b[0;32m---> 15\u001b[0m freqs, psds \u001b[38;5;241m=\u001b[39m \u001b[43msignal\u001b[49m\u001b[38;5;241;43m.\u001b[39;49m\u001b[43mwelch\u001b[49m\u001b[43m(\u001b[49m\u001b[43meeg_data\u001b[49m\u001b[43m,\u001b[49m\u001b[43m \u001b[49m\u001b[43mfs\u001b[49m\u001b[38;5;241;43m=\u001b[39;49m\u001b[43mfs\u001b[49m\u001b[43m,\u001b[49m\u001b[43m \u001b[49m\u001b[43mnperseg\u001b[49m\u001b[38;5;241;43m=\u001b[39;49m\u001b[43mfs\u001b[49m\u001b[38;5;241;43m*\u001b[39;49m\u001b[38;5;241;43m2\u001b[39;49m\u001b[43m)\u001b[49m\n\u001b[1;32m     16\u001b[0m band_powers \u001b[38;5;241m=\u001b[39m {}\n\u001b[1;32m     17\u001b[0m \u001b[38;5;28;01mfor\u001b[39;00m band, freq_range \u001b[38;5;129;01min\u001b[39;00m freq_bands\u001b[38;5;241m.\u001b[39mitems():\n",
      "File \u001b[0;32m~/miniconda3/envs/tdl/lib/python3.8/site-packages/scipy/signal/_spectral_py.py:455\u001b[0m, in \u001b[0;36mwelch\u001b[0;34m(x, fs, window, nperseg, noverlap, nfft, detrend, return_onesided, scaling, axis, average)\u001b[0m\n\u001b[1;32m    297\u001b[0m \u001b[38;5;28;01mdef\u001b[39;00m \u001b[38;5;21mwelch\u001b[39m(x, fs\u001b[38;5;241m=\u001b[39m\u001b[38;5;241m1.0\u001b[39m, window\u001b[38;5;241m=\u001b[39m\u001b[38;5;124m'\u001b[39m\u001b[38;5;124mhann\u001b[39m\u001b[38;5;124m'\u001b[39m, nperseg\u001b[38;5;241m=\u001b[39m\u001b[38;5;28;01mNone\u001b[39;00m, noverlap\u001b[38;5;241m=\u001b[39m\u001b[38;5;28;01mNone\u001b[39;00m, nfft\u001b[38;5;241m=\u001b[39m\u001b[38;5;28;01mNone\u001b[39;00m,\n\u001b[1;32m    298\u001b[0m           detrend\u001b[38;5;241m=\u001b[39m\u001b[38;5;124m'\u001b[39m\u001b[38;5;124mconstant\u001b[39m\u001b[38;5;124m'\u001b[39m, return_onesided\u001b[38;5;241m=\u001b[39m\u001b[38;5;28;01mTrue\u001b[39;00m, scaling\u001b[38;5;241m=\u001b[39m\u001b[38;5;124m'\u001b[39m\u001b[38;5;124mdensity\u001b[39m\u001b[38;5;124m'\u001b[39m,\n\u001b[1;32m    299\u001b[0m           axis\u001b[38;5;241m=\u001b[39m\u001b[38;5;241m-\u001b[39m\u001b[38;5;241m1\u001b[39m, average\u001b[38;5;241m=\u001b[39m\u001b[38;5;124m'\u001b[39m\u001b[38;5;124mmean\u001b[39m\u001b[38;5;124m'\u001b[39m):\n\u001b[1;32m    300\u001b[0m     \u001b[38;5;124mr\u001b[39m\u001b[38;5;124;03m\"\"\"\u001b[39;00m\n\u001b[1;32m    301\u001b[0m \u001b[38;5;124;03m    Estimate power spectral density using Welch's method.\u001b[39;00m\n\u001b[1;32m    302\u001b[0m \n\u001b[0;32m   (...)\u001b[0m\n\u001b[1;32m    453\u001b[0m \n\u001b[1;32m    454\u001b[0m \u001b[38;5;124;03m    \"\"\"\u001b[39;00m\n\u001b[0;32m--> 455\u001b[0m     freqs, Pxx \u001b[38;5;241m=\u001b[39m \u001b[43mcsd\u001b[49m\u001b[43m(\u001b[49m\u001b[43mx\u001b[49m\u001b[43m,\u001b[49m\u001b[43m \u001b[49m\u001b[43mx\u001b[49m\u001b[43m,\u001b[49m\u001b[43m \u001b[49m\u001b[43mfs\u001b[49m\u001b[38;5;241;43m=\u001b[39;49m\u001b[43mfs\u001b[49m\u001b[43m,\u001b[49m\u001b[43m \u001b[49m\u001b[43mwindow\u001b[49m\u001b[38;5;241;43m=\u001b[39;49m\u001b[43mwindow\u001b[49m\u001b[43m,\u001b[49m\u001b[43m \u001b[49m\u001b[43mnperseg\u001b[49m\u001b[38;5;241;43m=\u001b[39;49m\u001b[43mnperseg\u001b[49m\u001b[43m,\u001b[49m\n\u001b[1;32m    456\u001b[0m \u001b[43m                     \u001b[49m\u001b[43mnoverlap\u001b[49m\u001b[38;5;241;43m=\u001b[39;49m\u001b[43mnoverlap\u001b[49m\u001b[43m,\u001b[49m\u001b[43m \u001b[49m\u001b[43mnfft\u001b[49m\u001b[38;5;241;43m=\u001b[39;49m\u001b[43mnfft\u001b[49m\u001b[43m,\u001b[49m\u001b[43m \u001b[49m\u001b[43mdetrend\u001b[49m\u001b[38;5;241;43m=\u001b[39;49m\u001b[43mdetrend\u001b[49m\u001b[43m,\u001b[49m\n\u001b[1;32m    457\u001b[0m \u001b[43m                     \u001b[49m\u001b[43mreturn_onesided\u001b[49m\u001b[38;5;241;43m=\u001b[39;49m\u001b[43mreturn_onesided\u001b[49m\u001b[43m,\u001b[49m\u001b[43m \u001b[49m\u001b[43mscaling\u001b[49m\u001b[38;5;241;43m=\u001b[39;49m\u001b[43mscaling\u001b[49m\u001b[43m,\u001b[49m\n\u001b[1;32m    458\u001b[0m \u001b[43m                     \u001b[49m\u001b[43maxis\u001b[49m\u001b[38;5;241;43m=\u001b[39;49m\u001b[43maxis\u001b[49m\u001b[43m,\u001b[49m\u001b[43m \u001b[49m\u001b[43maverage\u001b[49m\u001b[38;5;241;43m=\u001b[39;49m\u001b[43maverage\u001b[49m\u001b[43m)\u001b[49m\n\u001b[1;32m    460\u001b[0m     \u001b[38;5;28;01mreturn\u001b[39;00m freqs, Pxx\u001b[38;5;241m.\u001b[39mreal\n",
      "File \u001b[0;32m~/miniconda3/envs/tdl/lib/python3.8/site-packages/scipy/signal/_spectral_py.py:590\u001b[0m, in \u001b[0;36mcsd\u001b[0;34m(x, y, fs, window, nperseg, noverlap, nfft, detrend, return_onesided, scaling, axis, average)\u001b[0m\n\u001b[1;32m    463\u001b[0m \u001b[38;5;28;01mdef\u001b[39;00m \u001b[38;5;21mcsd\u001b[39m(x, y, fs\u001b[38;5;241m=\u001b[39m\u001b[38;5;241m1.0\u001b[39m, window\u001b[38;5;241m=\u001b[39m\u001b[38;5;124m'\u001b[39m\u001b[38;5;124mhann\u001b[39m\u001b[38;5;124m'\u001b[39m, nperseg\u001b[38;5;241m=\u001b[39m\u001b[38;5;28;01mNone\u001b[39;00m, noverlap\u001b[38;5;241m=\u001b[39m\u001b[38;5;28;01mNone\u001b[39;00m, nfft\u001b[38;5;241m=\u001b[39m\u001b[38;5;28;01mNone\u001b[39;00m,\n\u001b[1;32m    464\u001b[0m         detrend\u001b[38;5;241m=\u001b[39m\u001b[38;5;124m'\u001b[39m\u001b[38;5;124mconstant\u001b[39m\u001b[38;5;124m'\u001b[39m, return_onesided\u001b[38;5;241m=\u001b[39m\u001b[38;5;28;01mTrue\u001b[39;00m, scaling\u001b[38;5;241m=\u001b[39m\u001b[38;5;124m'\u001b[39m\u001b[38;5;124mdensity\u001b[39m\u001b[38;5;124m'\u001b[39m,\n\u001b[1;32m    465\u001b[0m         axis\u001b[38;5;241m=\u001b[39m\u001b[38;5;241m-\u001b[39m\u001b[38;5;241m1\u001b[39m, average\u001b[38;5;241m=\u001b[39m\u001b[38;5;124m'\u001b[39m\u001b[38;5;124mmean\u001b[39m\u001b[38;5;124m'\u001b[39m):\n\u001b[1;32m    466\u001b[0m     \u001b[38;5;124mr\u001b[39m\u001b[38;5;124;03m\"\"\"\u001b[39;00m\n\u001b[1;32m    467\u001b[0m \u001b[38;5;124;03m    Estimate the cross power spectral density, Pxy, using Welch's method.\u001b[39;00m\n\u001b[1;32m    468\u001b[0m \n\u001b[0;32m   (...)\u001b[0m\n\u001b[1;32m    588\u001b[0m \n\u001b[1;32m    589\u001b[0m \u001b[38;5;124;03m    \"\"\"\u001b[39;00m\n\u001b[0;32m--> 590\u001b[0m     freqs, _, Pxy \u001b[38;5;241m=\u001b[39m \u001b[43m_spectral_helper\u001b[49m\u001b[43m(\u001b[49m\u001b[43mx\u001b[49m\u001b[43m,\u001b[49m\u001b[43m \u001b[49m\u001b[43my\u001b[49m\u001b[43m,\u001b[49m\u001b[43m \u001b[49m\u001b[43mfs\u001b[49m\u001b[43m,\u001b[49m\u001b[43m \u001b[49m\u001b[43mwindow\u001b[49m\u001b[43m,\u001b[49m\u001b[43m \u001b[49m\u001b[43mnperseg\u001b[49m\u001b[43m,\u001b[49m\u001b[43m \u001b[49m\u001b[43mnoverlap\u001b[49m\u001b[43m,\u001b[49m\u001b[43m \u001b[49m\u001b[43mnfft\u001b[49m\u001b[43m,\u001b[49m\n\u001b[1;32m    591\u001b[0m \u001b[43m                                     \u001b[49m\u001b[43mdetrend\u001b[49m\u001b[43m,\u001b[49m\u001b[43m \u001b[49m\u001b[43mreturn_onesided\u001b[49m\u001b[43m,\u001b[49m\u001b[43m \u001b[49m\u001b[43mscaling\u001b[49m\u001b[43m,\u001b[49m\u001b[43m \u001b[49m\u001b[43maxis\u001b[49m\u001b[43m,\u001b[49m\n\u001b[1;32m    592\u001b[0m \u001b[43m                                     \u001b[49m\u001b[43mmode\u001b[49m\u001b[38;5;241;43m=\u001b[39;49m\u001b[38;5;124;43m'\u001b[39;49m\u001b[38;5;124;43mpsd\u001b[39;49m\u001b[38;5;124;43m'\u001b[39;49m\u001b[43m)\u001b[49m\n\u001b[1;32m    594\u001b[0m     \u001b[38;5;66;03m# Average over windows.\u001b[39;00m\n\u001b[1;32m    595\u001b[0m     \u001b[38;5;28;01mif\u001b[39;00m \u001b[38;5;28mlen\u001b[39m(Pxy\u001b[38;5;241m.\u001b[39mshape) \u001b[38;5;241m>\u001b[39m\u001b[38;5;241m=\u001b[39m \u001b[38;5;241m2\u001b[39m \u001b[38;5;129;01mand\u001b[39;00m Pxy\u001b[38;5;241m.\u001b[39msize \u001b[38;5;241m>\u001b[39m \u001b[38;5;241m0\u001b[39m:\n",
      "File \u001b[0;32m~/miniconda3/envs/tdl/lib/python3.8/site-packages/scipy/signal/_spectral_py.py:1885\u001b[0m, in \u001b[0;36m_spectral_helper\u001b[0;34m(x, y, fs, window, nperseg, noverlap, nfft, detrend, return_onesided, scaling, axis, mode, boundary, padded)\u001b[0m\n\u001b[1;32m   1882\u001b[0m     freqs \u001b[38;5;241m=\u001b[39m sp_fft\u001b[38;5;241m.\u001b[39mrfftfreq(nfft, \u001b[38;5;241m1\u001b[39m\u001b[38;5;241m/\u001b[39mfs)\n\u001b[1;32m   1884\u001b[0m \u001b[38;5;66;03m# Perform the windowed FFTs\u001b[39;00m\n\u001b[0;32m-> 1885\u001b[0m result \u001b[38;5;241m=\u001b[39m \u001b[43m_fft_helper\u001b[49m\u001b[43m(\u001b[49m\u001b[43mx\u001b[49m\u001b[43m,\u001b[49m\u001b[43m \u001b[49m\u001b[43mwin\u001b[49m\u001b[43m,\u001b[49m\u001b[43m \u001b[49m\u001b[43mdetrend_func\u001b[49m\u001b[43m,\u001b[49m\u001b[43m \u001b[49m\u001b[43mnperseg\u001b[49m\u001b[43m,\u001b[49m\u001b[43m \u001b[49m\u001b[43mnoverlap\u001b[49m\u001b[43m,\u001b[49m\u001b[43m \u001b[49m\u001b[43mnfft\u001b[49m\u001b[43m,\u001b[49m\u001b[43m \u001b[49m\u001b[43msides\u001b[49m\u001b[43m)\u001b[49m\n\u001b[1;32m   1887\u001b[0m \u001b[38;5;28;01mif\u001b[39;00m \u001b[38;5;129;01mnot\u001b[39;00m same_data:\n\u001b[1;32m   1888\u001b[0m     \u001b[38;5;66;03m# All the same operations on the y data\u001b[39;00m\n\u001b[1;32m   1889\u001b[0m     result_y \u001b[38;5;241m=\u001b[39m _fft_helper(y, win, detrend_func, nperseg, noverlap, nfft,\n\u001b[1;32m   1890\u001b[0m                            sides)\n",
      "File \u001b[0;32m~/miniconda3/envs/tdl/lib/python3.8/site-packages/scipy/signal/_spectral_py.py:1970\u001b[0m, in \u001b[0;36m_fft_helper\u001b[0;34m(x, win, detrend_func, nperseg, noverlap, nfft, sides)\u001b[0m\n\u001b[1;32m   1968\u001b[0m     result \u001b[38;5;241m=\u001b[39m result\u001b[38;5;241m.\u001b[39mreal\n\u001b[1;32m   1969\u001b[0m     func \u001b[38;5;241m=\u001b[39m sp_fft\u001b[38;5;241m.\u001b[39mrfft\n\u001b[0;32m-> 1970\u001b[0m result \u001b[38;5;241m=\u001b[39m \u001b[43mfunc\u001b[49m\u001b[43m(\u001b[49m\u001b[43mresult\u001b[49m\u001b[43m,\u001b[49m\u001b[43m \u001b[49m\u001b[43mn\u001b[49m\u001b[38;5;241;43m=\u001b[39;49m\u001b[43mnfft\u001b[49m\u001b[43m)\u001b[49m\n\u001b[1;32m   1972\u001b[0m \u001b[38;5;28;01mreturn\u001b[39;00m result\n",
      "File \u001b[0;32m~/miniconda3/envs/tdl/lib/python3.8/site-packages/scipy/fft/_backend.py:25\u001b[0m, in \u001b[0;36m_ScipyBackend.__ua_function__\u001b[0;34m(method, args, kwargs)\u001b[0m\n\u001b[1;32m     23\u001b[0m \u001b[38;5;28;01mif\u001b[39;00m fn \u001b[38;5;129;01mis\u001b[39;00m \u001b[38;5;28;01mNone\u001b[39;00m:\n\u001b[1;32m     24\u001b[0m     \u001b[38;5;28;01mreturn\u001b[39;00m \u001b[38;5;28mNotImplemented\u001b[39m\n\u001b[0;32m---> 25\u001b[0m \u001b[38;5;28;01mreturn\u001b[39;00m \u001b[43mfn\u001b[49m\u001b[43m(\u001b[49m\u001b[38;5;241;43m*\u001b[39;49m\u001b[43margs\u001b[49m\u001b[43m,\u001b[49m\u001b[43m \u001b[49m\u001b[38;5;241;43m*\u001b[39;49m\u001b[38;5;241;43m*\u001b[39;49m\u001b[43mkwargs\u001b[49m\u001b[43m)\u001b[49m\n",
      "File \u001b[0;32m~/miniconda3/envs/tdl/lib/python3.8/site-packages/scipy/fft/_pocketfft/basic.py:48\u001b[0m, in \u001b[0;36mr2c\u001b[0;34m(forward, x, n, axis, norm, overwrite_x, workers, plan)\u001b[0m\n\u001b[1;32m     45\u001b[0m \u001b[38;5;28;01mif\u001b[39;00m plan \u001b[38;5;129;01mis\u001b[39;00m \u001b[38;5;129;01mnot\u001b[39;00m \u001b[38;5;28;01mNone\u001b[39;00m:\n\u001b[1;32m     46\u001b[0m     \u001b[38;5;28;01mraise\u001b[39;00m \u001b[38;5;167;01mNotImplementedError\u001b[39;00m(\u001b[38;5;124m'\u001b[39m\u001b[38;5;124mPassing a precomputed plan is not yet \u001b[39m\u001b[38;5;124m'\u001b[39m\n\u001b[1;32m     47\u001b[0m                               \u001b[38;5;124m'\u001b[39m\u001b[38;5;124msupported by scipy.fft functions\u001b[39m\u001b[38;5;124m'\u001b[39m)\n\u001b[0;32m---> 48\u001b[0m tmp \u001b[38;5;241m=\u001b[39m \u001b[43m_asfarray\u001b[49m\u001b[43m(\u001b[49m\u001b[43mx\u001b[49m\u001b[43m)\u001b[49m\n\u001b[1;32m     49\u001b[0m norm \u001b[38;5;241m=\u001b[39m _normalization(norm, forward)\n\u001b[1;32m     50\u001b[0m workers \u001b[38;5;241m=\u001b[39m _workers(workers)\n",
      "File \u001b[0;32m~/miniconda3/envs/tdl/lib/python3.8/site-packages/scipy/fft/_pocketfft/helper.py:89\u001b[0m, in \u001b[0;36m_asfarray\u001b[0;34m(x)\u001b[0m\n\u001b[1;32m     86\u001b[0m \u001b[38;5;28;01mif\u001b[39;00m \u001b[38;5;129;01mnot\u001b[39;00m \u001b[38;5;28mhasattr\u001b[39m(x, \u001b[38;5;124m\"\u001b[39m\u001b[38;5;124mdtype\u001b[39m\u001b[38;5;124m\"\u001b[39m):\n\u001b[1;32m     87\u001b[0m     x \u001b[38;5;241m=\u001b[39m np\u001b[38;5;241m.\u001b[39masarray(x)\n\u001b[0;32m---> 89\u001b[0m \u001b[38;5;28;01mif\u001b[39;00m \u001b[43mx\u001b[49m\u001b[38;5;241;43m.\u001b[39;49m\u001b[43mdtype\u001b[49m\u001b[43m \u001b[49m\u001b[38;5;241;43m==\u001b[39;49m\u001b[43m \u001b[49m\u001b[43mnp\u001b[49m\u001b[38;5;241;43m.\u001b[39;49m\u001b[43mfloat16\u001b[49m:\n\u001b[1;32m     90\u001b[0m     \u001b[38;5;28;01mreturn\u001b[39;00m np\u001b[38;5;241m.\u001b[39masarray(x, np\u001b[38;5;241m.\u001b[39mfloat32)\n\u001b[1;32m     91\u001b[0m \u001b[38;5;28;01melif\u001b[39;00m x\u001b[38;5;241m.\u001b[39mdtype\u001b[38;5;241m.\u001b[39mkind \u001b[38;5;129;01mnot\u001b[39;00m \u001b[38;5;129;01min\u001b[39;00m \u001b[38;5;124m'\u001b[39m\u001b[38;5;124mfc\u001b[39m\u001b[38;5;124m'\u001b[39m:\n",
      "\u001b[0;31mKeyboardInterrupt\u001b[0m: "
     ]
    }
   ],
   "source": [
    "from torch.utils.data import DataLoader\n",
    "import torch\n",
    "\n",
    "no_of_segs = 82\n",
    "pattrainset = patientDataset(\"../train/\", no_of_segs)\n",
    "\n",
    "pattestset = patientDataset(\"../split_5/\", no_of_segs)\n",
    "\n",
    "device = torch.device('cuda' if torch.cuda.is_available() else 'cpu')"
   ]
  },
  {
   "cell_type": "code",
   "execution_count": null,
   "id": "ea76b9bf",
   "metadata": {},
   "outputs": [],
   "source": [
    "trainloader = DataLoader(dataset=pattrainset, batch_size=32, shuffle=True, num_workers=20)\n",
    "valloader = DataLoader(dataset=pattestset, batch_size=32, shuffle=True, num_workers=20)"
   ]
  },
  {
   "cell_type": "code",
   "execution_count": null,
   "id": "7b4002a1",
   "metadata": {},
   "outputs": [],
   "source": [
    "X, y = np.array(pattrainset.inputs), np.array(pattrainset.outcomes)\n",
    "# X = X.reshape((X.shape[0], X.shape[1]*X.shape[2]))\n",
    "y = y[:,0]\n",
    "X.shape,y.shape"
   ]
  },
  {
   "cell_type": "code",
   "execution_count": null,
   "id": "a3420a6b",
   "metadata": {},
   "outputs": [],
   "source": [
    "import pandas as pd\n",
    "df = pd.DataFrame(X)\n",
    "df['y'] = y"
   ]
  },
  {
   "cell_type": "code",
   "execution_count": null,
   "id": "969fe19c",
   "metadata": {},
   "outputs": [],
   "source": [
    "import h2o\n",
    "from h2o.automl import H2OAutoML\n",
    "# We will be using default parameter Here with H2O init method\n",
    "h2o.init()"
   ]
  },
  {
   "cell_type": "code",
   "execution_count": null,
   "id": "316cccae",
   "metadata": {},
   "outputs": [],
   "source": [
    "# convert pandas DataFrame into H2O Frame\n",
    "train = h2o.H2OFrame(df)"
   ]
  },
  {
   "cell_type": "code",
   "execution_count": null,
   "id": "1de62d0f",
   "metadata": {},
   "outputs": [],
   "source": [
    "X, y = np.array(pattrainset.inputs), np.array(pattrainset.outcomes)\n",
    "# X = X.reshape((X.shape[0], X.shape[1]*X.shape[2]))\n",
    "y = y[:,0]\n",
    "df_val = pd.DataFrame(X)\n",
    "df_val['y'] = y\n",
    "\n",
    "test = h2o.H2OFrame(df_val)\n",
    "x = test.columns\n",
    "y = 'y'\n",
    "# remove label classvariable from feature variable\n",
    "x.remove(y)"
   ]
  },
  {
   "cell_type": "code",
   "execution_count": null,
   "id": "22fc98e6",
   "metadata": {},
   "outputs": [],
   "source": [
    "# For binary classification, response should be a factor\n",
    "train[y] = train[y].asfactor()\n",
    "test[y] = test[y].asfactor()\n",
    "\n",
    "# Run AutoML for 20 base models\n",
    "aml = H2OAutoML(max_models=20, seed=1)\n",
    "aml.train(y = y, training_frame = train, leaderboard_frame = test)"
   ]
  },
  {
   "cell_type": "code",
   "execution_count": null,
   "id": "2ffafc5f",
   "metadata": {},
   "outputs": [],
   "source": [
    "lb = aml.leaderboard\n",
    "lb.head(rows=lb.nrows)"
   ]
  },
  {
   "cell_type": "code",
   "execution_count": null,
   "id": "f7e561da",
   "metadata": {},
   "outputs": [],
   "source": [
    "preds = aml.predict(test)"
   ]
  },
  {
   "cell_type": "code",
   "execution_count": null,
   "id": "aea2738d",
   "metadata": {},
   "outputs": [],
   "source": [
    "preds['p1']"
   ]
  },
  {
   "cell_type": "code",
   "execution_count": null,
   "id": "fa3262e5",
   "metadata": {},
   "outputs": [],
   "source": [
    "def validate(model, val_loader, criterion):\n",
    "    val_loss = []\n",
    "    val_accs = []\n",
    "    model.eval()\n",
    "    for i, (inputs, labels) in enumerate(val_loader):\n",
    "        inputs = torch.Tensor(inputs)\n",
    "        inputs = inputs.type(torch.FloatTensor).to(device)\n",
    "        labels = torch.Tensor(labels)\n",
    "        labels = labels.type(torch.FloatTensor).to(device)\n",
    "        \n",
    "        outputs = model(inputs)\n",
    "        loss    = criterion(outputs, labels)\n",
    "        pred, lab = torch.argmax(outputs, axis=-1), torch.argmax(labels, axis=-1)\n",
    "        \n",
    "        val_loss.append(loss.item())\n",
    "        val_accs.append( ((pred == lab).sum()/ len(pred)).cpu().detach().numpy() )\n",
    "    \n",
    "    return np.mean(val_loss), np.mean(val_accs)"
   ]
  },
  {
   "cell_type": "code",
   "execution_count": null,
   "id": "26f1304e",
   "metadata": {},
   "outputs": [],
   "source": [
    "def train_one_epoch(model, optimizer, criterion ,train_loader, epoch):\n",
    "    model.train()\n",
    "    model.zero_grad()\n",
    "    train_loss = []\n",
    "    train_acc = []\n",
    "    for i, (inputs, labels) in enumerate(train_loader): \n",
    "            \n",
    "        inputs = torch.Tensor(inputs)\n",
    "        inputs = inputs.type(torch.FloatTensor).to(device)\n",
    "        labels = torch.Tensor(labels)\n",
    "        labels = labels.type(torch.FloatTensor).to(device)\n",
    "#         print(inputs.shape)\n",
    "        outputs = model(inputs)\n",
    "#         print(outputs.shape, labels.shape)\n",
    "        loss    = criterion(outputs, labels)\n",
    "        \n",
    "        pred, lab = torch.argmax(outputs, axis=-1), torch.argmax(labels, axis=-1)\n",
    "#         print(pred, lab)\n",
    "        optimizer.zero_grad()\n",
    "        loss.backward()\n",
    "        optimizer.step()\n",
    "        \n",
    "        train_loss.append(loss.cpu().detach().numpy())\n",
    "        train_acc.append( ((pred == lab).sum()/ len(pred)).cpu().detach().numpy() )\n",
    "        print(\"Epoch {}: {}/{} Loss: {}  Acc: {}\".format(epoch, i, len(train_loader), loss.item(), train_acc[-1]), end='\\r')\n",
    "        \n",
    "    return np.mean(train_loss), np.mean(train_acc)"
   ]
  },
  {
   "cell_type": "code",
   "execution_count": null,
   "id": "8ea67545",
   "metadata": {},
   "outputs": [],
   "source": [
    "import torch.nn as nn\n",
    "class Lstm(nn.Module):\n",
    "    \"\"\"lstm+mlp\"\"\"\n",
    "    def __init__(self, inp_dim, hidden_dim, target_size=2, num_layers=1):\n",
    "        super(Lstm, self).__init__()\n",
    "        self.lstm = nn.LSTM(inp_dim, hidden_dim)\n",
    "        self.mlp  = nn.Linear(hidden_dim, target_size)\n",
    "        \n",
    "    def forward(self, x):\n",
    "        _, hidden = self.lstm( x )\n",
    "        x = self.mlp(x)\n",
    "        return x.flatten()\n",
    "    \n",
    "class FNN(nn.Module):\n",
    "    def __init__(self):\n",
    "        super(FNN, self).__init__()\n",
    "        self.fc0 = nn.Linear(270, 128)\n",
    "        self.fc1 = nn.Linear(128, 64)\n",
    "        self.fc2 = nn.Linear(64, 32)\n",
    "        self.fc3 = nn.Linear(32, 2)\n",
    "        self.relu = nn.ReLU()\n",
    "        self.dropout = nn.Dropout(p=0.4)\n",
    "        \n",
    "    def forward(self, x):\n",
    "        x = self.fc0(x)\n",
    "        x = self.relu(x)\n",
    "        x = self.fc1(x)\n",
    "        x = self.relu(x)\n",
    "        x = self.dropout(x)\n",
    "        x = self.fc2(x)\n",
    "        x = self.relu(x)\n",
    "        x = self.dropout(x)\n",
    "        x = self.fc3(x)\n",
    "        return x"
   ]
  },
  {
   "cell_type": "code",
   "execution_count": null,
   "id": "9e911894",
   "metadata": {},
   "outputs": [],
   "source": [
    "train_config = { 'num_epochs':20, 'learning_rate':1e-3 }\n",
    "arch_config  = {\n",
    "                'inp_size': 90,\n",
    "                'hidden_size': 180,\n",
    "               }\n",
    "\n",
    "model = Lstm(arch_config[\"inp_size\"], arch_config[\"hidden_size\"])\n",
    "model = FNN()\n",
    "model = model.to(device)\n",
    "# model = torch.compile(model)\n",
    "\n",
    "criterion = torch.nn.CrossEntropyLoss()\n",
    "optimizer = torch.optim.AdamW(model.parameters(), lr=train_config['learning_rate'], weight_decay=1e-6)"
   ]
  },
  {
   "cell_type": "code",
   "execution_count": null,
   "id": "49b3783e",
   "metadata": {},
   "outputs": [],
   "source": [
    "train_losses = []\n",
    "train_accs = []\n",
    "val_losses = []\n",
    "val_accs = []"
   ]
  },
  {
   "cell_type": "code",
   "execution_count": null,
   "id": "d82c984d",
   "metadata": {},
   "outputs": [],
   "source": [
    "for epoch in range(train_config['num_epochs']):\n",
    "    los, acc = train_one_epoch(model, optimizer, criterion, trainloader, epoch)\n",
    "    train_losses.append(los)\n",
    "    train_accs.append(acc)\n",
    "    los, acc = validate(model, valloader, criterion)\n",
    "    val_losses.append(los)\n",
    "    val_accs.append(acc)\n",
    "    print(train_losses[-1], val_losses[-1], train_accs[-1], val_accs[-1])\n",
    "    if epoch % 10 == 0:\n",
    "        plt.plot(train_losses, label=\"train loss\")\n",
    "        plt.plot(val_losses, label=\"val loss\")\n",
    "        plt.plot(train_accs, label=\"train acc\")\n",
    "        plt.plot(val_accs, label=\"val acc\")\n",
    "        plt.legend()\n",
    "        plt.show()"
   ]
  },
  {
   "cell_type": "code",
   "execution_count": null,
   "id": "266e0cb1",
   "metadata": {},
   "outputs": [],
   "source": [
    "plt.plot(train_losses, label=\"train loss\")\n",
    "plt.plot(val_losses, label=\"val loss\")\n",
    "plt.plot(train_accs, label=\"train acc\")\n",
    "plt.plot(val_accs, label=\"val acc\")\n",
    "plt.legend()\n",
    "plt.show()"
   ]
  },
  {
   "cell_type": "code",
   "execution_count": null,
   "id": "f7d2ec7c",
   "metadata": {},
   "outputs": [],
   "source": []
  }
 ],
 "metadata": {
  "kernelspec": {
   "display_name": "Python 3 (ipykernel)",
   "language": "python",
   "name": "python3"
  },
  "language_info": {
   "codemirror_mode": {
    "name": "ipython",
    "version": 3
   },
   "file_extension": ".py",
   "mimetype": "text/x-python",
   "name": "python",
   "nbconvert_exporter": "python",
   "pygments_lexer": "ipython3",
   "version": "3.8.16"
  }
 },
 "nbformat": 4,
 "nbformat_minor": 5
}
