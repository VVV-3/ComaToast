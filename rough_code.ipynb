{
 "cells": [
  {
   "cell_type": "code",
   "execution_count": 91,
   "id": "224dc9af",
   "metadata": {},
   "outputs": [],
   "source": [
    "# from src.datasets import patientDataset, eegDataset\n",
    "# from src.resnet import ResNet1d\n",
    "# from src.lstm import Lstm\n",
    "from tqdm import tqdm\n",
    "import numpy as np\n",
    "import mne\n",
    "from helper_code import *\n",
    "import matplotlib.pyplot as plt"
   ]
  },
  {
   "cell_type": "code",
   "execution_count": 103,
   "id": "ddf39cd0",
   "metadata": {},
   "outputs": [],
   "source": [
    "import numpy as np\n",
    "from scipy import signal\n",
    "\n",
    "def psd(eeg_data, fs):\n",
    "    # Define frequency bands of interest (in Hz)\n",
    "    freq_bands = {'delta': [0.5, 4],\n",
    "              'theta': [4, 8],\n",
    "              'alpha': [8, 12],\n",
    "              'beta': [12, 30]}\n",
    "\n",
    "    # Define sampling frequency (in Hz)\n",
    "    fs = 60\n",
    "\n",
    "    # Compute PSD and extract power in each frequency band for each epoch\n",
    "    freqs, psds = signal.welch(eeg_data, fs=fs, nperseg=fs*2)\n",
    "    band_powers = {}\n",
    "    for band, freq_range in freq_bands.items():\n",
    "        freq_mask = (freqs >= freq_range[0]) & (freqs < freq_range[1])\n",
    "        band_powers[band] = psds[:, freq_mask].mean(axis=0)\n",
    "        \n",
    "    return np.concatenate([band_powers[band] for band in freq_bands])\n",
    "\n",
    "def bsr(eeg_data, sfreq):\n",
    "\n",
    "    # Define the  duration of the epochs (in seconds)\n",
    "    epoch_duration = 1\n",
    "\n",
    "    # Define the frequency band of interest for the BSR computation (in Hz)\n",
    "    freq_band = [0.5, 25]\n",
    "\n",
    "    # Define the threshold for the BSR computation as a fraction of the median RMS amplitude\n",
    "    bsr_threshold = 0.5\n",
    "\n",
    "    # Filter the EEG data in the frequency band of interest using a Butterworth filter\n",
    "    nyquist_freq = sfreq / 2\n",
    "    b, a = signal.butter(4, [freq_band[0] / nyquist_freq, freq_band[1] / nyquist_freq], btype='bandpass')\n",
    "    filtered_data = signal.filtfilt(b, a, eeg_data)\n",
    "\n",
    "    # Compute the root mean square (RMS) amplitude of each epoch\n",
    "    epoch_samples = int(epoch_duration * sfreq)\n",
    "    n_epochs = filtered_data.shape[-1] // epoch_samples\n",
    "    epochs = filtered_data[:, :n_epochs * epoch_samples].reshape(18, n_epochs, epoch_samples)\n",
    "    \n",
    "    rms_amplitude = np.sqrt(np.mean(epochs ** 2, axis=-1))\n",
    "\n",
    "    # Compute the median RMS amplitude across all epochs\n",
    "    median_rms = np.median(rms_amplitude)\n",
    "#     print(rms_amplitude.shape, median_rms)\n",
    "    # Compute the percentage of epochs that have an RMS amplitude below the BSR threshold\n",
    "    bsr = (rms_amplitude < bsr_threshold * median_rms).mean(axis=-1) * 100\n",
    "\n",
    "    return bsr\n"
   ]
  },
  {
   "cell_type": "code",
   "execution_count": 110,
   "id": "9d56fae4",
   "metadata": {},
   "outputs": [],
   "source": [
    "import torch\n",
    "from torch.utils.data import Dataset\n",
    "from helper_code import *\n",
    "import numpy as np, os, sys\n",
    "import librosa\n",
    "import mne\n",
    "import torchaudio.transforms as T\n",
    "\n",
    "from tqdm import tqdm\n",
    "\n",
    "n_fft = 2048\n",
    "hop_length = 512\n",
    "n_mels = 256\n",
    "n_mfcc = 256\n",
    "\n",
    "\n",
    "def featurise_recording(location):\n",
    "    channels = ['Fp1-F7', 'F7-T3', 'T3-T5', 'T5-O1', 'Fp2-F8', 'F8-T4', \n",
    "                'T4-T6', 'T6-O2', 'Fp1-F3', 'F3-C3', 'C3-P3', 'P3-O1', \n",
    "                'Fp2-F4', 'F4-C4', 'C4-P4', 'P4-O2', 'Fz-Cz', 'Cz-Pz']\n",
    "    recording_data, sr, cur_channels = load_recording(location)\n",
    "    signal_data = reorder_recording_channels(recording_data, cur_channels, channels)\n",
    "    \n",
    "    resampled_data = librosa.resample(y=signal_data, orig_sr=sr, target_sr=60)\n",
    "    resampled_data = resampled_data[:, 120*60: 180*60]\n",
    "    final2 = psd(resampled_data, 60)\n",
    "    final1 = bsr(resampled_data, 60)\n",
    "#     final3 = dwt(resampled_data, 60)\n",
    "    \n",
    "    final = np.concatenate((final1, final2))\n",
    "#     print(final.shape)\n",
    "    \n",
    "    return final\n",
    "\n",
    "def featurise_locs(locs):\n",
    "    fin = []\n",
    "    fin.append(featurise_recording(locs[0]))\n",
    "    fin.append(featurise_recording(locs[len(locs)//2]))\n",
    "    fin.append(featurise_recording(locs[-1]))\n",
    "    fin = np.array(fin).flatten()\n",
    "#     print(fin.shape)\n",
    "    return fin\n",
    "\n",
    "def featurise_labels(label):\n",
    "#     print(label)\n",
    "    tp = np.array([0,0])\n",
    "    tp[label] = 1\n",
    "    return tp\n",
    "\n",
    "class patientDataset(Dataset):\n",
    "    def __init__(self, data_folder, segs):\n",
    "        \n",
    "        self.no_of_segments = segs\n",
    "        \n",
    "        self.data_folder  = data_folder\n",
    "        self.patient_ids  = find_data_folders(data_folder)\n",
    "        self.num_patients = len(self.patient_ids)\n",
    "        \n",
    "        self.inputs = []\n",
    "        self.outcomes = []\n",
    "        \n",
    "        for i in tqdm(range(self.num_patients)):\n",
    "            inp, out = self.getitemx(i)\n",
    "#             if inp.shape[0] == self.no_of_segments:\n",
    "            self.inputs.append(inp)\n",
    "            self.outcomes.append(out)\n",
    "#         self.inputs = np.array(self.inputs)\n",
    "#         self.outcomes = np.array(self.outcomes)\n",
    "        \n",
    "    def getMetadata(self, idx):\n",
    "        # Load data.\n",
    "        patient_id = self.patient_ids[idx]\n",
    "        \n",
    "        # Define file location.\n",
    "        patient_metadata_file = os.path.join(self.data_folder, patient_id, patient_id + '.txt')\n",
    "        recording_metadata_file = os.path.join(self.data_folder, patient_id, patient_id + '.tsv')\n",
    "\n",
    "        # Load non-recording data.\n",
    "        patient_metadata = load_text_file(patient_metadata_file)\n",
    "        recording_metadata = load_text_file(recording_metadata_file)\n",
    "        \n",
    "        return patient_metadata, recording_metadata\n",
    "        \n",
    "    def getitemx(self, index):\n",
    "        \n",
    "        patient_metadata, recording_metadata = self.getMetadata(index)\n",
    "        \n",
    "        # Load recordings.\n",
    "        recording_ids = list(get_recording_ids(recording_metadata))\n",
    "        \n",
    "        recording_locations = []\n",
    "        for recording_id in reversed(recording_ids):\n",
    "            if recording_id != 'nan':\n",
    "                recording_location = os.path.join(self.data_folder, self.patient_ids[index], recording_id)\n",
    "                recording_locations.append(recording_location)\n",
    "            \n",
    "            if len(recording_locations) >= self.no_of_segments:\n",
    "                break\n",
    "        recording_locations.reverse()\n",
    "        print(len(recording_locations), get_outcome(patient_metadata))\n",
    "        return featurise_locs(recording_locations), featurise_labels(get_outcome(patient_metadata))\n",
    "    \n",
    "    def __getitem__(self, index):\n",
    "        \n",
    "        return self.inputs[index], self.outcomes[index]\n",
    "        \n",
    "    def __len__(self):\n",
    "        return self.num_patients"
   ]
  },
  {
   "cell_type": "code",
   "execution_count": 111,
   "id": "25c2d55c",
   "metadata": {},
   "outputs": [],
   "source": [
    "import pywt\n",
    "import numpy as np\n",
    "\n",
    "def dwt(eeg_signal, sfreq):\n",
    "    eeg_signal = eeg_signal[:, 170*sfreq:180*sfreq]\n",
    "    # Define the wavelet family and level of decomposition\n",
    "    wavelet = 'db4'\n",
    "    level = 5\n",
    "\n",
    "    # Compute the wavelet coefficients for each channel\n",
    "    coeffs_list = []\n",
    "    for ch_signal in eeg_signal:\n",
    "        coeffs = pywt.wavedec(ch_signal, wavelet, level=level)\n",
    "        coeffs_list.append(coeffs)\n",
    "\n",
    "    # Extract the coefficients corresponding to each frequency band for each channel\n",
    "    delta_coeffs_list = []\n",
    "    theta_coeffs_list = []\n",
    "    alpha_coeffs_list = []\n",
    "    beta_coeffs_list = []\n",
    "    for coeffs in coeffs_list:\n",
    "        delta_coeffs = coeffs[level]\n",
    "        theta_coeffs = coeffs[level-1]\n",
    "        alpha_coeffs = coeffs[level-2]\n",
    "        beta_coeffs = coeffs[level-3]\n",
    "        delta_coeffs_list.append(delta_coeffs)\n",
    "        theta_coeffs_list.append(theta_coeffs)\n",
    "        alpha_coeffs_list.append(alpha_coeffs)\n",
    "        beta_coeffs_list.append(beta_coeffs)\n",
    "\n",
    "    # Stack the coefficient arrays for each frequency band across channels\n",
    "    delta_coeffs = np.stack(delta_coeffs_list, axis=0)\n",
    "    theta_coeffs = np.stack(theta_coeffs_list, axis=0)\n",
    "    alpha_coeffs = np.stack(alpha_coeffs_list, axis=0)\n",
    "    beta_coeffs = np.stack(beta_coeffs_list, axis=0)\n",
    "    \n",
    "    fin = np.concatenate( (delta_coeffs, theta_coeffs, alpha_coeffs, beta_coeffs), axis=1 ).mean(axis=0)\n",
    "#     print(fin.shape)\n",
    "    return fin\n"
   ]
  },
  {
   "cell_type": "code",
   "execution_count": 112,
   "id": "59622179",
   "metadata": {},
   "outputs": [
    {
     "name": "stderr",
     "output_type": "stream",
     "text": [
      "  1%|          | 3/486 [00:00<00:19, 24.25it/s]"
     ]
    },
    {
     "name": "stdout",
     "output_type": "stream",
     "text": [
      "65 0\n",
      "52 0\n",
      "4 0\n",
      "42 0\n",
      "37 0\n"
     ]
    },
    {
     "name": "stderr",
     "output_type": "stream",
     "text": [
      "  2%|▏         | 9/486 [00:00<00:19, 24.48it/s]"
     ]
    },
    {
     "name": "stdout",
     "output_type": "stream",
     "text": [
      "50 0\n",
      "40 0\n",
      "50 0\n",
      "40 0\n",
      "49 0\n"
     ]
    },
    {
     "name": "stderr",
     "output_type": "stream",
     "text": [
      "\r",
      "  2%|▏         | 12/486 [00:00<00:19, 24.48it/s]"
     ]
    },
    {
     "name": "stdout",
     "output_type": "stream",
     "text": [
      "38 0\n",
      "43 0\n",
      "64 0\n",
      "42 0\n",
      "14 1\n"
     ]
    },
    {
     "name": "stderr",
     "output_type": "stream",
     "text": [
      "  4%|▎         | 18/486 [00:00<00:19, 23.97it/s]"
     ]
    },
    {
     "name": "stdout",
     "output_type": "stream",
     "text": [
      "39 1\n",
      "23 1\n",
      "60 0\n",
      "66 1\n",
      "47 1\n"
     ]
    },
    {
     "name": "stderr",
     "output_type": "stream",
     "text": [
      "  5%|▍         | 24/486 [00:00<00:18, 24.33it/s]"
     ]
    },
    {
     "name": "stdout",
     "output_type": "stream",
     "text": [
      "5 0\n",
      "40 0\n",
      "60 1\n",
      "65 0\n",
      "1 1\n"
     ]
    },
    {
     "name": "stderr",
     "output_type": "stream",
     "text": [
      "\r",
      "  6%|▌         | 27/486 [00:01<00:18, 24.39it/s]"
     ]
    },
    {
     "name": "stdout",
     "output_type": "stream",
     "text": [
      "46 0\n",
      "45 1\n",
      "45 1\n",
      "22 1\n",
      "28 1\n"
     ]
    },
    {
     "name": "stderr",
     "output_type": "stream",
     "text": [
      "  7%|▋         | 33/486 [00:01<00:17, 25.39it/s]"
     ]
    },
    {
     "name": "stdout",
     "output_type": "stream",
     "text": [
      "46 0\n",
      "66 0\n",
      "24 1\n",
      "25 0\n",
      "41 1\n",
      "25 0\n"
     ]
    },
    {
     "name": "stderr",
     "output_type": "stream",
     "text": [
      "  8%|▊         | 41/486 [00:01<00:15, 28.53it/s]"
     ]
    },
    {
     "name": "stdout",
     "output_type": "stream",
     "text": [
      "57 1\n",
      "41 1\n",
      "2 1\n",
      "21 1\n",
      "15 1\n",
      "55 0\n",
      "53 1\n"
     ]
    },
    {
     "name": "stderr",
     "output_type": "stream",
     "text": [
      " 10%|█         | 49/486 [00:01<00:14, 30.05it/s]"
     ]
    },
    {
     "name": "stdout",
     "output_type": "stream",
     "text": [
      "23 1\n",
      "51 1\n",
      "21 1\n",
      "60 1\n",
      "24 1\n",
      "59 1\n",
      "62 0\n"
     ]
    },
    {
     "name": "stderr",
     "output_type": "stream",
     "text": [
      "\r",
      " 11%|█         | 53/486 [00:01<00:14, 30.45it/s]"
     ]
    },
    {
     "name": "stdout",
     "output_type": "stream",
     "text": [
      "52 1\n",
      "51 1\n",
      "51 1\n",
      "29 1\n",
      "55 0\n",
      "56 0\n",
      "10 1\n"
     ]
    },
    {
     "name": "stderr",
     "output_type": "stream",
     "text": [
      " 13%|█▎        | 61/486 [00:02<00:13, 30.95it/s]"
     ]
    },
    {
     "name": "stdout",
     "output_type": "stream",
     "text": [
      "52 1\n",
      "54 1\n",
      "60 1\n",
      "19 1\n",
      "46 1\n",
      "25 1\n",
      "64 0\n"
     ]
    },
    {
     "name": "stderr",
     "output_type": "stream",
     "text": [
      " 14%|█▍        | 69/486 [00:02<00:13, 31.28it/s]"
     ]
    },
    {
     "name": "stdout",
     "output_type": "stream",
     "text": [
      "23 0\n",
      "60 0\n",
      "8 0\n",
      "66 0\n",
      "27 0\n",
      "24 1\n",
      "18 1\n"
     ]
    },
    {
     "name": "stderr",
     "output_type": "stream",
     "text": [
      " 16%|█▌        | 77/486 [00:02<00:13, 31.41it/s]"
     ]
    },
    {
     "name": "stdout",
     "output_type": "stream",
     "text": [
      "46 1\n",
      "31 1\n",
      "50 1\n",
      "34 0\n",
      "46 1\n",
      "24 0\n",
      "1 1\n"
     ]
    },
    {
     "name": "stderr",
     "output_type": "stream",
     "text": [
      "\r",
      " 17%|█▋        | 81/486 [00:02<00:12, 31.40it/s]"
     ]
    },
    {
     "name": "stdout",
     "output_type": "stream",
     "text": [
      "56 0\n",
      "52 1\n",
      "65 1\n",
      "55 1\n",
      "38 0\n",
      "16 1\n",
      "42 0\n"
     ]
    },
    {
     "name": "stderr",
     "output_type": "stream",
     "text": [
      " 18%|█▊        | 89/486 [00:03<00:12, 31.55it/s]"
     ]
    },
    {
     "name": "stdout",
     "output_type": "stream",
     "text": [
      "25 0\n",
      "53 0\n",
      "19 1\n",
      "53 0\n",
      "19 1\n",
      "30 1\n",
      "36 0\n"
     ]
    },
    {
     "name": "stderr",
     "output_type": "stream",
     "text": [
      " 20%|█▉        | 97/486 [00:03<00:12, 31.52it/s]"
     ]
    },
    {
     "name": "stdout",
     "output_type": "stream",
     "text": [
      "14 1\n",
      "27 1\n",
      "23 1\n",
      "34 1\n",
      "41 0\n",
      "24 0\n",
      "18 1\n"
     ]
    },
    {
     "name": "stderr",
     "output_type": "stream",
     "text": [
      " 22%|██▏       | 105/486 [00:03<00:12, 31.50it/s]"
     ]
    },
    {
     "name": "stdout",
     "output_type": "stream",
     "text": [
      "59 1\n",
      "24 0\n",
      "66 0\n",
      "44 1\n",
      "28 1\n",
      "61 1\n",
      "60 1\n"
     ]
    },
    {
     "name": "stderr",
     "output_type": "stream",
     "text": [
      "\r",
      " 22%|██▏       | 109/486 [00:03<00:11, 31.43it/s]"
     ]
    },
    {
     "name": "stdout",
     "output_type": "stream",
     "text": [
      "24 0\n",
      "60 0\n",
      "61 1\n",
      "20 1\n",
      "52 0\n",
      "21 1\n",
      "67 1\n"
     ]
    },
    {
     "name": "stderr",
     "output_type": "stream",
     "text": [
      " 24%|██▍       | 117/486 [00:04<00:11, 31.68it/s]"
     ]
    },
    {
     "name": "stdout",
     "output_type": "stream",
     "text": [
      "49 1\n",
      "20 1\n",
      "48 0\n",
      "44 1\n",
      "49 0\n",
      "21 0\n",
      "47 0\n"
     ]
    },
    {
     "name": "stderr",
     "output_type": "stream",
     "text": [
      " 26%|██▌       | 125/486 [00:04<00:11, 31.62it/s]"
     ]
    },
    {
     "name": "stdout",
     "output_type": "stream",
     "text": [
      "50 0\n",
      "58 1\n",
      "30 0\n",
      "18 1\n",
      "57 0\n",
      "48 0\n",
      "31 1\n"
     ]
    },
    {
     "name": "stderr",
     "output_type": "stream",
     "text": [
      " 27%|██▋       | 133/486 [00:04<00:11, 31.36it/s]"
     ]
    },
    {
     "name": "stdout",
     "output_type": "stream",
     "text": [
      "46 0\n",
      "52 1\n",
      "28 1\n",
      "14 1\n",
      "35 1\n",
      "52 1\n",
      "39 1\n"
     ]
    },
    {
     "name": "stderr",
     "output_type": "stream",
     "text": [
      "\r",
      " 28%|██▊       | 137/486 [00:04<00:11, 29.57it/s]"
     ]
    },
    {
     "name": "stdout",
     "output_type": "stream",
     "text": [
      "62 1\n",
      "4 1\n",
      "50 1\n",
      "24 1\n",
      "16 1\n",
      "46 1\n"
     ]
    },
    {
     "name": "stderr",
     "output_type": "stream",
     "text": [
      " 29%|██▉       | 143/486 [00:04<00:12, 27.46it/s]"
     ]
    },
    {
     "name": "stdout",
     "output_type": "stream",
     "text": [
      "56 0\n",
      "24 1\n",
      "27 1\n",
      "54 1\n",
      "36 1\n",
      "69 1\n"
     ]
    },
    {
     "name": "stderr",
     "output_type": "stream",
     "text": [
      " 31%|███       | 149/486 [00:05<00:12, 26.21it/s]"
     ]
    },
    {
     "name": "stdout",
     "output_type": "stream",
     "text": [
      "52 1\n",
      "24 1\n",
      "26 1\n",
      "55 1\n",
      "20 0\n",
      "9 1\n"
     ]
    },
    {
     "name": "stderr",
     "output_type": "stream",
     "text": [
      " 32%|███▏      | 155/486 [00:05<00:12, 25.58it/s]"
     ]
    },
    {
     "name": "stdout",
     "output_type": "stream",
     "text": [
      "38 0\n",
      "67 0\n",
      "7 1\n",
      "16 0\n",
      "45 0\n",
      "56 0\n"
     ]
    },
    {
     "name": "stderr",
     "output_type": "stream",
     "text": [
      " 33%|███▎      | 161/486 [00:05<00:12, 25.48it/s]"
     ]
    },
    {
     "name": "stdout",
     "output_type": "stream",
     "text": [
      "7 1\n",
      "44 0\n",
      "72 1\n",
      "23 1\n",
      "65 0\n",
      "24 0\n"
     ]
    },
    {
     "name": "stderr",
     "output_type": "stream",
     "text": [
      " 35%|███▍      | 169/486 [00:05<00:11, 28.60it/s]"
     ]
    },
    {
     "name": "stdout",
     "output_type": "stream",
     "text": [
      "24 1\n",
      "44 1\n",
      "13 1\n",
      "60 1\n",
      "42 1\n",
      "58 0\n",
      "24 1\n"
     ]
    },
    {
     "name": "stderr",
     "output_type": "stream",
     "text": [
      " 36%|███▋      | 177/486 [00:06<00:10, 30.44it/s]"
     ]
    },
    {
     "name": "stdout",
     "output_type": "stream",
     "text": [
      "65 1\n",
      "45 0\n",
      "54 0\n",
      "69 0\n",
      "31 0\n",
      "10 1\n",
      "25 1\n"
     ]
    },
    {
     "name": "stderr",
     "output_type": "stream",
     "text": [
      "\r",
      " 37%|███▋      | 181/486 [00:06<00:09, 30.84it/s]"
     ]
    },
    {
     "name": "stdout",
     "output_type": "stream",
     "text": [
      "46 0\n",
      "47 0\n",
      "57 0\n",
      "63 0\n",
      "48 0\n",
      "26 0\n",
      "67 0\n"
     ]
    },
    {
     "name": "stderr",
     "output_type": "stream",
     "text": [
      " 39%|███▉      | 189/486 [00:06<00:10, 28.79it/s]"
     ]
    },
    {
     "name": "stdout",
     "output_type": "stream",
     "text": [
      "25 1\n",
      "63 0\n",
      "35 1\n",
      "58 0\n",
      "39 1\n",
      "5 1\n"
     ]
    },
    {
     "name": "stderr",
     "output_type": "stream",
     "text": [
      " 40%|████      | 195/486 [00:06<00:10, 27.06it/s]"
     ]
    },
    {
     "name": "stdout",
     "output_type": "stream",
     "text": [
      "68 1\n",
      "28 1\n",
      "44 1\n",
      "22 1\n",
      "19 0\n",
      "58 1\n"
     ]
    },
    {
     "name": "stderr",
     "output_type": "stream",
     "text": [
      " 41%|████▏     | 201/486 [00:07<00:10, 26.17it/s]"
     ]
    },
    {
     "name": "stdout",
     "output_type": "stream",
     "text": [
      "24 1\n",
      "25 1\n",
      "39 0\n",
      "24 0\n",
      "40 0\n",
      "24 1\n"
     ]
    },
    {
     "name": "stderr",
     "output_type": "stream",
     "text": [
      " 43%|████▎     | 207/486 [00:07<00:10, 26.17it/s]"
     ]
    },
    {
     "name": "stdout",
     "output_type": "stream",
     "text": [
      "49 0\n",
      "21 1\n",
      "20 1\n",
      "68 0\n",
      "25 1\n",
      "61 0\n"
     ]
    },
    {
     "name": "stderr",
     "output_type": "stream",
     "text": [
      " 44%|████▍     | 215/486 [00:07<00:09, 29.04it/s]"
     ]
    },
    {
     "name": "stdout",
     "output_type": "stream",
     "text": [
      "12 1\n",
      "53 1\n",
      "52 1\n",
      "4 1\n",
      "46 1\n",
      "30 1\n",
      "16 1\n"
     ]
    },
    {
     "name": "stderr",
     "output_type": "stream",
     "text": [
      "\r",
      " 45%|████▌     | 219/486 [00:07<00:08, 29.85it/s]"
     ]
    },
    {
     "name": "stdout",
     "output_type": "stream",
     "text": [
      "28 1\n",
      "27 0\n",
      "68 0\n",
      "36 1\n",
      "48 1\n",
      "44 0\n",
      "67 0\n"
     ]
    },
    {
     "name": "stderr",
     "output_type": "stream",
     "text": [
      " 47%|████▋     | 227/486 [00:07<00:08, 30.99it/s]"
     ]
    },
    {
     "name": "stdout",
     "output_type": "stream",
     "text": [
      "63 0\n",
      "60 0\n",
      "29 1\n",
      "40 0\n",
      "61 1\n",
      "41 0\n",
      "8 1\n"
     ]
    },
    {
     "name": "stderr",
     "output_type": "stream",
     "text": [
      " 48%|████▊     | 235/486 [00:08<00:07, 31.67it/s]"
     ]
    },
    {
     "name": "stdout",
     "output_type": "stream",
     "text": [
      "6 1\n",
      "54 1\n",
      "28 1\n",
      "16 1\n",
      "13 1\n",
      "38 0\n",
      "1 1\n"
     ]
    },
    {
     "name": "stderr",
     "output_type": "stream",
     "text": [
      " 50%|█████     | 243/486 [00:08<00:07, 31.69it/s]"
     ]
    },
    {
     "name": "stdout",
     "output_type": "stream",
     "text": [
      "57 1\n",
      "38 1\n",
      "29 1\n",
      "18 1\n",
      "64 1\n",
      "59 0\n",
      "24 0\n"
     ]
    },
    {
     "name": "stderr",
     "output_type": "stream",
     "text": [
      "\r",
      " 51%|█████     | 247/486 [00:08<00:07, 31.65it/s]"
     ]
    },
    {
     "name": "stdout",
     "output_type": "stream",
     "text": [
      "51 0\n",
      "27 1\n",
      "54 0\n",
      "56 1\n",
      "62 0\n",
      "65 0\n",
      "30 1\n"
     ]
    },
    {
     "name": "stderr",
     "output_type": "stream",
     "text": [
      " 52%|█████▏    | 255/486 [00:08<00:07, 31.81it/s]"
     ]
    },
    {
     "name": "stdout",
     "output_type": "stream",
     "text": [
      "56 1\n",
      "44 0\n",
      "39 0\n",
      "52 0\n",
      "15 1\n",
      "66 0\n",
      "37 1\n"
     ]
    },
    {
     "name": "stderr",
     "output_type": "stream",
     "text": [
      " 54%|█████▍    | 263/486 [00:09<00:06, 32.01it/s]"
     ]
    },
    {
     "name": "stdout",
     "output_type": "stream",
     "text": [
      "60 0\n",
      "31 0\n",
      "51 1\n",
      "24 1\n",
      "62 1\n",
      "11 1\n",
      "8 1\n"
     ]
    },
    {
     "name": "stderr",
     "output_type": "stream",
     "text": [
      " 56%|█████▌    | 271/486 [00:09<00:06, 31.94it/s]"
     ]
    },
    {
     "name": "stdout",
     "output_type": "stream",
     "text": [
      "40 1\n",
      "60 0\n",
      "38 1\n",
      "24 0\n",
      "24 1\n",
      "24 1\n",
      "66 0\n"
     ]
    },
    {
     "name": "stderr",
     "output_type": "stream",
     "text": [
      "\r",
      " 57%|█████▋    | 275/486 [00:09<00:06, 31.84it/s]"
     ]
    },
    {
     "name": "stdout",
     "output_type": "stream",
     "text": [
      "48 1\n",
      "56 1\n",
      "24 1\n",
      "4 0\n",
      "46 0\n",
      "50 0\n",
      "10 1\n"
     ]
    },
    {
     "name": "stderr",
     "output_type": "stream",
     "text": [
      " 58%|█████▊    | 283/486 [00:09<00:06, 31.94it/s]"
     ]
    },
    {
     "name": "stdout",
     "output_type": "stream",
     "text": [
      "23 1\n",
      "41 1\n",
      "44 1\n",
      "24 0\n",
      "51 1\n",
      "55 1\n",
      "51 1\n"
     ]
    },
    {
     "name": "stderr",
     "output_type": "stream",
     "text": [
      " 60%|█████▉    | 291/486 [00:09<00:06, 32.11it/s]"
     ]
    },
    {
     "name": "stdout",
     "output_type": "stream",
     "text": [
      "53 1\n",
      "25 0\n",
      "23 0\n",
      "29 0\n",
      "61 0\n",
      "30 0\n",
      "40 1\n"
     ]
    },
    {
     "name": "stderr",
     "output_type": "stream",
     "text": [
      " 62%|██████▏   | 299/486 [00:10<00:05, 32.25it/s]"
     ]
    },
    {
     "name": "stdout",
     "output_type": "stream",
     "text": [
      "55 1\n",
      "44 0\n",
      "32 1\n",
      "60 1\n",
      "44 1\n",
      "30 0\n",
      "51 1\n"
     ]
    },
    {
     "name": "stderr",
     "output_type": "stream",
     "text": [
      "\r",
      " 62%|██████▏   | 303/486 [00:10<00:05, 32.31it/s]"
     ]
    },
    {
     "name": "stdout",
     "output_type": "stream",
     "text": [
      "61 0\n",
      "45 1\n",
      "19 1\n",
      "70 1\n",
      "42 1\n",
      "29 1\n",
      "55 0\n"
     ]
    },
    {
     "name": "stderr",
     "output_type": "stream",
     "text": [
      " 64%|██████▍   | 311/486 [00:10<00:05, 31.89it/s]"
     ]
    },
    {
     "name": "stdout",
     "output_type": "stream",
     "text": [
      "39 0\n",
      "66 1\n",
      "25 1\n",
      "52 1\n",
      "24 1\n",
      "34 1\n",
      "24 1\n"
     ]
    },
    {
     "name": "stderr",
     "output_type": "stream",
     "text": [
      " 66%|██████▌   | 319/486 [00:10<00:05, 31.78it/s]"
     ]
    },
    {
     "name": "stdout",
     "output_type": "stream",
     "text": [
      "61 1\n",
      "46 1\n",
      "22 0\n",
      "25 0\n",
      "23 1\n",
      "67 1\n",
      "48 0\n"
     ]
    },
    {
     "name": "stderr",
     "output_type": "stream",
     "text": [
      " 67%|██████▋   | 327/486 [00:11<00:04, 31.96it/s]"
     ]
    },
    {
     "name": "stdout",
     "output_type": "stream",
     "text": [
      "3 1\n",
      "48 1\n",
      "57 0\n",
      "31 1\n",
      "4 1\n",
      "28 1\n",
      "62 1\n"
     ]
    },
    {
     "name": "stderr",
     "output_type": "stream",
     "text": [
      "\r",
      " 68%|██████▊   | 331/486 [00:11<00:04, 31.94it/s]"
     ]
    },
    {
     "name": "stdout",
     "output_type": "stream",
     "text": [
      "59 1\n",
      "48 0\n",
      "46 0\n",
      "24 1\n",
      "27 1\n",
      "32 1\n",
      "16 1\n"
     ]
    },
    {
     "name": "stderr",
     "output_type": "stream",
     "text": [
      " 70%|██████▉   | 339/486 [00:11<00:04, 31.91it/s]"
     ]
    },
    {
     "name": "stdout",
     "output_type": "stream",
     "text": [
      "43 0\n",
      "37 1\n",
      "56 1\n",
      "44 0\n",
      "46 1\n",
      "26 0\n",
      "61 1\n"
     ]
    },
    {
     "name": "stderr",
     "output_type": "stream",
     "text": [
      " 71%|███████▏  | 347/486 [00:11<00:04, 32.08it/s]"
     ]
    },
    {
     "name": "stdout",
     "output_type": "stream",
     "text": [
      "21 1\n",
      "56 0\n",
      "48 1\n",
      "4 1\n",
      "22 1\n",
      "49 0\n",
      "44 0\n"
     ]
    },
    {
     "name": "stderr",
     "output_type": "stream",
     "text": [
      " 73%|███████▎  | 355/486 [00:11<00:04, 31.98it/s]"
     ]
    },
    {
     "name": "stdout",
     "output_type": "stream",
     "text": [
      "45 1\n",
      "24 1\n",
      "19 1\n",
      "58 1\n",
      "41 1\n",
      "25 0\n",
      "9 1\n"
     ]
    },
    {
     "name": "stderr",
     "output_type": "stream",
     "text": [
      "\r",
      " 74%|███████▍  | 359/486 [00:12<00:03, 31.93it/s]"
     ]
    },
    {
     "name": "stdout",
     "output_type": "stream",
     "text": [
      "27 0\n",
      "67 1\n",
      "44 0\n",
      "13 0\n",
      "22 0\n",
      "53 0\n",
      "1 1\n"
     ]
    },
    {
     "name": "stderr",
     "output_type": "stream",
     "text": [
      " 76%|███████▌  | 367/486 [00:12<00:03, 32.00it/s]"
     ]
    },
    {
     "name": "stdout",
     "output_type": "stream",
     "text": [
      "55 1\n",
      "38 1\n",
      "1 0\n",
      "42 0\n",
      "7 1\n",
      "24 0\n",
      "24 1\n"
     ]
    },
    {
     "name": "stderr",
     "output_type": "stream",
     "text": [
      " 77%|███████▋  | 375/486 [00:12<00:03, 32.17it/s]"
     ]
    },
    {
     "name": "stdout",
     "output_type": "stream",
     "text": [
      "24 1\n",
      "63 0\n",
      "24 1\n",
      "67 0\n",
      "24 0\n",
      "24 1\n",
      "49 1\n"
     ]
    },
    {
     "name": "stderr",
     "output_type": "stream",
     "text": [
      " 79%|███████▉  | 383/486 [00:12<00:03, 31.97it/s]"
     ]
    },
    {
     "name": "stdout",
     "output_type": "stream",
     "text": [
      "57 1\n",
      "24 1\n",
      "49 1\n",
      "14 1\n",
      "41 1\n",
      "68 0\n",
      "39 1\n"
     ]
    },
    {
     "name": "stderr",
     "output_type": "stream",
     "text": [
      "\r",
      " 80%|███████▉  | 387/486 [00:12<00:03, 32.01it/s]"
     ]
    },
    {
     "name": "stdout",
     "output_type": "stream",
     "text": [
      "49 1\n",
      "68 1\n",
      "54 0\n",
      "54 1\n",
      "17 1\n",
      "24 1\n",
      "58 1\n"
     ]
    },
    {
     "name": "stderr",
     "output_type": "stream",
     "text": [
      " 81%|████████▏ | 395/486 [00:13<00:02, 32.08it/s]"
     ]
    },
    {
     "name": "stdout",
     "output_type": "stream",
     "text": [
      "51 0\n",
      "44 1\n",
      "43 1\n",
      "56 0\n",
      "51 1\n",
      "27 1\n",
      "65 1\n"
     ]
    },
    {
     "name": "stderr",
     "output_type": "stream",
     "text": [
      " 83%|████████▎ | 403/486 [00:13<00:02, 32.31it/s]"
     ]
    },
    {
     "name": "stdout",
     "output_type": "stream",
     "text": [
      "24 1\n",
      "55 1\n",
      "55 1\n",
      "42 1\n",
      "30 1\n",
      "18 1\n",
      "8 1\n"
     ]
    },
    {
     "name": "stderr",
     "output_type": "stream",
     "text": [
      " 85%|████████▍ | 411/486 [00:13<00:02, 32.24it/s]"
     ]
    },
    {
     "name": "stdout",
     "output_type": "stream",
     "text": [
      "49 1\n",
      "24 1\n",
      "20 1\n",
      "63 0\n",
      "49 0\n",
      "52 1\n",
      "51 0\n"
     ]
    },
    {
     "name": "stderr",
     "output_type": "stream",
     "text": [
      "\r",
      " 85%|████████▌ | 415/486 [00:13<00:02, 32.20it/s]"
     ]
    },
    {
     "name": "stdout",
     "output_type": "stream",
     "text": [
      "3 1\n",
      "42 1\n",
      "7 1\n",
      "38 0\n",
      "19 1\n",
      "27 1\n",
      "41 1\n"
     ]
    },
    {
     "name": "stderr",
     "output_type": "stream",
     "text": [
      " 87%|████████▋ | 423/486 [00:14<00:01, 32.09it/s]"
     ]
    },
    {
     "name": "stdout",
     "output_type": "stream",
     "text": [
      "28 1\n",
      "21 1\n",
      "46 1\n",
      "45 1\n",
      "24 0\n",
      "24 1\n",
      "64 0\n"
     ]
    },
    {
     "name": "stderr",
     "output_type": "stream",
     "text": [
      " 89%|████████▊ | 431/486 [00:14<00:01, 32.31it/s]"
     ]
    },
    {
     "name": "stdout",
     "output_type": "stream",
     "text": [
      "11 1\n",
      "52 1\n",
      "46 1\n",
      "61 0\n",
      "24 1\n",
      "66 1\n",
      "46 1\n"
     ]
    },
    {
     "name": "stderr",
     "output_type": "stream",
     "text": [
      " 90%|█████████ | 439/486 [00:14<00:01, 32.34it/s]"
     ]
    },
    {
     "name": "stdout",
     "output_type": "stream",
     "text": [
      "42 0\n",
      "27 0\n",
      "24 1\n",
      "19 0\n",
      "47 0\n",
      "55 0\n",
      "50 1\n"
     ]
    },
    {
     "name": "stderr",
     "output_type": "stream",
     "text": [
      "\r",
      " 91%|█████████ | 443/486 [00:14<00:01, 32.40it/s]"
     ]
    },
    {
     "name": "stdout",
     "output_type": "stream",
     "text": [
      "43 1\n",
      "9 1\n",
      "45 1\n",
      "34 1\n",
      "44 0\n",
      "22 1\n",
      "45 1\n"
     ]
    },
    {
     "name": "stderr",
     "output_type": "stream",
     "text": [
      " 93%|█████████▎| 451/486 [00:14<00:01, 32.39it/s]"
     ]
    },
    {
     "name": "stdout",
     "output_type": "stream",
     "text": [
      "23 1\n",
      "24 0\n",
      "45 1\n",
      "63 1\n",
      "49 1\n",
      "17 1\n",
      "39 0\n"
     ]
    },
    {
     "name": "stderr",
     "output_type": "stream",
     "text": [
      " 94%|█████████▍| 459/486 [00:15<00:00, 32.44it/s]"
     ]
    },
    {
     "name": "stdout",
     "output_type": "stream",
     "text": [
      "52 1\n",
      "65 1\n",
      "40 1\n",
      "52 1\n",
      "46 0\n",
      "1 1\n",
      "60 1\n"
     ]
    },
    {
     "name": "stderr",
     "output_type": "stream",
     "text": [
      " 96%|█████████▌| 467/486 [00:15<00:00, 32.27it/s]"
     ]
    },
    {
     "name": "stdout",
     "output_type": "stream",
     "text": [
      "9 1\n",
      "43 1\n",
      "59 0\n",
      "39 0\n",
      "30 1\n",
      "24 1\n",
      "24 1\n"
     ]
    },
    {
     "name": "stderr",
     "output_type": "stream",
     "text": [
      "\r",
      " 97%|█████████▋| 471/486 [00:15<00:00, 32.24it/s]"
     ]
    },
    {
     "name": "stdout",
     "output_type": "stream",
     "text": [
      "52 0\n",
      "66 0\n",
      "28 1\n",
      "54 1\n",
      "40 0\n",
      "35 1\n",
      "47 1\n"
     ]
    },
    {
     "name": "stderr",
     "output_type": "stream",
     "text": [
      " 99%|█████████▊| 479/486 [00:15<00:00, 32.28it/s]"
     ]
    },
    {
     "name": "stdout",
     "output_type": "stream",
     "text": [
      "66 1\n",
      "30 1\n",
      "42 1\n",
      "59 1\n",
      "47 0\n",
      "43 1\n",
      "68 0\n"
     ]
    },
    {
     "name": "stderr",
     "output_type": "stream",
     "text": [
      "100%|██████████| 486/486 [00:15<00:00, 30.44it/s]\n"
     ]
    },
    {
     "name": "stdout",
     "output_type": "stream",
     "text": [
      "43 1\n",
      "30 1\n",
      "5 0\n",
      "55 0\n"
     ]
    },
    {
     "name": "stderr",
     "output_type": "stream",
     "text": [
      "\r",
      "  0%|          | 0/121 [00:00<?, ?it/s]"
     ]
    },
    {
     "name": "stdout",
     "output_type": "stream",
     "text": [
      "23 0\n",
      "42 0\n",
      "44 0\n"
     ]
    },
    {
     "name": "stderr",
     "output_type": "stream",
     "text": [
      "\r",
      "  3%|▎         | 4/121 [00:00<00:03, 31.99it/s]"
     ]
    },
    {
     "name": "stdout",
     "output_type": "stream",
     "text": [
      "65 0\n",
      "24 0\n",
      "13 1\n",
      "24 0\n"
     ]
    },
    {
     "name": "stderr",
     "output_type": "stream",
     "text": [
      "\r",
      "  7%|▋         | 8/121 [00:00<00:03, 32.25it/s]"
     ]
    },
    {
     "name": "stdout",
     "output_type": "stream",
     "text": [
      "29 0\n",
      "64 0\n",
      "56 0\n"
     ]
    },
    {
     "name": "stderr",
     "output_type": "stream",
     "text": [
      "\r",
      " 10%|▉         | 12/121 [00:00<00:03, 32.16it/s]"
     ]
    },
    {
     "name": "stdout",
     "output_type": "stream",
     "text": [
      "12 1\n",
      "29 0\n",
      "45 1\n",
      "55 1\n"
     ]
    },
    {
     "name": "stderr",
     "output_type": "stream",
     "text": [
      "\r",
      " 13%|█▎        | 16/121 [00:00<00:03, 32.21it/s]"
     ]
    },
    {
     "name": "stdout",
     "output_type": "stream",
     "text": [
      "21 0\n",
      "52 1\n",
      "48 1\n"
     ]
    },
    {
     "name": "stderr",
     "output_type": "stream",
     "text": [
      "\r",
      " 17%|█▋        | 20/121 [00:00<00:03, 32.06it/s]"
     ]
    },
    {
     "name": "stdout",
     "output_type": "stream",
     "text": [
      "45 1\n",
      "53 0\n",
      "14 1\n",
      "20 1\n",
      "48 1\n",
      "62 0\n",
      "34 1\n"
     ]
    },
    {
     "name": "stderr",
     "output_type": "stream",
     "text": [
      "\r",
      " 20%|█▉        | 24/121 [00:00<00:03, 31.92it/s]"
     ]
    },
    {
     "name": "stdout",
     "output_type": "stream",
     "text": [
      "68 0\n",
      "23 0\n",
      "28 1\n",
      "16 1\n"
     ]
    },
    {
     "name": "stderr",
     "output_type": "stream",
     "text": [
      "\r",
      " 23%|██▎       | 28/121 [00:00<00:02, 32.17it/s]"
     ]
    },
    {
     "name": "stdout",
     "output_type": "stream",
     "text": [
      "26 0\n",
      "18 0\n",
      "66 1\n"
     ]
    },
    {
     "name": "stderr",
     "output_type": "stream",
     "text": [
      "\r",
      " 26%|██▋       | 32/121 [00:00<00:02, 32.26it/s]"
     ]
    },
    {
     "name": "stdout",
     "output_type": "stream",
     "text": [
      "31 1\n",
      "43 0\n",
      "24 1\n",
      "45 1\n"
     ]
    },
    {
     "name": "stderr",
     "output_type": "stream",
     "text": [
      "\r",
      " 30%|██▉       | 36/121 [00:01<00:02, 32.32it/s]"
     ]
    },
    {
     "name": "stdout",
     "output_type": "stream",
     "text": [
      "4 0\n",
      "50 0\n",
      "11 1\n"
     ]
    },
    {
     "name": "stderr",
     "output_type": "stream",
     "text": [
      "\r",
      " 33%|███▎      | 40/121 [00:01<00:02, 32.31it/s]"
     ]
    },
    {
     "name": "stdout",
     "output_type": "stream",
     "text": [
      "51 1\n",
      "69 1\n",
      "44 1\n",
      "24 1\n"
     ]
    },
    {
     "name": "stderr",
     "output_type": "stream",
     "text": [
      "\r",
      " 36%|███▋      | 44/121 [00:01<00:02, 32.36it/s]"
     ]
    },
    {
     "name": "stdout",
     "output_type": "stream",
     "text": [
      "66 1\n",
      "42 0\n",
      "14 0\n"
     ]
    },
    {
     "name": "stderr",
     "output_type": "stream",
     "text": [
      "\r",
      " 40%|███▉      | 48/121 [00:01<00:02, 32.35it/s]"
     ]
    },
    {
     "name": "stdout",
     "output_type": "stream",
     "text": [
      "42 1\n",
      "65 1\n",
      "1 1\n",
      "29 1\n",
      "24 1\n",
      "39 0\n",
      "10 1\n"
     ]
    },
    {
     "name": "stderr",
     "output_type": "stream",
     "text": [
      "\r",
      " 43%|████▎     | 52/121 [00:01<00:02, 32.17it/s]"
     ]
    },
    {
     "name": "stdout",
     "output_type": "stream",
     "text": [
      "67 1\n",
      "50 1\n",
      "66 1\n",
      "28 1\n"
     ]
    },
    {
     "name": "stderr",
     "output_type": "stream",
     "text": [
      "\r",
      " 46%|████▋     | 56/121 [00:01<00:02, 32.28it/s]"
     ]
    },
    {
     "name": "stdout",
     "output_type": "stream",
     "text": [
      "11 1\n",
      "24 0\n",
      "24 1\n"
     ]
    },
    {
     "name": "stderr",
     "output_type": "stream",
     "text": [
      "\r",
      " 50%|████▉     | 60/121 [00:01<00:01, 32.25it/s]"
     ]
    },
    {
     "name": "stdout",
     "output_type": "stream",
     "text": [
      "22 1\n",
      "51 1\n",
      "66 0\n",
      "1 1\n"
     ]
    },
    {
     "name": "stderr",
     "output_type": "stream",
     "text": [
      "\r",
      " 53%|█████▎    | 64/121 [00:01<00:01, 32.18it/s]"
     ]
    },
    {
     "name": "stdout",
     "output_type": "stream",
     "text": [
      "69 1\n",
      "21 1\n",
      "35 0\n"
     ]
    },
    {
     "name": "stderr",
     "output_type": "stream",
     "text": [
      "\r",
      " 56%|█████▌    | 68/121 [00:02<00:01, 32.13it/s]"
     ]
    },
    {
     "name": "stdout",
     "output_type": "stream",
     "text": [
      "41 1\n",
      "24 0\n",
      "59 1\n",
      "34 1\n"
     ]
    },
    {
     "name": "stderr",
     "output_type": "stream",
     "text": [
      "\r",
      " 60%|█████▉    | 72/121 [00:02<00:01, 32.09it/s]"
     ]
    },
    {
     "name": "stdout",
     "output_type": "stream",
     "text": [
      "27 1\n",
      "46 1\n",
      "24 1\n"
     ]
    },
    {
     "name": "stderr",
     "output_type": "stream",
     "text": [
      "\r",
      " 63%|██████▎   | 76/121 [00:02<00:01, 31.95it/s]"
     ]
    },
    {
     "name": "stdout",
     "output_type": "stream",
     "text": [
      "5 0\n",
      "60 0\n",
      "24 0\n",
      "4 1\n",
      "23 1\n",
      "38 1\n",
      "25 1\n"
     ]
    },
    {
     "name": "stderr",
     "output_type": "stream",
     "text": [
      "\r",
      " 66%|██████▌   | 80/121 [00:02<00:01, 31.83it/s]"
     ]
    },
    {
     "name": "stdout",
     "output_type": "stream",
     "text": [
      "40 1\n",
      "41 1\n",
      "59 1\n",
      "43 1\n"
     ]
    },
    {
     "name": "stderr",
     "output_type": "stream",
     "text": [
      "\r",
      " 69%|██████▉   | 84/121 [00:02<00:01, 32.09it/s]"
     ]
    },
    {
     "name": "stdout",
     "output_type": "stream",
     "text": [
      "20 1\n",
      "52 0\n",
      "30 1\n"
     ]
    },
    {
     "name": "stderr",
     "output_type": "stream",
     "text": [
      "\r",
      " 73%|███████▎  | 88/121 [00:02<00:01, 32.17it/s]"
     ]
    },
    {
     "name": "stdout",
     "output_type": "stream",
     "text": [
      "51 0\n",
      "25 0\n",
      "49 0\n",
      "50 0\n"
     ]
    },
    {
     "name": "stderr",
     "output_type": "stream",
     "text": [
      "\r",
      " 76%|███████▌  | 92/121 [00:02<00:00, 32.32it/s]"
     ]
    },
    {
     "name": "stdout",
     "output_type": "stream",
     "text": [
      "52 0\n",
      "27 0\n",
      "50 1\n"
     ]
    },
    {
     "name": "stderr",
     "output_type": "stream",
     "text": [
      "\r",
      " 79%|███████▉  | 96/121 [00:02<00:00, 32.41it/s]"
     ]
    },
    {
     "name": "stdout",
     "output_type": "stream",
     "text": [
      "23 0\n",
      "43 1\n",
      "24 1\n",
      "49 0\n"
     ]
    },
    {
     "name": "stderr",
     "output_type": "stream",
     "text": [
      "\r",
      " 83%|████████▎ | 100/121 [00:03<00:00, 32.17it/s]"
     ]
    },
    {
     "name": "stdout",
     "output_type": "stream",
     "text": [
      "18 1\n",
      "45 1\n",
      "68 0\n"
     ]
    },
    {
     "name": "stderr",
     "output_type": "stream",
     "text": [
      "\r",
      " 86%|████████▌ | 104/121 [00:03<00:00, 32.15it/s]"
     ]
    },
    {
     "name": "stdout",
     "output_type": "stream",
     "text": [
      "59 0\n",
      "1 1\n",
      "58 0\n",
      "27 0\n",
      "59 1\n",
      "44 1\n",
      "55 1\n"
     ]
    },
    {
     "name": "stderr",
     "output_type": "stream",
     "text": [
      "\r",
      " 89%|████████▉ | 108/121 [00:03<00:00, 32.07it/s]"
     ]
    },
    {
     "name": "stdout",
     "output_type": "stream",
     "text": [
      "24 0\n",
      "58 1\n",
      "44 1\n",
      "24 1\n"
     ]
    },
    {
     "name": "stderr",
     "output_type": "stream",
     "text": [
      "\r",
      " 93%|█████████▎| 112/121 [00:03<00:00, 32.12it/s]"
     ]
    },
    {
     "name": "stdout",
     "output_type": "stream",
     "text": [
      "37 1\n",
      "4 1\n",
      "53 1\n"
     ]
    },
    {
     "name": "stderr",
     "output_type": "stream",
     "text": [
      "\r",
      " 96%|█████████▌| 116/121 [00:03<00:00, 32.13it/s]"
     ]
    },
    {
     "name": "stdout",
     "output_type": "stream",
     "text": [
      "65 1\n",
      "60 0\n",
      "38 1\n",
      "50 1\n"
     ]
    },
    {
     "name": "stderr",
     "output_type": "stream",
     "text": [
      "100%|██████████| 121/121 [00:03<00:00, 32.18it/s]"
     ]
    },
    {
     "name": "stdout",
     "output_type": "stream",
     "text": [
      "63 1\n",
      "24 1\n"
     ]
    },
    {
     "name": "stderr",
     "output_type": "stream",
     "text": [
      "\n"
     ]
    }
   ],
   "source": [
    "from torch.utils.data import DataLoader\n",
    "import torch\n",
    "\n",
    "no_of_segs = 82\n",
    "pattrainset = patientDataset(\"../train/\", no_of_segs)\n",
    "\n",
    "pattestset = patientDataset(\"../split_5/\", no_of_segs)\n",
    "\n",
    "device = torch.device('cuda' if torch.cuda.is_available() else 'cpu')"
   ]
  },
  {
   "cell_type": "code",
   "execution_count": 72,
   "id": "57cf4a06",
   "metadata": {},
   "outputs": [],
   "source": [
    "trainloader = DataLoader(dataset=pattrainset, batch_size=32, shuffle=True, num_workers=20)\n",
    "valloader = DataLoader(dataset=pattestset, batch_size=32, shuffle=True, num_workers=20)"
   ]
  },
  {
   "cell_type": "code",
   "execution_count": 84,
   "id": "7b4002a1",
   "metadata": {},
   "outputs": [
    {
     "data": {
      "text/plain": [
       "((486, 2019), (486,))"
      ]
     },
     "execution_count": 84,
     "metadata": {},
     "output_type": "execute_result"
    }
   ],
   "source": [
    "X, y = np.array(pattrainset.inputs), np.array(pattrainset.outcomes)\n",
    "# X = X.reshape((X.shape[0], X.shape[1]*X.shape[2]))\n",
    "y = y[:,0]\n",
    "X.shape,y.shape"
   ]
  },
  {
   "cell_type": "code",
   "execution_count": 85,
   "id": "a3420a6b",
   "metadata": {},
   "outputs": [],
   "source": [
    "import pandas as pd\n",
    "df = pd.DataFrame(X)\n",
    "df['y'] = y"
   ]
  },
  {
   "cell_type": "code",
   "execution_count": 86,
   "id": "969fe19c",
   "metadata": {},
   "outputs": [
    {
     "name": "stdout",
     "output_type": "stream",
     "text": [
      "Checking whether there is an H2O instance running at http://localhost:54321..... not found.\n",
      "Attempting to start a local H2O server...\n",
      "  Java Version: openjdk version \"11.0.17\" 2022-10-18; OpenJDK Runtime Environment (build 11.0.17+8-post-Ubuntu-1ubuntu218.04); OpenJDK 64-Bit Server VM (build 11.0.17+8-post-Ubuntu-1ubuntu218.04, mixed mode, sharing)\n",
      "  Starting server from /home2/vijay.vignesh/miniconda3/envs/tdl/lib/python3.8/site-packages/h2o/backend/bin/h2o.jar\n",
      "  Ice root: /tmp/tmprn45jfeg\n",
      "  JVM stdout: /tmp/tmprn45jfeg/h2o_vijay_vignesh_started_from_python.out\n",
      "  JVM stderr: /tmp/tmprn45jfeg/h2o_vijay_vignesh_started_from_python.err\n",
      "  Server is running at http://127.0.0.1:54321\n",
      "Connecting to H2O server at http://127.0.0.1:54321 ... successful.\n"
     ]
    },
    {
     "data": {
      "text/html": [
       "\n",
       "<style>\n",
       "\n",
       "#h2o-table-1.h2o-container {\n",
       "  overflow-x: auto;\n",
       "}\n",
       "#h2o-table-1 .h2o-table {\n",
       "  /* width: 100%; */\n",
       "  margin-top: 1em;\n",
       "  margin-bottom: 1em;\n",
       "}\n",
       "#h2o-table-1 .h2o-table caption {\n",
       "  white-space: nowrap;\n",
       "  caption-side: top;\n",
       "  text-align: left;\n",
       "  /* margin-left: 1em; */\n",
       "  margin: 0;\n",
       "  font-size: larger;\n",
       "}\n",
       "#h2o-table-1 .h2o-table thead {\n",
       "  white-space: nowrap; \n",
       "  position: sticky;\n",
       "  top: 0;\n",
       "  box-shadow: 0 -1px inset;\n",
       "}\n",
       "#h2o-table-1 .h2o-table tbody {\n",
       "  overflow: auto;\n",
       "}\n",
       "#h2o-table-1 .h2o-table th,\n",
       "#h2o-table-1 .h2o-table td {\n",
       "  text-align: right;\n",
       "  /* border: 1px solid; */\n",
       "}\n",
       "#h2o-table-1 .h2o-table tr:nth-child(even) {\n",
       "  /* background: #F5F5F5 */\n",
       "}\n",
       "\n",
       "</style>      \n",
       "<div id=\"h2o-table-1\" class=\"h2o-container\">\n",
       "  <table class=\"h2o-table\">\n",
       "    <caption></caption>\n",
       "    <thead></thead>\n",
       "    <tbody><tr><td>H2O_cluster_uptime:</td>\n",
       "<td>01 secs</td></tr>\n",
       "<tr><td>H2O_cluster_timezone:</td>\n",
       "<td>Asia/Kolkata</td></tr>\n",
       "<tr><td>H2O_data_parsing_timezone:</td>\n",
       "<td>UTC</td></tr>\n",
       "<tr><td>H2O_cluster_version:</td>\n",
       "<td>3.40.0.3</td></tr>\n",
       "<tr><td>H2O_cluster_version_age:</td>\n",
       "<td>19 days</td></tr>\n",
       "<tr><td>H2O_cluster_name:</td>\n",
       "<td>H2O_from_python_vijay_vignesh_t15h53</td></tr>\n",
       "<tr><td>H2O_cluster_total_nodes:</td>\n",
       "<td>1</td></tr>\n",
       "<tr><td>H2O_cluster_free_memory:</td>\n",
       "<td>10 Gb</td></tr>\n",
       "<tr><td>H2O_cluster_total_cores:</td>\n",
       "<td>20</td></tr>\n",
       "<tr><td>H2O_cluster_allowed_cores:</td>\n",
       "<td>20</td></tr>\n",
       "<tr><td>H2O_cluster_status:</td>\n",
       "<td>locked, healthy</td></tr>\n",
       "<tr><td>H2O_connection_url:</td>\n",
       "<td>http://127.0.0.1:54321</td></tr>\n",
       "<tr><td>H2O_connection_proxy:</td>\n",
       "<td>{\"http\": null, \"https\": null}</td></tr>\n",
       "<tr><td>H2O_internal_security:</td>\n",
       "<td>False</td></tr>\n",
       "<tr><td>Python_version:</td>\n",
       "<td>3.8.16 final</td></tr></tbody>\n",
       "  </table>\n",
       "</div>\n"
      ],
      "text/plain": [
       "--------------------------  ------------------------------------\n",
       "H2O_cluster_uptime:         01 secs\n",
       "H2O_cluster_timezone:       Asia/Kolkata\n",
       "H2O_data_parsing_timezone:  UTC\n",
       "H2O_cluster_version:        3.40.0.3\n",
       "H2O_cluster_version_age:    19 days\n",
       "H2O_cluster_name:           H2O_from_python_vijay_vignesh_t15h53\n",
       "H2O_cluster_total_nodes:    1\n",
       "H2O_cluster_free_memory:    10 Gb\n",
       "H2O_cluster_total_cores:    20\n",
       "H2O_cluster_allowed_cores:  20\n",
       "H2O_cluster_status:         locked, healthy\n",
       "H2O_connection_url:         http://127.0.0.1:54321\n",
       "H2O_connection_proxy:       {\"http\": null, \"https\": null}\n",
       "H2O_internal_security:      False\n",
       "Python_version:             3.8.16 final\n",
       "--------------------------  ------------------------------------"
      ]
     },
     "metadata": {},
     "output_type": "display_data"
    }
   ],
   "source": [
    "import h2o\n",
    "from h2o.automl import H2OAutoML\n",
    "# We will be using default parameter Here with H2O init method\n",
    "h2o.init()"
   ]
  },
  {
   "cell_type": "code",
   "execution_count": 87,
   "id": "316cccae",
   "metadata": {},
   "outputs": [
    {
     "name": "stdout",
     "output_type": "stream",
     "text": [
      "Parse progress: |████████████████████████████████████████████████████████████████| (done) 100%\n"
     ]
    }
   ],
   "source": [
    "# convert pandas DataFrame into H2O Frame\n",
    "train = h2o.H2OFrame(df)"
   ]
  },
  {
   "cell_type": "code",
   "execution_count": 88,
   "id": "1de62d0f",
   "metadata": {},
   "outputs": [
    {
     "name": "stdout",
     "output_type": "stream",
     "text": [
      "Parse progress: |████████████████████████████████████████████████████████████████| (done) 100%\n"
     ]
    }
   ],
   "source": [
    "X, y = np.array(pattrainset.inputs), np.array(pattrainset.outcomes)\n",
    "# X = X.reshape((X.shape[0], X.shape[1]*X.shape[2]))\n",
    "y = y[:,0]\n",
    "df_val = pd.DataFrame(X)\n",
    "df_val['y'] = y\n",
    "\n",
    "test = h2o.H2OFrame(df_val)\n",
    "x = test.columns\n",
    "y = 'y'\n",
    "# remove label classvariable from feature variable\n",
    "x.remove(y)"
   ]
  },
  {
   "cell_type": "code",
   "execution_count": 89,
   "id": "22fc98e6",
   "metadata": {},
   "outputs": [
    {
     "name": "stdout",
     "output_type": "stream",
     "text": [
      "AutoML progress: |███████████████████████████████████████████████████████████████| (done) 100%\n"
     ]
    },
    {
     "data": {
      "text/html": [
       "<pre style='margin: 1em 0 1em 0;'>Model Details\n",
       "=============\n",
       "H2ODeepLearningEstimator : Deep Learning\n",
       "Model Key: DeepLearning_grid_1_AutoML_1_20230423_181434_model_1\n",
       "</pre>\n",
       "<div style='margin: 1em 0 1em 0;'>\n",
       "<style>\n",
       "\n",
       "#h2o-table-2.h2o-container {\n",
       "  overflow-x: auto;\n",
       "}\n",
       "#h2o-table-2 .h2o-table {\n",
       "  /* width: 100%; */\n",
       "  margin-top: 1em;\n",
       "  margin-bottom: 1em;\n",
       "}\n",
       "#h2o-table-2 .h2o-table caption {\n",
       "  white-space: nowrap;\n",
       "  caption-side: top;\n",
       "  text-align: left;\n",
       "  /* margin-left: 1em; */\n",
       "  margin: 0;\n",
       "  font-size: larger;\n",
       "}\n",
       "#h2o-table-2 .h2o-table thead {\n",
       "  white-space: nowrap; \n",
       "  position: sticky;\n",
       "  top: 0;\n",
       "  box-shadow: 0 -1px inset;\n",
       "}\n",
       "#h2o-table-2 .h2o-table tbody {\n",
       "  overflow: auto;\n",
       "}\n",
       "#h2o-table-2 .h2o-table th,\n",
       "#h2o-table-2 .h2o-table td {\n",
       "  text-align: right;\n",
       "  /* border: 1px solid; */\n",
       "}\n",
       "#h2o-table-2 .h2o-table tr:nth-child(even) {\n",
       "  /* background: #F5F5F5 */\n",
       "}\n",
       "\n",
       "</style>      \n",
       "<div id=\"h2o-table-2\" class=\"h2o-container\">\n",
       "  <table class=\"h2o-table\">\n",
       "    <caption>Status of Neuron Layers: predicting y, 2-class classification, bernoulli distribution, CrossEntropy loss, 202,202 weights/biases, 2.5 MB, 32,089 training samples, mini-batch size 1</caption>\n",
       "    <thead><tr><th></th>\n",
       "<th>layer</th>\n",
       "<th>units</th>\n",
       "<th>type</th>\n",
       "<th>dropout</th>\n",
       "<th>l1</th>\n",
       "<th>l2</th>\n",
       "<th>mean_rate</th>\n",
       "<th>rate_rms</th>\n",
       "<th>momentum</th>\n",
       "<th>mean_weight</th>\n",
       "<th>weight_rms</th>\n",
       "<th>mean_bias</th>\n",
       "<th>bias_rms</th></tr></thead>\n",
       "    <tbody><tr><td></td>\n",
       "<td>1</td>\n",
       "<td>2019</td>\n",
       "<td>Input</td>\n",
       "<td>15.0</td>\n",
       "<td></td>\n",
       "<td></td>\n",
       "<td></td>\n",
       "<td></td>\n",
       "<td></td>\n",
       "<td></td>\n",
       "<td></td>\n",
       "<td></td>\n",
       "<td></td></tr>\n",
       "<tr><td></td>\n",
       "<td>2</td>\n",
       "<td>100</td>\n",
       "<td>RectifierDropout</td>\n",
       "<td>10.0</td>\n",
       "<td>0.0</td>\n",
       "<td>0.0</td>\n",
       "<td>0.9062207</td>\n",
       "<td>0.1889160</td>\n",
       "<td>0.0</td>\n",
       "<td>0.0005737</td>\n",
       "<td>0.0338997</td>\n",
       "<td>0.4928218</td>\n",
       "<td>0.0330150</td></tr>\n",
       "<tr><td></td>\n",
       "<td>3</td>\n",
       "<td>2</td>\n",
       "<td>Softmax</td>\n",
       "<td></td>\n",
       "<td>0.0</td>\n",
       "<td>0.0</td>\n",
       "<td>0.6023460</td>\n",
       "<td>0.2122639</td>\n",
       "<td>0.0</td>\n",
       "<td>-0.0179563</td>\n",
       "<td>0.5148141</td>\n",
       "<td>-0.0000311</td>\n",
       "<td>0.0207359</td></tr></tbody>\n",
       "  </table>\n",
       "</div>\n",
       "</div>\n",
       "<div style='margin: 1em 0 1em 0;'><pre style='margin: 1em 0 1em 0;'>ModelMetricsBinomial: deeplearning\n",
       "** Reported on train data. **\n",
       "\n",
       "MSE: 9.825461136093913e-06\n",
       "RMSE: 0.0031345591613644672\n",
       "LogLoss: 0.00014978658518230447\n",
       "Mean Per-Class Error: 0.0\n",
       "AUC: 1.0\n",
       "AUCPR: 1.0\n",
       "Gini: 1.0</pre>\n",
       "<div style='margin: 1em 0 1em 0;'>\n",
       "<style>\n",
       "\n",
       "#h2o-table-3.h2o-container {\n",
       "  overflow-x: auto;\n",
       "}\n",
       "#h2o-table-3 .h2o-table {\n",
       "  /* width: 100%; */\n",
       "  margin-top: 1em;\n",
       "  margin-bottom: 1em;\n",
       "}\n",
       "#h2o-table-3 .h2o-table caption {\n",
       "  white-space: nowrap;\n",
       "  caption-side: top;\n",
       "  text-align: left;\n",
       "  /* margin-left: 1em; */\n",
       "  margin: 0;\n",
       "  font-size: larger;\n",
       "}\n",
       "#h2o-table-3 .h2o-table thead {\n",
       "  white-space: nowrap; \n",
       "  position: sticky;\n",
       "  top: 0;\n",
       "  box-shadow: 0 -1px inset;\n",
       "}\n",
       "#h2o-table-3 .h2o-table tbody {\n",
       "  overflow: auto;\n",
       "}\n",
       "#h2o-table-3 .h2o-table th,\n",
       "#h2o-table-3 .h2o-table td {\n",
       "  text-align: right;\n",
       "  /* border: 1px solid; */\n",
       "}\n",
       "#h2o-table-3 .h2o-table tr:nth-child(even) {\n",
       "  /* background: #F5F5F5 */\n",
       "}\n",
       "\n",
       "</style>      \n",
       "<div id=\"h2o-table-3\" class=\"h2o-container\">\n",
       "  <table class=\"h2o-table\">\n",
       "    <caption>Confusion Matrix (Act/Pred) for max f1 @ threshold = 0.9308977783842188</caption>\n",
       "    <thead><tr><th></th>\n",
       "<th>0</th>\n",
       "<th>1</th>\n",
       "<th>Error</th>\n",
       "<th>Rate</th></tr></thead>\n",
       "    <tbody><tr><td>0</td>\n",
       "<td>306.0</td>\n",
       "<td>0.0</td>\n",
       "<td>0.0</td>\n",
       "<td> (0.0/306.0)</td></tr>\n",
       "<tr><td>1</td>\n",
       "<td>0.0</td>\n",
       "<td>180.0</td>\n",
       "<td>0.0</td>\n",
       "<td> (0.0/180.0)</td></tr>\n",
       "<tr><td>Total</td>\n",
       "<td>306.0</td>\n",
       "<td>180.0</td>\n",
       "<td>0.0</td>\n",
       "<td> (0.0/486.0)</td></tr></tbody>\n",
       "  </table>\n",
       "</div>\n",
       "</div>\n",
       "<div style='margin: 1em 0 1em 0;'>\n",
       "<style>\n",
       "\n",
       "#h2o-table-4.h2o-container {\n",
       "  overflow-x: auto;\n",
       "}\n",
       "#h2o-table-4 .h2o-table {\n",
       "  /* width: 100%; */\n",
       "  margin-top: 1em;\n",
       "  margin-bottom: 1em;\n",
       "}\n",
       "#h2o-table-4 .h2o-table caption {\n",
       "  white-space: nowrap;\n",
       "  caption-side: top;\n",
       "  text-align: left;\n",
       "  /* margin-left: 1em; */\n",
       "  margin: 0;\n",
       "  font-size: larger;\n",
       "}\n",
       "#h2o-table-4 .h2o-table thead {\n",
       "  white-space: nowrap; \n",
       "  position: sticky;\n",
       "  top: 0;\n",
       "  box-shadow: 0 -1px inset;\n",
       "}\n",
       "#h2o-table-4 .h2o-table tbody {\n",
       "  overflow: auto;\n",
       "}\n",
       "#h2o-table-4 .h2o-table th,\n",
       "#h2o-table-4 .h2o-table td {\n",
       "  text-align: right;\n",
       "  /* border: 1px solid; */\n",
       "}\n",
       "#h2o-table-4 .h2o-table tr:nth-child(even) {\n",
       "  /* background: #F5F5F5 */\n",
       "}\n",
       "\n",
       "</style>      \n",
       "<div id=\"h2o-table-4\" class=\"h2o-container\">\n",
       "  <table class=\"h2o-table\">\n",
       "    <caption>Maximum Metrics: Maximum metrics at their respective thresholds</caption>\n",
       "    <thead><tr><th>metric</th>\n",
       "<th>threshold</th>\n",
       "<th>value</th>\n",
       "<th>idx</th></tr></thead>\n",
       "    <tbody><tr><td>max f1</td>\n",
       "<td>0.9308978</td>\n",
       "<td>1.0</td>\n",
       "<td>39.0</td></tr>\n",
       "<tr><td>max f2</td>\n",
       "<td>0.9308978</td>\n",
       "<td>1.0</td>\n",
       "<td>39.0</td></tr>\n",
       "<tr><td>max f0point5</td>\n",
       "<td>0.9308978</td>\n",
       "<td>1.0</td>\n",
       "<td>39.0</td></tr>\n",
       "<tr><td>max accuracy</td>\n",
       "<td>0.9308978</td>\n",
       "<td>1.0</td>\n",
       "<td>39.0</td></tr>\n",
       "<tr><td>max precision</td>\n",
       "<td>1.0000000</td>\n",
       "<td>1.0</td>\n",
       "<td>0.0</td></tr>\n",
       "<tr><td>max recall</td>\n",
       "<td>0.9308978</td>\n",
       "<td>1.0</td>\n",
       "<td>39.0</td></tr>\n",
       "<tr><td>max specificity</td>\n",
       "<td>1.0000000</td>\n",
       "<td>1.0</td>\n",
       "<td>0.0</td></tr>\n",
       "<tr><td>max absolute_mcc</td>\n",
       "<td>0.9308978</td>\n",
       "<td>1.0</td>\n",
       "<td>39.0</td></tr>\n",
       "<tr><td>max min_per_class_accuracy</td>\n",
       "<td>0.9308978</td>\n",
       "<td>1.0</td>\n",
       "<td>39.0</td></tr>\n",
       "<tr><td>max mean_per_class_accuracy</td>\n",
       "<td>0.9308978</td>\n",
       "<td>1.0</td>\n",
       "<td>39.0</td></tr>\n",
       "<tr><td>max tns</td>\n",
       "<td>1.0000000</td>\n",
       "<td>306.0</td>\n",
       "<td>0.0</td></tr>\n",
       "<tr><td>max fns</td>\n",
       "<td>1.0000000</td>\n",
       "<td>74.0</td>\n",
       "<td>0.0</td></tr>\n",
       "<tr><td>max fps</td>\n",
       "<td>0.0000000</td>\n",
       "<td>306.0</td>\n",
       "<td>345.0</td></tr>\n",
       "<tr><td>max tps</td>\n",
       "<td>0.9308978</td>\n",
       "<td>180.0</td>\n",
       "<td>39.0</td></tr>\n",
       "<tr><td>max tnr</td>\n",
       "<td>1.0000000</td>\n",
       "<td>1.0</td>\n",
       "<td>0.0</td></tr>\n",
       "<tr><td>max fnr</td>\n",
       "<td>1.0000000</td>\n",
       "<td>0.4111111</td>\n",
       "<td>0.0</td></tr>\n",
       "<tr><td>max fpr</td>\n",
       "<td>0.0000000</td>\n",
       "<td>1.0</td>\n",
       "<td>345.0</td></tr>\n",
       "<tr><td>max tpr</td>\n",
       "<td>0.9308978</td>\n",
       "<td>1.0</td>\n",
       "<td>39.0</td></tr></tbody>\n",
       "  </table>\n",
       "</div>\n",
       "</div>\n",
       "<div style='margin: 1em 0 1em 0;'>\n",
       "<style>\n",
       "\n",
       "#h2o-table-5.h2o-container {\n",
       "  overflow-x: auto;\n",
       "}\n",
       "#h2o-table-5 .h2o-table {\n",
       "  /* width: 100%; */\n",
       "  margin-top: 1em;\n",
       "  margin-bottom: 1em;\n",
       "}\n",
       "#h2o-table-5 .h2o-table caption {\n",
       "  white-space: nowrap;\n",
       "  caption-side: top;\n",
       "  text-align: left;\n",
       "  /* margin-left: 1em; */\n",
       "  margin: 0;\n",
       "  font-size: larger;\n",
       "}\n",
       "#h2o-table-5 .h2o-table thead {\n",
       "  white-space: nowrap; \n",
       "  position: sticky;\n",
       "  top: 0;\n",
       "  box-shadow: 0 -1px inset;\n",
       "}\n",
       "#h2o-table-5 .h2o-table tbody {\n",
       "  overflow: auto;\n",
       "}\n",
       "#h2o-table-5 .h2o-table th,\n",
       "#h2o-table-5 .h2o-table td {\n",
       "  text-align: right;\n",
       "  /* border: 1px solid; */\n",
       "}\n",
       "#h2o-table-5 .h2o-table tr:nth-child(even) {\n",
       "  /* background: #F5F5F5 */\n",
       "}\n",
       "\n",
       "</style>      \n",
       "<div id=\"h2o-table-5\" class=\"h2o-container\">\n",
       "  <table class=\"h2o-table\">\n",
       "    <caption>Gains/Lift Table: Avg response rate: 37.04 %, avg score: 37.02 %</caption>\n",
       "    <thead><tr><th>group</th>\n",
       "<th>cumulative_data_fraction</th>\n",
       "<th>lower_threshold</th>\n",
       "<th>lift</th>\n",
       "<th>cumulative_lift</th>\n",
       "<th>response_rate</th>\n",
       "<th>score</th>\n",
       "<th>cumulative_response_rate</th>\n",
       "<th>cumulative_score</th>\n",
       "<th>capture_rate</th>\n",
       "<th>cumulative_capture_rate</th>\n",
       "<th>gain</th>\n",
       "<th>cumulative_gain</th>\n",
       "<th>kolmogorov_smirnov</th></tr></thead>\n",
       "    <tbody><tr><td>1</td>\n",
       "<td>0.0329218</td>\n",
       "<td>1.0</td>\n",
       "<td>2.7</td>\n",
       "<td>2.7</td>\n",
       "<td>1.0</td>\n",
       "<td>1.0</td>\n",
       "<td>1.0</td>\n",
       "<td>1.0</td>\n",
       "<td>0.0888889</td>\n",
       "<td>0.0888889</td>\n",
       "<td>170.0000000</td>\n",
       "<td>170.0000000</td>\n",
       "<td>0.0888889</td></tr>\n",
       "<tr><td>2</td>\n",
       "<td>0.0432099</td>\n",
       "<td>1.0000000</td>\n",
       "<td>2.7</td>\n",
       "<td>2.7</td>\n",
       "<td>1.0</td>\n",
       "<td>1.0000000</td>\n",
       "<td>1.0</td>\n",
       "<td>1.0000000</td>\n",
       "<td>0.0277778</td>\n",
       "<td>0.1166667</td>\n",
       "<td>170.0000000</td>\n",
       "<td>170.0000000</td>\n",
       "<td>0.1166667</td></tr>\n",
       "<tr><td>3</td>\n",
       "<td>0.0514403</td>\n",
       "<td>1.0000000</td>\n",
       "<td>2.7</td>\n",
       "<td>2.7</td>\n",
       "<td>1.0</td>\n",
       "<td>1.0000000</td>\n",
       "<td>1.0</td>\n",
       "<td>1.0000000</td>\n",
       "<td>0.0222222</td>\n",
       "<td>0.1388889</td>\n",
       "<td>170.0000000</td>\n",
       "<td>170.0000000</td>\n",
       "<td>0.1388889</td></tr>\n",
       "<tr><td>4</td>\n",
       "<td>0.1008230</td>\n",
       "<td>1.0000000</td>\n",
       "<td>2.7</td>\n",
       "<td>2.7</td>\n",
       "<td>1.0</td>\n",
       "<td>1.0000000</td>\n",
       "<td>1.0</td>\n",
       "<td>1.0000000</td>\n",
       "<td>0.1333333</td>\n",
       "<td>0.2722222</td>\n",
       "<td>170.0000000</td>\n",
       "<td>170.0000000</td>\n",
       "<td>0.2722222</td></tr>\n",
       "<tr><td>5</td>\n",
       "<td>0.1502058</td>\n",
       "<td>1.0000000</td>\n",
       "<td>2.7</td>\n",
       "<td>2.7</td>\n",
       "<td>1.0</td>\n",
       "<td>1.0000000</td>\n",
       "<td>1.0</td>\n",
       "<td>1.0000000</td>\n",
       "<td>0.1333333</td>\n",
       "<td>0.4055556</td>\n",
       "<td>170.0000000</td>\n",
       "<td>170.0000000</td>\n",
       "<td>0.4055556</td></tr>\n",
       "<tr><td>6</td>\n",
       "<td>0.2016461</td>\n",
       "<td>1.0000000</td>\n",
       "<td>2.7</td>\n",
       "<td>2.7</td>\n",
       "<td>1.0</td>\n",
       "<td>1.0000000</td>\n",
       "<td>1.0</td>\n",
       "<td>1.0000000</td>\n",
       "<td>0.1388889</td>\n",
       "<td>0.5444444</td>\n",
       "<td>170.0000000</td>\n",
       "<td>170.0000000</td>\n",
       "<td>0.5444444</td></tr>\n",
       "<tr><td>7</td>\n",
       "<td>0.3004115</td>\n",
       "<td>0.9999994</td>\n",
       "<td>2.7</td>\n",
       "<td>2.7</td>\n",
       "<td>1.0</td>\n",
       "<td>0.9999998</td>\n",
       "<td>1.0</td>\n",
       "<td>0.9999999</td>\n",
       "<td>0.2666667</td>\n",
       "<td>0.8111111</td>\n",
       "<td>170.0000000</td>\n",
       "<td>170.0000000</td>\n",
       "<td>0.8111111</td></tr>\n",
       "<tr><td>8</td>\n",
       "<td>0.4012346</td>\n",
       "<td>0.0000141</td>\n",
       "<td>1.8734694</td>\n",
       "<td>2.4923077</td>\n",
       "<td>0.6938776</td>\n",
       "<td>0.6924737</td>\n",
       "<td>0.9230769</td>\n",
       "<td>0.9227241</td>\n",
       "<td>0.1888889</td>\n",
       "<td>1.0</td>\n",
       "<td>87.3469388</td>\n",
       "<td>149.2307692</td>\n",
       "<td>0.9509804</td></tr>\n",
       "<tr><td>9</td>\n",
       "<td>0.5</td>\n",
       "<td>0.0000015</td>\n",
       "<td>0.0</td>\n",
       "<td>2.0</td>\n",
       "<td>0.0</td>\n",
       "<td>0.0000047</td>\n",
       "<td>0.7407407</td>\n",
       "<td>0.7404586</td>\n",
       "<td>0.0</td>\n",
       "<td>1.0</td>\n",
       "<td>-100.0</td>\n",
       "<td>100.0</td>\n",
       "<td>0.7941176</td></tr>\n",
       "<tr><td>10</td>\n",
       "<td>0.6008230</td>\n",
       "<td>0.0000002</td>\n",
       "<td>0.0</td>\n",
       "<td>1.6643836</td>\n",
       "<td>0.0</td>\n",
       "<td>0.0000006</td>\n",
       "<td>0.6164384</td>\n",
       "<td>0.6162036</td>\n",
       "<td>0.0</td>\n",
       "<td>1.0</td>\n",
       "<td>-100.0</td>\n",
       "<td>66.4383562</td>\n",
       "<td>0.6339869</td></tr>\n",
       "<tr><td>11</td>\n",
       "<td>0.6995885</td>\n",
       "<td>0.0000000</td>\n",
       "<td>0.0</td>\n",
       "<td>1.4294118</td>\n",
       "<td>0.0</td>\n",
       "<td>0.0000001</td>\n",
       "<td>0.5294118</td>\n",
       "<td>0.5292102</td>\n",
       "<td>0.0</td>\n",
       "<td>1.0</td>\n",
       "<td>-100.0</td>\n",
       "<td>42.9411765</td>\n",
       "<td>0.4771242</td></tr>\n",
       "<tr><td>12</td>\n",
       "<td>0.8004115</td>\n",
       "<td>0.0000000</td>\n",
       "<td>0.0</td>\n",
       "<td>1.2493573</td>\n",
       "<td>0.0</td>\n",
       "<td>0.0000000</td>\n",
       "<td>0.4627249</td>\n",
       "<td>0.4625487</td>\n",
       "<td>0.0</td>\n",
       "<td>1.0</td>\n",
       "<td>-100.0</td>\n",
       "<td>24.9357326</td>\n",
       "<td>0.3169935</td></tr>\n",
       "<tr><td>13</td>\n",
       "<td>0.8991770</td>\n",
       "<td>0.0000000</td>\n",
       "<td>0.0</td>\n",
       "<td>1.1121281</td>\n",
       "<td>0.0</td>\n",
       "<td>0.0000000</td>\n",
       "<td>0.4118993</td>\n",
       "<td>0.4117425</td>\n",
       "<td>0.0</td>\n",
       "<td>1.0</td>\n",
       "<td>-100.0</td>\n",
       "<td>11.2128146</td>\n",
       "<td>0.1601307</td></tr>\n",
       "<tr><td>14</td>\n",
       "<td>1.0</td>\n",
       "<td>0.0000000</td>\n",
       "<td>0.0</td>\n",
       "<td>1.0</td>\n",
       "<td>0.0</td>\n",
       "<td>0.0000000</td>\n",
       "<td>0.3703704</td>\n",
       "<td>0.3702293</td>\n",
       "<td>0.0</td>\n",
       "<td>1.0</td>\n",
       "<td>-100.0</td>\n",
       "<td>0.0</td>\n",
       "<td>0.0</td></tr></tbody>\n",
       "  </table>\n",
       "</div>\n",
       "</div></div>\n",
       "<div style='margin: 1em 0 1em 0;'><pre style='margin: 1em 0 1em 0;'>ModelMetricsBinomial: deeplearning\n",
       "** Reported on cross-validation data. **\n",
       "\n",
       "MSE: 0.31810871167621185\n",
       "RMSE: 0.5640112691039176\n",
       "LogLoss: 2.338129668668843\n",
       "Mean Per-Class Error: 0.5\n",
       "AUC: 0.5758079157588961\n",
       "AUCPR: 0.4633208390784597\n",
       "Gini: 0.15161583151779223</pre>\n",
       "<div style='margin: 1em 0 1em 0;'>\n",
       "<style>\n",
       "\n",
       "#h2o-table-6.h2o-container {\n",
       "  overflow-x: auto;\n",
       "}\n",
       "#h2o-table-6 .h2o-table {\n",
       "  /* width: 100%; */\n",
       "  margin-top: 1em;\n",
       "  margin-bottom: 1em;\n",
       "}\n",
       "#h2o-table-6 .h2o-table caption {\n",
       "  white-space: nowrap;\n",
       "  caption-side: top;\n",
       "  text-align: left;\n",
       "  /* margin-left: 1em; */\n",
       "  margin: 0;\n",
       "  font-size: larger;\n",
       "}\n",
       "#h2o-table-6 .h2o-table thead {\n",
       "  white-space: nowrap; \n",
       "  position: sticky;\n",
       "  top: 0;\n",
       "  box-shadow: 0 -1px inset;\n",
       "}\n",
       "#h2o-table-6 .h2o-table tbody {\n",
       "  overflow: auto;\n",
       "}\n",
       "#h2o-table-6 .h2o-table th,\n",
       "#h2o-table-6 .h2o-table td {\n",
       "  text-align: right;\n",
       "  /* border: 1px solid; */\n",
       "}\n",
       "#h2o-table-6 .h2o-table tr:nth-child(even) {\n",
       "  /* background: #F5F5F5 */\n",
       "}\n",
       "\n",
       "</style>      \n",
       "<div id=\"h2o-table-6\" class=\"h2o-container\">\n",
       "  <table class=\"h2o-table\">\n",
       "    <caption>Confusion Matrix (Act/Pred) for max f1 @ threshold = 2.8983077884091616e-07</caption>\n",
       "    <thead><tr><th></th>\n",
       "<th>0</th>\n",
       "<th>1</th>\n",
       "<th>Error</th>\n",
       "<th>Rate</th></tr></thead>\n",
       "    <tbody><tr><td>0</td>\n",
       "<td>0.0</td>\n",
       "<td>306.0</td>\n",
       "<td>1.0</td>\n",
       "<td> (306.0/306.0)</td></tr>\n",
       "<tr><td>1</td>\n",
       "<td>0.0</td>\n",
       "<td>180.0</td>\n",
       "<td>0.0</td>\n",
       "<td> (0.0/180.0)</td></tr>\n",
       "<tr><td>Total</td>\n",
       "<td>0.0</td>\n",
       "<td>486.0</td>\n",
       "<td>0.6296</td>\n",
       "<td> (306.0/486.0)</td></tr></tbody>\n",
       "  </table>\n",
       "</div>\n",
       "</div>\n",
       "<div style='margin: 1em 0 1em 0;'>\n",
       "<style>\n",
       "\n",
       "#h2o-table-7.h2o-container {\n",
       "  overflow-x: auto;\n",
       "}\n",
       "#h2o-table-7 .h2o-table {\n",
       "  /* width: 100%; */\n",
       "  margin-top: 1em;\n",
       "  margin-bottom: 1em;\n",
       "}\n",
       "#h2o-table-7 .h2o-table caption {\n",
       "  white-space: nowrap;\n",
       "  caption-side: top;\n",
       "  text-align: left;\n",
       "  /* margin-left: 1em; */\n",
       "  margin: 0;\n",
       "  font-size: larger;\n",
       "}\n",
       "#h2o-table-7 .h2o-table thead {\n",
       "  white-space: nowrap; \n",
       "  position: sticky;\n",
       "  top: 0;\n",
       "  box-shadow: 0 -1px inset;\n",
       "}\n",
       "#h2o-table-7 .h2o-table tbody {\n",
       "  overflow: auto;\n",
       "}\n",
       "#h2o-table-7 .h2o-table th,\n",
       "#h2o-table-7 .h2o-table td {\n",
       "  text-align: right;\n",
       "  /* border: 1px solid; */\n",
       "}\n",
       "#h2o-table-7 .h2o-table tr:nth-child(even) {\n",
       "  /* background: #F5F5F5 */\n",
       "}\n",
       "\n",
       "</style>      \n",
       "<div id=\"h2o-table-7\" class=\"h2o-container\">\n",
       "  <table class=\"h2o-table\">\n",
       "    <caption>Maximum Metrics: Maximum metrics at their respective thresholds</caption>\n",
       "    <thead><tr><th>metric</th>\n",
       "<th>threshold</th>\n",
       "<th>value</th>\n",
       "<th>idx</th></tr></thead>\n",
       "    <tbody><tr><td>max f1</td>\n",
       "<td>0.0000003</td>\n",
       "<td>0.5405405</td>\n",
       "<td>399.0</td></tr>\n",
       "<tr><td>max f2</td>\n",
       "<td>0.0000003</td>\n",
       "<td>0.7462687</td>\n",
       "<td>399.0</td></tr>\n",
       "<tr><td>max f0point5</td>\n",
       "<td>0.6989670</td>\n",
       "<td>0.4880137</td>\n",
       "<td>87.0</td></tr>\n",
       "<tr><td>max accuracy</td>\n",
       "<td>0.7143500</td>\n",
       "<td>0.6563786</td>\n",
       "<td>85.0</td></tr>\n",
       "<tr><td>max precision</td>\n",
       "<td>0.9999828</td>\n",
       "<td>0.7142857</td>\n",
       "<td>2.0</td></tr>\n",
       "<tr><td>max recall</td>\n",
       "<td>0.0000003</td>\n",
       "<td>1.0</td>\n",
       "<td>399.0</td></tr>\n",
       "<tr><td>max specificity</td>\n",
       "<td>0.9999999</td>\n",
       "<td>0.9901961</td>\n",
       "<td>0.0</td></tr>\n",
       "<tr><td>max absolute_mcc</td>\n",
       "<td>0.6989670</td>\n",
       "<td>0.2057501</td>\n",
       "<td>87.0</td></tr>\n",
       "<tr><td>max min_per_class_accuracy</td>\n",
       "<td>0.0430718</td>\n",
       "<td>0.5444444</td>\n",
       "<td>222.0</td></tr>\n",
       "<tr><td>max mean_per_class_accuracy</td>\n",
       "<td>0.2982260</td>\n",
       "<td>0.5888889</td>\n",
       "<td>126.0</td></tr>\n",
       "<tr><td>max tns</td>\n",
       "<td>0.9999999</td>\n",
       "<td>303.0</td>\n",
       "<td>0.0</td></tr>\n",
       "<tr><td>max fns</td>\n",
       "<td>0.9999999</td>\n",
       "<td>174.0</td>\n",
       "<td>0.0</td></tr>\n",
       "<tr><td>max fps</td>\n",
       "<td>0.0000003</td>\n",
       "<td>306.0</td>\n",
       "<td>399.0</td></tr>\n",
       "<tr><td>max tps</td>\n",
       "<td>0.0000003</td>\n",
       "<td>180.0</td>\n",
       "<td>399.0</td></tr>\n",
       "<tr><td>max tnr</td>\n",
       "<td>0.9999999</td>\n",
       "<td>0.9901961</td>\n",
       "<td>0.0</td></tr>\n",
       "<tr><td>max fnr</td>\n",
       "<td>0.9999999</td>\n",
       "<td>0.9666667</td>\n",
       "<td>0.0</td></tr>\n",
       "<tr><td>max fpr</td>\n",
       "<td>0.0000003</td>\n",
       "<td>1.0</td>\n",
       "<td>399.0</td></tr>\n",
       "<tr><td>max tpr</td>\n",
       "<td>0.0000003</td>\n",
       "<td>1.0</td>\n",
       "<td>399.0</td></tr></tbody>\n",
       "  </table>\n",
       "</div>\n",
       "</div>\n",
       "<div style='margin: 1em 0 1em 0;'>\n",
       "<style>\n",
       "\n",
       "#h2o-table-8.h2o-container {\n",
       "  overflow-x: auto;\n",
       "}\n",
       "#h2o-table-8 .h2o-table {\n",
       "  /* width: 100%; */\n",
       "  margin-top: 1em;\n",
       "  margin-bottom: 1em;\n",
       "}\n",
       "#h2o-table-8 .h2o-table caption {\n",
       "  white-space: nowrap;\n",
       "  caption-side: top;\n",
       "  text-align: left;\n",
       "  /* margin-left: 1em; */\n",
       "  margin: 0;\n",
       "  font-size: larger;\n",
       "}\n",
       "#h2o-table-8 .h2o-table thead {\n",
       "  white-space: nowrap; \n",
       "  position: sticky;\n",
       "  top: 0;\n",
       "  box-shadow: 0 -1px inset;\n",
       "}\n",
       "#h2o-table-8 .h2o-table tbody {\n",
       "  overflow: auto;\n",
       "}\n",
       "#h2o-table-8 .h2o-table th,\n",
       "#h2o-table-8 .h2o-table td {\n",
       "  text-align: right;\n",
       "  /* border: 1px solid; */\n",
       "}\n",
       "#h2o-table-8 .h2o-table tr:nth-child(even) {\n",
       "  /* background: #F5F5F5 */\n",
       "}\n",
       "\n",
       "</style>      \n",
       "<div id=\"h2o-table-8\" class=\"h2o-container\">\n",
       "  <table class=\"h2o-table\">\n",
       "    <caption>Gains/Lift Table: Avg response rate: 37.04 %, avg score: 26.01 %</caption>\n",
       "    <thead><tr><th>group</th>\n",
       "<th>cumulative_data_fraction</th>\n",
       "<th>lower_threshold</th>\n",
       "<th>lift</th>\n",
       "<th>cumulative_lift</th>\n",
       "<th>response_rate</th>\n",
       "<th>score</th>\n",
       "<th>cumulative_response_rate</th>\n",
       "<th>cumulative_score</th>\n",
       "<th>capture_rate</th>\n",
       "<th>cumulative_capture_rate</th>\n",
       "<th>gain</th>\n",
       "<th>cumulative_gain</th>\n",
       "<th>kolmogorov_smirnov</th></tr></thead>\n",
       "    <tbody><tr><td>1</td>\n",
       "<td>0.0144033</td>\n",
       "<td>1.0</td>\n",
       "<td>1.5428571</td>\n",
       "<td>1.5428571</td>\n",
       "<td>0.5714286</td>\n",
       "<td>1.0</td>\n",
       "<td>0.5714286</td>\n",
       "<td>1.0</td>\n",
       "<td>0.0222222</td>\n",
       "<td>0.0222222</td>\n",
       "<td>54.2857143</td>\n",
       "<td>54.2857143</td>\n",
       "<td>0.0124183</td></tr>\n",
       "<tr><td>2</td>\n",
       "<td>0.0205761</td>\n",
       "<td>0.9999972</td>\n",
       "<td>2.7</td>\n",
       "<td>1.89</td>\n",
       "<td>1.0</td>\n",
       "<td>0.9999989</td>\n",
       "<td>0.7</td>\n",
       "<td>0.9999997</td>\n",
       "<td>0.0166667</td>\n",
       "<td>0.0388889</td>\n",
       "<td>170.0000000</td>\n",
       "<td>89.0000000</td>\n",
       "<td>0.0290850</td></tr>\n",
       "<tr><td>3</td>\n",
       "<td>0.0308642</td>\n",
       "<td>0.9999780</td>\n",
       "<td>1.62</td>\n",
       "<td>1.8</td>\n",
       "<td>0.6</td>\n",
       "<td>0.9999850</td>\n",
       "<td>0.6666667</td>\n",
       "<td>0.9999948</td>\n",
       "<td>0.0166667</td>\n",
       "<td>0.0555556</td>\n",
       "<td>62.0000000</td>\n",
       "<td>80.0</td>\n",
       "<td>0.0392157</td></tr>\n",
       "<tr><td>4</td>\n",
       "<td>0.0411523</td>\n",
       "<td>0.9999228</td>\n",
       "<td>1.08</td>\n",
       "<td>1.62</td>\n",
       "<td>0.4</td>\n",
       "<td>0.9999576</td>\n",
       "<td>0.6</td>\n",
       "<td>0.9999855</td>\n",
       "<td>0.0111111</td>\n",
       "<td>0.0666667</td>\n",
       "<td>8.0000000</td>\n",
       "<td>62.0000000</td>\n",
       "<td>0.0405229</td></tr>\n",
       "<tr><td>5</td>\n",
       "<td>0.0514403</td>\n",
       "<td>0.9996692</td>\n",
       "<td>1.08</td>\n",
       "<td>1.5120000</td>\n",
       "<td>0.4</td>\n",
       "<td>0.9998107</td>\n",
       "<td>0.56</td>\n",
       "<td>0.9999505</td>\n",
       "<td>0.0111111</td>\n",
       "<td>0.0777778</td>\n",
       "<td>8.0000000</td>\n",
       "<td>51.2000000</td>\n",
       "<td>0.0418301</td></tr>\n",
       "<tr><td>6</td>\n",
       "<td>0.1008230</td>\n",
       "<td>0.9878108</td>\n",
       "<td>1.35</td>\n",
       "<td>1.4326531</td>\n",
       "<td>0.5</td>\n",
       "<td>0.9962920</td>\n",
       "<td>0.5306122</td>\n",
       "<td>0.9981586</td>\n",
       "<td>0.0666667</td>\n",
       "<td>0.1444444</td>\n",
       "<td>35.0000000</td>\n",
       "<td>43.2653061</td>\n",
       "<td>0.0692810</td></tr>\n",
       "<tr><td>7</td>\n",
       "<td>0.1502058</td>\n",
       "<td>0.9100221</td>\n",
       "<td>1.5750000</td>\n",
       "<td>1.4794521</td>\n",
       "<td>0.5833333</td>\n",
       "<td>0.9517112</td>\n",
       "<td>0.5479452</td>\n",
       "<td>0.9828882</td>\n",
       "<td>0.0777778</td>\n",
       "<td>0.2222222</td>\n",
       "<td>57.5000000</td>\n",
       "<td>47.9452055</td>\n",
       "<td>0.1143791</td></tr>\n",
       "<tr><td>8</td>\n",
       "<td>0.2016461</td>\n",
       "<td>0.7149510</td>\n",
       "<td>1.62</td>\n",
       "<td>1.5153061</td>\n",
       "<td>0.6</td>\n",
       "<td>0.8237284</td>\n",
       "<td>0.5612245</td>\n",
       "<td>0.9422862</td>\n",
       "<td>0.0833333</td>\n",
       "<td>0.3055556</td>\n",
       "<td>62.0000000</td>\n",
       "<td>51.5306122</td>\n",
       "<td>0.1650327</td></tr>\n",
       "<tr><td>9</td>\n",
       "<td>0.3004115</td>\n",
       "<td>0.2722822</td>\n",
       "<td>0.9562500</td>\n",
       "<td>1.3315068</td>\n",
       "<td>0.3541667</td>\n",
       "<td>0.4229228</td>\n",
       "<td>0.4931507</td>\n",
       "<td>0.7715366</td>\n",
       "<td>0.0944444</td>\n",
       "<td>0.4</td>\n",
       "<td>-4.3750000</td>\n",
       "<td>33.1506849</td>\n",
       "<td>0.1581699</td></tr>\n",
       "<tr><td>10</td>\n",
       "<td>0.4012346</td>\n",
       "<td>0.1161022</td>\n",
       "<td>0.7163265</td>\n",
       "<td>1.1769231</td>\n",
       "<td>0.2653061</td>\n",
       "<td>0.1846488</td>\n",
       "<td>0.4358974</td>\n",
       "<td>0.6240622</td>\n",
       "<td>0.0722222</td>\n",
       "<td>0.4722222</td>\n",
       "<td>-28.3673469</td>\n",
       "<td>17.6923077</td>\n",
       "<td>0.1127451</td></tr>\n",
       "<tr><td>11</td>\n",
       "<td>0.5</td>\n",
       "<td>0.0340228</td>\n",
       "<td>0.7875000</td>\n",
       "<td>1.1</td>\n",
       "<td>0.2916667</td>\n",
       "<td>0.0708708</td>\n",
       "<td>0.4074074</td>\n",
       "<td>0.5147898</td>\n",
       "<td>0.0777778</td>\n",
       "<td>0.55</td>\n",
       "<td>-21.2500000</td>\n",
       "<td>10.0000000</td>\n",
       "<td>0.0794118</td></tr>\n",
       "<tr><td>12</td>\n",
       "<td>0.6008230</td>\n",
       "<td>0.0098047</td>\n",
       "<td>0.9367347</td>\n",
       "<td>1.0726027</td>\n",
       "<td>0.3469388</td>\n",
       "<td>0.0193464</td>\n",
       "<td>0.3972603</td>\n",
       "<td>0.4316504</td>\n",
       "<td>0.0944444</td>\n",
       "<td>0.6444444</td>\n",
       "<td>-6.3265306</td>\n",
       "<td>7.2602740</td>\n",
       "<td>0.0692810</td></tr>\n",
       "<tr><td>13</td>\n",
       "<td>0.6995885</td>\n",
       "<td>0.0026976</td>\n",
       "<td>0.84375</td>\n",
       "<td>1.0402941</td>\n",
       "<td>0.3125</td>\n",
       "<td>0.0064173</td>\n",
       "<td>0.3852941</td>\n",
       "<td>0.3716175</td>\n",
       "<td>0.0833333</td>\n",
       "<td>0.7277778</td>\n",
       "<td>-15.625</td>\n",
       "<td>4.0294118</td>\n",
       "<td>0.0447712</td></tr>\n",
       "<tr><td>14</td>\n",
       "<td>0.8004115</td>\n",
       "<td>0.0003185</td>\n",
       "<td>0.9367347</td>\n",
       "<td>1.0272494</td>\n",
       "<td>0.3469388</td>\n",
       "<td>0.0011280</td>\n",
       "<td>0.3804627</td>\n",
       "<td>0.3249491</td>\n",
       "<td>0.0944444</td>\n",
       "<td>0.8222222</td>\n",
       "<td>-6.3265306</td>\n",
       "<td>2.7249357</td>\n",
       "<td>0.0346405</td></tr>\n",
       "<tr><td>15</td>\n",
       "<td>0.8991770</td>\n",
       "<td>0.0000131</td>\n",
       "<td>0.9</td>\n",
       "<td>1.0132723</td>\n",
       "<td>0.3333333</td>\n",
       "<td>0.0000945</td>\n",
       "<td>0.3752860</td>\n",
       "<td>0.2892672</td>\n",
       "<td>0.0888889</td>\n",
       "<td>0.9111111</td>\n",
       "<td>-10.0000000</td>\n",
       "<td>1.3272311</td>\n",
       "<td>0.0189542</td></tr>\n",
       "<tr><td>16</td>\n",
       "<td>1.0</td>\n",
       "<td>0.0</td>\n",
       "<td>0.8816327</td>\n",
       "<td>1.0</td>\n",
       "<td>0.3265306</td>\n",
       "<td>0.0000015</td>\n",
       "<td>0.3703704</td>\n",
       "<td>0.2601025</td>\n",
       "<td>0.0888889</td>\n",
       "<td>1.0</td>\n",
       "<td>-11.8367347</td>\n",
       "<td>0.0</td>\n",
       "<td>0.0</td></tr></tbody>\n",
       "  </table>\n",
       "</div>\n",
       "</div></div>\n",
       "<div style='margin: 1em 0 1em 0;'>\n",
       "<style>\n",
       "\n",
       "#h2o-table-9.h2o-container {\n",
       "  overflow-x: auto;\n",
       "}\n",
       "#h2o-table-9 .h2o-table {\n",
       "  /* width: 100%; */\n",
       "  margin-top: 1em;\n",
       "  margin-bottom: 1em;\n",
       "}\n",
       "#h2o-table-9 .h2o-table caption {\n",
       "  white-space: nowrap;\n",
       "  caption-side: top;\n",
       "  text-align: left;\n",
       "  /* margin-left: 1em; */\n",
       "  margin: 0;\n",
       "  font-size: larger;\n",
       "}\n",
       "#h2o-table-9 .h2o-table thead {\n",
       "  white-space: nowrap; \n",
       "  position: sticky;\n",
       "  top: 0;\n",
       "  box-shadow: 0 -1px inset;\n",
       "}\n",
       "#h2o-table-9 .h2o-table tbody {\n",
       "  overflow: auto;\n",
       "}\n",
       "#h2o-table-9 .h2o-table th,\n",
       "#h2o-table-9 .h2o-table td {\n",
       "  text-align: right;\n",
       "  /* border: 1px solid; */\n",
       "}\n",
       "#h2o-table-9 .h2o-table tr:nth-child(even) {\n",
       "  /* background: #F5F5F5 */\n",
       "}\n",
       "\n",
       "</style>      \n",
       "<div id=\"h2o-table-9\" class=\"h2o-container\">\n",
       "  <table class=\"h2o-table\">\n",
       "    <caption>Cross-Validation Metrics Summary: </caption>\n",
       "    <thead><tr><th></th>\n",
       "<th>mean</th>\n",
       "<th>sd</th>\n",
       "<th>cv_1_valid</th>\n",
       "<th>cv_2_valid</th>\n",
       "<th>cv_3_valid</th>\n",
       "<th>cv_4_valid</th>\n",
       "<th>cv_5_valid</th></tr></thead>\n",
       "    <tbody><tr><td>accuracy</td>\n",
       "<td>0.4997896</td>\n",
       "<td>0.1466101</td>\n",
       "<td>0.6020408</td>\n",
       "<td>0.6907216</td>\n",
       "<td>0.3195876</td>\n",
       "<td>0.4536082</td>\n",
       "<td>0.4329897</td></tr>\n",
       "<tr><td>auc</td>\n",
       "<td>0.5797325</td>\n",
       "<td>0.0834914</td>\n",
       "<td>0.6240362</td>\n",
       "<td>0.6797297</td>\n",
       "<td>0.4619676</td>\n",
       "<td>0.537307</td>\n",
       "<td>0.5956221</td></tr>\n",
       "<tr><td>err</td>\n",
       "<td>0.5002104</td>\n",
       "<td>0.1466101</td>\n",
       "<td>0.3979592</td>\n",
       "<td>0.3092783</td>\n",
       "<td>0.6804123</td>\n",
       "<td>0.5463917</td>\n",
       "<td>0.5670103</td></tr>\n",
       "<tr><td>err_count</td>\n",
       "<td>48.6</td>\n",
       "<td>14.152739</td>\n",
       "<td>39.0</td>\n",
       "<td>30.0</td>\n",
       "<td>66.0</td>\n",
       "<td>53.0</td>\n",
       "<td>55.0</td></tr>\n",
       "<tr><td>f0point5</td>\n",
       "<td>0.4800291</td>\n",
       "<td>0.0905026</td>\n",
       "<td>0.4980080</td>\n",
       "<td>0.5990784</td>\n",
       "<td>0.3545232</td>\n",
       "<td>0.5092593</td>\n",
       "<td>0.4392765</td></tr>\n",
       "<tr><td>f1</td>\n",
       "<td>0.568129</td>\n",
       "<td>0.0667903</td>\n",
       "<td>0.5617977</td>\n",
       "<td>0.6341463</td>\n",
       "<td>0.4677419</td>\n",
       "<td>0.6241135</td>\n",
       "<td>0.5528455</td></tr>\n",
       "<tr><td>f2</td>\n",
       "<td>0.7113167</td>\n",
       "<td>0.0644360</td>\n",
       "<td>0.6443299</td>\n",
       "<td>0.6735751</td>\n",
       "<td>0.6872038</td>\n",
       "<td>0.8058608</td>\n",
       "<td>0.7456141</td></tr>\n",
       "<tr><td>lift_top_group</td>\n",
       "<td>1.3782637</td>\n",
       "<td>1.3578342</td>\n",
       "<td>2.8</td>\n",
       "<td>2.6216216</td>\n",
       "<td>0.0</td>\n",
       "<td>1.469697</td>\n",
       "<td>0.0</td></tr>\n",
       "<tr><td>logloss</td>\n",
       "<td>2.3385992</td>\n",
       "<td>0.7290893</td>\n",
       "<td>2.110414</td>\n",
       "<td>1.5435481</td>\n",
       "<td>2.0314298</td>\n",
       "<td>3.4848256</td>\n",
       "<td>2.5227783</td></tr>\n",
       "<tr><td>max_per_class_error</td>\n",
       "<td>0.7237080</td>\n",
       "<td>0.3138590</td>\n",
       "<td>0.4603175</td>\n",
       "<td>0.3166667</td>\n",
       "<td>0.9705882</td>\n",
       "<td>1.0</td>\n",
       "<td>0.8709678</td></tr>\n",
       "<tr><td>mcc</td>\n",
       "<td>0.2204273</td>\n",
       "<td>0.1204395</td>\n",
       "<td>0.2446586</td>\n",
       "<td>0.3760074</td>\n",
       "<td>0.0947540</td>\n",
       "<td>nan</td>\n",
       "<td>0.1662892</td></tr>\n",
       "<tr><td>mean_per_class_accuracy</td>\n",
       "<td>0.5769877</td>\n",
       "<td>0.0813707</td>\n",
       "<td>0.6269841</td>\n",
       "<td>0.693018</td>\n",
       "<td>0.5147059</td>\n",
       "<td>0.5</td>\n",
       "<td>0.5502304</td></tr>\n",
       "<tr><td>mean_per_class_error</td>\n",
       "<td>0.4230123</td>\n",
       "<td>0.0813707</td>\n",
       "<td>0.3730159</td>\n",
       "<td>0.3069820</td>\n",
       "<td>0.4852941</td>\n",
       "<td>0.5</td>\n",
       "<td>0.4497696</td></tr>\n",
       "<tr><td>mse</td>\n",
       "<td>0.3181286</td>\n",
       "<td>0.0281187</td>\n",
       "<td>0.3084728</td>\n",
       "<td>0.2907426</td>\n",
       "<td>0.3051590</td>\n",
       "<td>0.3643551</td>\n",
       "<td>0.3219134</td></tr>\n",
       "<tr><td>pr_auc</td>\n",
       "<td>0.4750752</td>\n",
       "<td>0.0878182</td>\n",
       "<td>0.4739783</td>\n",
       "<td>0.5784389</td>\n",
       "<td>0.3400431</td>\n",
       "<td>0.5178438</td>\n",
       "<td>0.4650720</td></tr>\n",
       "<tr><td>precision</td>\n",
       "<td>0.4371951</td>\n",
       "<td>0.1008548</td>\n",
       "<td>0.4629630</td>\n",
       "<td>0.5777778</td>\n",
       "<td>0.3052632</td>\n",
       "<td>0.4536082</td>\n",
       "<td>0.3863636</td></tr>\n",
       "<tr><td>r2</td>\n",
       "<td>-0.3795401</td>\n",
       "<td>0.0965606</td>\n",
       "<td>-0.3435705</td>\n",
       "<td>-0.2322509</td>\n",
       "<td>-0.4560044</td>\n",
       "<td>-0.4700761</td>\n",
       "<td>-0.3957986</td></tr>\n",
       "<tr><td>recall</td>\n",
       "<td>0.8776834</td>\n",
       "<td>0.1549418</td>\n",
       "<td>0.7142857</td>\n",
       "<td>0.7027027</td>\n",
       "<td>1.0</td>\n",
       "<td>1.0</td>\n",
       "<td>0.9714286</td></tr>\n",
       "<tr><td>rmse</td>\n",
       "<td>0.5636026</td>\n",
       "<td>0.0245110</td>\n",
       "<td>0.5554033</td>\n",
       "<td>0.5392056</td>\n",
       "<td>0.552412</td>\n",
       "<td>0.6036184</td>\n",
       "<td>0.5673741</td></tr>\n",
       "<tr><td>specificity</td>\n",
       "<td>0.2762920</td>\n",
       "<td>0.3138590</td>\n",
       "<td>0.5396826</td>\n",
       "<td>0.6833333</td>\n",
       "<td>0.0294118</td>\n",
       "<td>0.0</td>\n",
       "<td>0.1290322</td></tr></tbody>\n",
       "  </table>\n",
       "</div>\n",
       "</div>\n",
       "<div style='margin: 1em 0 1em 0;'>\n",
       "<style>\n",
       "\n",
       "#h2o-table-10.h2o-container {\n",
       "  overflow-x: auto;\n",
       "}\n",
       "#h2o-table-10 .h2o-table {\n",
       "  /* width: 100%; */\n",
       "  margin-top: 1em;\n",
       "  margin-bottom: 1em;\n",
       "}\n",
       "#h2o-table-10 .h2o-table caption {\n",
       "  white-space: nowrap;\n",
       "  caption-side: top;\n",
       "  text-align: left;\n",
       "  /* margin-left: 1em; */\n",
       "  margin: 0;\n",
       "  font-size: larger;\n",
       "}\n",
       "#h2o-table-10 .h2o-table thead {\n",
       "  white-space: nowrap; \n",
       "  position: sticky;\n",
       "  top: 0;\n",
       "  box-shadow: 0 -1px inset;\n",
       "}\n",
       "#h2o-table-10 .h2o-table tbody {\n",
       "  overflow: auto;\n",
       "}\n",
       "#h2o-table-10 .h2o-table th,\n",
       "#h2o-table-10 .h2o-table td {\n",
       "  text-align: right;\n",
       "  /* border: 1px solid; */\n",
       "}\n",
       "#h2o-table-10 .h2o-table tr:nth-child(even) {\n",
       "  /* background: #F5F5F5 */\n",
       "}\n",
       "\n",
       "</style>      \n",
       "<div id=\"h2o-table-10\" class=\"h2o-container\">\n",
       "  <table class=\"h2o-table\">\n",
       "    <caption>Scoring History: </caption>\n",
       "    <thead><tr><th></th>\n",
       "<th>timestamp</th>\n",
       "<th>duration</th>\n",
       "<th>training_speed</th>\n",
       "<th>epochs</th>\n",
       "<th>iterations</th>\n",
       "<th>samples</th>\n",
       "<th>training_rmse</th>\n",
       "<th>training_logloss</th>\n",
       "<th>training_r2</th>\n",
       "<th>training_auc</th>\n",
       "<th>training_pr_auc</th>\n",
       "<th>training_lift</th>\n",
       "<th>training_classification_error</th></tr></thead>\n",
       "    <tbody><tr><td></td>\n",
       "<td>2023-04-23 18:19:22</td>\n",
       "<td> 0.000 sec</td>\n",
       "<td>None</td>\n",
       "<td>0.0</td>\n",
       "<td>0</td>\n",
       "<td>0.0</td>\n",
       "<td>nan</td>\n",
       "<td>nan</td>\n",
       "<td>nan</td>\n",
       "<td>nan</td>\n",
       "<td>nan</td>\n",
       "<td>nan</td>\n",
       "<td>nan</td></tr>\n",
       "<tr><td></td>\n",
       "<td>2023-04-23 18:19:22</td>\n",
       "<td>36.070 sec</td>\n",
       "<td>4820 obs/sec</td>\n",
       "<td>7.3497942</td>\n",
       "<td>1</td>\n",
       "<td>3572.0</td>\n",
       "<td>0.1809912</td>\n",
       "<td>0.2203564</td>\n",
       "<td>0.8595267</td>\n",
       "<td>0.9883442</td>\n",
       "<td>0.9557490</td>\n",
       "<td>2.3142857</td>\n",
       "<td>0.0267490</td></tr>\n",
       "<tr><td></td>\n",
       "<td>2023-04-23 18:19:28</td>\n",
       "<td>41.495 sec</td>\n",
       "<td>5234 obs/sec</td>\n",
       "<td>66.0267490</td>\n",
       "<td>9</td>\n",
       "<td>32089.0</td>\n",
       "<td>0.0031346</td>\n",
       "<td>0.0001498</td>\n",
       "<td>0.9999579</td>\n",
       "<td>1.0</td>\n",
       "<td>1.0</td>\n",
       "<td>2.7</td>\n",
       "<td>0.0</td></tr></tbody>\n",
       "  </table>\n",
       "</div>\n",
       "</div>\n",
       "<div style='margin: 1em 0 1em 0;'>\n",
       "<style>\n",
       "\n",
       "#h2o-table-11.h2o-container {\n",
       "  overflow-x: auto;\n",
       "}\n",
       "#h2o-table-11 .h2o-table {\n",
       "  /* width: 100%; */\n",
       "  margin-top: 1em;\n",
       "  margin-bottom: 1em;\n",
       "}\n",
       "#h2o-table-11 .h2o-table caption {\n",
       "  white-space: nowrap;\n",
       "  caption-side: top;\n",
       "  text-align: left;\n",
       "  /* margin-left: 1em; */\n",
       "  margin: 0;\n",
       "  font-size: larger;\n",
       "}\n",
       "#h2o-table-11 .h2o-table thead {\n",
       "  white-space: nowrap; \n",
       "  position: sticky;\n",
       "  top: 0;\n",
       "  box-shadow: 0 -1px inset;\n",
       "}\n",
       "#h2o-table-11 .h2o-table tbody {\n",
       "  overflow: auto;\n",
       "}\n",
       "#h2o-table-11 .h2o-table th,\n",
       "#h2o-table-11 .h2o-table td {\n",
       "  text-align: right;\n",
       "  /* border: 1px solid; */\n",
       "}\n",
       "#h2o-table-11 .h2o-table tr:nth-child(even) {\n",
       "  /* background: #F5F5F5 */\n",
       "}\n",
       "\n",
       "</style>      \n",
       "<div id=\"h2o-table-11\" class=\"h2o-container\">\n",
       "  <table class=\"h2o-table\">\n",
       "    <caption>Variable Importances: </caption>\n",
       "    <thead><tr><th>variable</th>\n",
       "<th>relative_importance</th>\n",
       "<th>scaled_importance</th>\n",
       "<th>percentage</th></tr></thead>\n",
       "    <tbody><tr><td>934</td>\n",
       "<td>1.0</td>\n",
       "<td>1.0</td>\n",
       "<td>0.0009708</td></tr>\n",
       "<tr><td>574</td>\n",
       "<td>0.9606217</td>\n",
       "<td>0.9606217</td>\n",
       "<td>0.0009326</td></tr>\n",
       "<tr><td>1692</td>\n",
       "<td>0.8888474</td>\n",
       "<td>0.8888474</td>\n",
       "<td>0.0008629</td></tr>\n",
       "<tr><td>211</td>\n",
       "<td>0.8635128</td>\n",
       "<td>0.8635128</td>\n",
       "<td>0.0008383</td></tr>\n",
       "<tr><td>1941</td>\n",
       "<td>0.7757838</td>\n",
       "<td>0.7757838</td>\n",
       "<td>0.0007531</td></tr>\n",
       "<tr><td>521</td>\n",
       "<td>0.7658587</td>\n",
       "<td>0.7658587</td>\n",
       "<td>0.0007435</td></tr>\n",
       "<tr><td>325</td>\n",
       "<td>0.7642187</td>\n",
       "<td>0.7642187</td>\n",
       "<td>0.0007419</td></tr>\n",
       "<tr><td>341</td>\n",
       "<td>0.7617059</td>\n",
       "<td>0.7617059</td>\n",
       "<td>0.0007395</td></tr>\n",
       "<tr><td>510</td>\n",
       "<td>0.7555035</td>\n",
       "<td>0.7555035</td>\n",
       "<td>0.0007334</td></tr>\n",
       "<tr><td>1502</td>\n",
       "<td>0.7468875</td>\n",
       "<td>0.7468875</td>\n",
       "<td>0.0007251</td></tr>\n",
       "<tr><td>---</td>\n",
       "<td>---</td>\n",
       "<td>---</td>\n",
       "<td>---</td></tr>\n",
       "<tr><td>1994</td>\n",
       "<td>0.4092665</td>\n",
       "<td>0.4092665</td>\n",
       "<td>0.0003973</td></tr>\n",
       "<tr><td>415</td>\n",
       "<td>0.4053798</td>\n",
       "<td>0.4053798</td>\n",
       "<td>0.0003935</td></tr>\n",
       "<tr><td>1623</td>\n",
       "<td>0.4041881</td>\n",
       "<td>0.4041881</td>\n",
       "<td>0.0003924</td></tr>\n",
       "<tr><td>209</td>\n",
       "<td>0.4038562</td>\n",
       "<td>0.4038562</td>\n",
       "<td>0.0003921</td></tr>\n",
       "<tr><td>1649</td>\n",
       "<td>0.4031761</td>\n",
       "<td>0.4031761</td>\n",
       "<td>0.0003914</td></tr>\n",
       "<tr><td>37</td>\n",
       "<td>0.3987039</td>\n",
       "<td>0.3987039</td>\n",
       "<td>0.0003871</td></tr>\n",
       "<tr><td>86</td>\n",
       "<td>0.3951373</td>\n",
       "<td>0.3951373</td>\n",
       "<td>0.0003836</td></tr>\n",
       "<tr><td>347</td>\n",
       "<td>0.3939403</td>\n",
       "<td>0.3939403</td>\n",
       "<td>0.0003824</td></tr>\n",
       "<tr><td>1566</td>\n",
       "<td>0.3939237</td>\n",
       "<td>0.3939237</td>\n",
       "<td>0.0003824</td></tr>\n",
       "<tr><td>1289</td>\n",
       "<td>0.3938978</td>\n",
       "<td>0.3938978</td>\n",
       "<td>0.0003824</td></tr></tbody>\n",
       "  </table>\n",
       "</div>\n",
       "<pre style='font-size: smaller; margin-bottom: 1em;'>[2019 rows x 4 columns]</pre></div><pre style=\"font-size: smaller; margin: 1em 0 0 0;\">\n",
       "\n",
       "[tips]\n",
       "Use `model.explain()` to inspect the model.\n",
       "--\n",
       "Use `h2o.display.toggle_user_tips()` to switch on/off this section.</pre>"
      ],
      "text/plain": [
       "Model Details\n",
       "=============\n",
       "H2ODeepLearningEstimator : Deep Learning\n",
       "Model Key: DeepLearning_grid_1_AutoML_1_20230423_181434_model_1\n",
       "\n",
       "\n",
       "Status of Neuron Layers: predicting y, 2-class classification, bernoulli distribution, CrossEntropy loss, 202,202 weights/biases, 2.5 MB, 32,089 training samples, mini-batch size 1\n",
       "    layer    units    type              dropout    l1    l2    mean_rate           rate_rms             momentum    mean_weight            weight_rms            mean_bias                bias_rms\n",
       "--  -------  -------  ----------------  ---------  ----  ----  ------------------  -------------------  ----------  ---------------------  --------------------  -----------------------  -------------------\n",
       "    1        2019     Input             15.0\n",
       "    2        100      RectifierDropout  10.0       0.0   0.0   0.9062206617658825  0.18891596794128418  0.0         0.0005736754265166615  0.033899664878845215  0.49282181044409606      0.03301501274108887\n",
       "    3        2        Softmax                      0.0   0.0   0.6023459789156914  0.21226394176483154  0.0         -0.017956303220707924  0.5148141384124756    -3.1115417062863374e-05  0.02073594182729721\n",
       "\n",
       "ModelMetricsBinomial: deeplearning\n",
       "** Reported on train data. **\n",
       "\n",
       "MSE: 9.825461136093913e-06\n",
       "RMSE: 0.0031345591613644672\n",
       "LogLoss: 0.00014978658518230447\n",
       "Mean Per-Class Error: 0.0\n",
       "AUC: 1.0\n",
       "AUCPR: 1.0\n",
       "Gini: 1.0\n",
       "\n",
       "Confusion Matrix (Act/Pred) for max f1 @ threshold = 0.9308977783842188\n",
       "       0    1    Error    Rate\n",
       "-----  ---  ---  -------  -----------\n",
       "0      306  0    0        (0.0/306.0)\n",
       "1      0    180  0        (0.0/180.0)\n",
       "Total  306  180  0        (0.0/486.0)\n",
       "\n",
       "Maximum Metrics: Maximum metrics at their respective thresholds\n",
       "metric                       threshold    value     idx\n",
       "---------------------------  -----------  --------  -----\n",
       "max f1                       0.930898     1         39\n",
       "max f2                       0.930898     1         39\n",
       "max f0point5                 0.930898     1         39\n",
       "max accuracy                 0.930898     1         39\n",
       "max precision                1            1         0\n",
       "max recall                   0.930898     1         39\n",
       "max specificity              1            1         0\n",
       "max absolute_mcc             0.930898     1         39\n",
       "max min_per_class_accuracy   0.930898     1         39\n",
       "max mean_per_class_accuracy  0.930898     1         39\n",
       "max tns                      1            306       0\n",
       "max fns                      1            74        0\n",
       "max fps                      4.63515e-39  306       345\n",
       "max tps                      0.930898     180       39\n",
       "max tnr                      1            1         0\n",
       "max fnr                      1            0.411111  0\n",
       "max fpr                      4.63515e-39  1         345\n",
       "max tpr                      0.930898     1         39\n",
       "\n",
       "Gains/Lift Table: Avg response rate: 37.04 %, avg score: 37.02 %\n",
       "group    cumulative_data_fraction    lower_threshold    lift     cumulative_lift    response_rate    score        cumulative_response_rate    cumulative_score    capture_rate    cumulative_capture_rate    gain     cumulative_gain    kolmogorov_smirnov\n",
       "-------  --------------------------  -----------------  -------  -----------------  ---------------  -----------  --------------------------  ------------------  --------------  -------------------------  -------  -----------------  --------------------\n",
       "1        0.0329218                   1                  2.7      2.7                1                1            1                           1                   0.0888889       0.0888889                  170      170                0.0888889\n",
       "2        0.0432099                   1                  2.7      2.7                1                1            1                           1                   0.0277778       0.116667                   170      170                0.116667\n",
       "3        0.0514403                   1                  2.7      2.7                1                1            1                           1                   0.0222222       0.138889                   170      170                0.138889\n",
       "4        0.100823                    1                  2.7      2.7                1                1            1                           1                   0.133333        0.272222                   170      170                0.272222\n",
       "5        0.150206                    1                  2.7      2.7                1                1            1                           1                   0.133333        0.405556                   170      170                0.405556\n",
       "6        0.201646                    1                  2.7      2.7                1                1            1                           1                   0.138889        0.544444                   170      170                0.544444\n",
       "7        0.300412                    0.999999           2.7      2.7                1                1            1                           1                   0.266667        0.811111                   170      170                0.811111\n",
       "8        0.401235                    1.41029e-05        1.87347  2.49231            0.693878         0.692474     0.923077                    0.922724            0.188889        1                          87.3469  149.231            0.95098\n",
       "9        0.5                         1.45649e-06        0        2                  0                4.74854e-06  0.740741                    0.740459            0               1                          -100     100                0.794118\n",
       "10       0.600823                    1.57461e-07        0        1.66438            0                5.51972e-07  0.616438                    0.616204            0               1                          -100     66.4384            0.633987\n",
       "11       0.699588                    1.13275e-08        0        1.42941            0                5.90783e-08  0.529412                    0.52921             0               1                          -100     42.9412            0.477124\n",
       "12       0.800412                    2.50895e-10        0        1.24936            0                2.85678e-09  0.462725                    0.462549            0               1                          -100     24.9357            0.316993\n",
       "13       0.899177                    3.14341e-13        0        1.11213            0                4.50072e-11  0.411899                    0.411742            0               1                          -100     11.2128            0.160131\n",
       "14       1                           4.63515e-39        0        1                  0                2.63764e-14  0.37037                     0.370229            0               1                          -100     0                  0\n",
       "\n",
       "ModelMetricsBinomial: deeplearning\n",
       "** Reported on cross-validation data. **\n",
       "\n",
       "MSE: 0.31810871167621185\n",
       "RMSE: 0.5640112691039176\n",
       "LogLoss: 2.338129668668843\n",
       "Mean Per-Class Error: 0.5\n",
       "AUC: 0.5758079157588961\n",
       "AUCPR: 0.4633208390784597\n",
       "Gini: 0.15161583151779223\n",
       "\n",
       "Confusion Matrix (Act/Pred) for max f1 @ threshold = 2.8983077884091616e-07\n",
       "       0    1    Error    Rate\n",
       "-----  ---  ---  -------  -------------\n",
       "0      0    306  1        (306.0/306.0)\n",
       "1      0    180  0        (0.0/180.0)\n",
       "Total  0    486  0.6296   (306.0/486.0)\n",
       "\n",
       "Maximum Metrics: Maximum metrics at their respective thresholds\n",
       "metric                       threshold    value     idx\n",
       "---------------------------  -----------  --------  -----\n",
       "max f1                       2.89831e-07  0.540541  399\n",
       "max f2                       2.89831e-07  0.746269  399\n",
       "max f0point5                 0.698967     0.488014  87\n",
       "max accuracy                 0.71435      0.656379  85\n",
       "max precision                0.999983     0.714286  2\n",
       "max recall                   2.89831e-07  1         399\n",
       "max specificity              1            0.990196  0\n",
       "max absolute_mcc             0.698967     0.20575   87\n",
       "max min_per_class_accuracy   0.0430718    0.544444  222\n",
       "max mean_per_class_accuracy  0.298226     0.588889  126\n",
       "max tns                      1            303       0\n",
       "max fns                      1            174       0\n",
       "max fps                      2.89831e-07  306       399\n",
       "max tps                      2.89831e-07  180       399\n",
       "max tnr                      1            0.990196  0\n",
       "max fnr                      1            0.966667  0\n",
       "max fpr                      2.89831e-07  1         399\n",
       "max tpr                      2.89831e-07  1         399\n",
       "\n",
       "Gains/Lift Table: Avg response rate: 37.04 %, avg score: 26.01 %\n",
       "group    cumulative_data_fraction    lower_threshold    lift      cumulative_lift    response_rate    score        cumulative_response_rate    cumulative_score    capture_rate    cumulative_capture_rate    gain      cumulative_gain    kolmogorov_smirnov\n",
       "-------  --------------------------  -----------------  --------  -----------------  ---------------  -----------  --------------------------  ------------------  --------------  -------------------------  --------  -----------------  --------------------\n",
       "1        0.0144033                   1                  1.54286   1.54286            0.571429         1            0.571429                    1                   0.0222222       0.0222222                  54.2857   54.2857            0.0124183\n",
       "2        0.0205761                   0.999997           2.7       1.89               1                0.999999     0.7                         1                   0.0166667       0.0388889                  170       89                 0.029085\n",
       "3        0.0308642                   0.999978           1.62      1.8                0.6              0.999985     0.666667                    0.999995            0.0166667       0.0555556                  62        80                 0.0392157\n",
       "4        0.0411523                   0.999923           1.08      1.62               0.4              0.999958     0.6                         0.999985            0.0111111       0.0666667                  8         62                 0.0405229\n",
       "5        0.0514403                   0.999669           1.08      1.512              0.4              0.999811     0.56                        0.999951            0.0111111       0.0777778                  8         51.2               0.0418301\n",
       "6        0.100823                    0.987811           1.35      1.43265            0.5              0.996292     0.530612                    0.998159            0.0666667       0.144444                   35        43.2653            0.069281\n",
       "7        0.150206                    0.910022           1.575     1.47945            0.583333         0.951711     0.547945                    0.982888            0.0777778       0.222222                   57.5      47.9452            0.114379\n",
       "8        0.201646                    0.714951           1.62      1.51531            0.6              0.823728     0.561224                    0.942286            0.0833333       0.305556                   62        51.5306            0.165033\n",
       "9        0.300412                    0.272282           0.95625   1.33151            0.354167         0.422923     0.493151                    0.771537            0.0944444       0.4                        -4.375    33.1507            0.15817\n",
       "10       0.401235                    0.116102           0.716327  1.17692            0.265306         0.184649     0.435897                    0.624062            0.0722222       0.472222                   -28.3673  17.6923            0.112745\n",
       "11       0.5                         0.0340228          0.7875    1.1                0.291667         0.0708708    0.407407                    0.51479             0.0777778       0.55                       -21.25    10                 0.0794118\n",
       "12       0.600823                    0.00980467         0.936735  1.0726             0.346939         0.0193464    0.39726                     0.43165             0.0944444       0.644444                   -6.32653  7.26027            0.069281\n",
       "13       0.699588                    0.00269759         0.84375   1.04029            0.3125           0.00641727   0.385294                    0.371617            0.0833333       0.727778                   -15.625   4.02941            0.0447712\n",
       "14       0.800412                    0.00031848         0.936735  1.02725            0.346939         0.00112798   0.380463                    0.324949            0.0944444       0.822222                   -6.32653  2.72494            0.0346405\n",
       "15       0.899177                    1.308e-05          0.9       1.01327            0.333333         9.45373e-05  0.375286                    0.289267            0.0888889       0.911111                   -10       1.32723            0.0189542\n",
       "16       1                           0                  0.881633  1                  0.326531         1.5002e-06   0.37037                     0.260103            0.0888889       1                          -11.8367  0                  0\n",
       "\n",
       "Cross-Validation Metrics Summary: \n",
       "                         mean      sd         cv_1_valid    cv_2_valid    cv_3_valid    cv_4_valid    cv_5_valid\n",
       "-----------------------  --------  ---------  ------------  ------------  ------------  ------------  ------------\n",
       "accuracy                 0.49979   0.14661    0.602041      0.690722      0.319588      0.453608      0.43299\n",
       "auc                      0.579733  0.0834914  0.624036      0.67973       0.461968      0.537307      0.595622\n",
       "err                      0.50021   0.14661    0.397959      0.309278      0.680412      0.546392      0.56701\n",
       "err_count                48.6      14.1527    39            30            66            53            55\n",
       "f0point5                 0.480029  0.0905026  0.498008      0.599078      0.354523      0.509259      0.439277\n",
       "f1                       0.568129  0.0667903  0.561798      0.634146      0.467742      0.624113      0.552846\n",
       "f2                       0.711317  0.064436   0.64433       0.673575      0.687204      0.805861      0.745614\n",
       "lift_top_group           1.37826   1.35783    2.8           2.62162       0             1.4697        0\n",
       "logloss                  2.3386    0.729089   2.11041       1.54355       2.03143       3.48483       2.52278\n",
       "max_per_class_error      0.723708  0.313859   0.460317      0.316667      0.970588      1             0.870968\n",
       "mcc                      0.220427  0.12044    0.244659      0.376007      0.094754      nan           0.166289\n",
       "mean_per_class_accuracy  0.576988  0.0813707  0.626984      0.693018      0.514706      0.5           0.55023\n",
       "mean_per_class_error     0.423012  0.0813707  0.373016      0.306982      0.485294      0.5           0.44977\n",
       "mse                      0.318129  0.0281187  0.308473      0.290743      0.305159      0.364355      0.321913\n",
       "pr_auc                   0.475075  0.0878182  0.473978      0.578439      0.340043      0.517844      0.465072\n",
       "precision                0.437195  0.100855   0.462963      0.577778      0.305263      0.453608      0.386364\n",
       "r2                       -0.37954  0.0965606  -0.343571     -0.232251     -0.456004     -0.470076     -0.395799\n",
       "recall                   0.877683  0.154942   0.714286      0.702703      1             1             0.971429\n",
       "rmse                     0.563603  0.024511   0.555403      0.539206      0.552412      0.603618      0.567374\n",
       "specificity              0.276292  0.313859   0.539683      0.683333      0.0294118     0             0.129032\n",
       "\n",
       "Scoring History: \n",
       "    timestamp            duration    training_speed    epochs    iterations    samples    training_rmse    training_logloss    training_r2    training_auc    training_pr_auc    training_lift    training_classification_error\n",
       "--  -------------------  ----------  ----------------  --------  ------------  ---------  ---------------  ------------------  -------------  --------------  -----------------  ---------------  -------------------------------\n",
       "    2023-04-23 18:19:22  0.000 sec                     0         0             0          nan              nan                 nan            nan             nan                nan              nan\n",
       "    2023-04-23 18:19:22  36.070 sec  4820 obs/sec      7.34979   1             3572       0.180991         0.220356            0.859527       0.988344        0.955749           2.31429          0.026749\n",
       "    2023-04-23 18:19:28  41.495 sec  5234 obs/sec      66.0267   9             32089      0.00313456       0.000149787         0.999958       1               1                  2.7              0\n",
       "\n",
       "Variable Importances: \n",
       "variable    relative_importance    scaled_importance    percentage\n",
       "----------  ---------------------  -------------------  ----------------------\n",
       "934         1.0                    1.0                  0.0009707962442280838\n",
       "574         0.9606216549873352     0.9606216549873352   0.0009325678947858712\n",
       "1692        0.8888474106788635     0.8888474106788635   0.0008628897279788979\n",
       "211         0.8635128140449524     0.8635128140449524   0.0008382949967176635\n",
       "1941        0.7757837772369385     0.7757837772369385   0.0007531279772746963\n",
       "521         0.7658587098121643     0.7658587098121643   0.000743492759095015\n",
       "325         0.7642186880111694     0.7642186880111694   0.000741900632090157\n",
       "341         0.7617059350013733     0.7617059350013733   0.0007394612609055741\n",
       "510         0.7555034756660461     0.7555034756660461   0.0007334399366778612\n",
       "1502        0.7468875050544739     0.7468875050544739   0.0007250755847677672\n",
       "---         ---                    ---                  ---\n",
       "1994        0.40926650166511536    0.40926650166511536  0.0003973143827048608\n",
       "415         0.4053798317909241     0.4053798317909241   0.00039354121818844145\n",
       "1623        0.4041881263256073     0.4041881263256073   0.00039238431499848586\n",
       "209         0.4038562476634979     0.4038562476634979   0.00039206212843977063\n",
       "1649        0.40317612886428833    0.40317612886428833  0.00039140187166386906\n",
       "37          0.3987039029598236     0.3987039029598236   0.00038706025155247514\n",
       "86          0.3951372504234314     0.3951372504234314   0.000383597758665679\n",
       "347         0.393940269947052      0.393940269947052    0.00038243573451479554\n",
       "1566        0.39392372965812683    0.39392372965812683  0.00038241967726442857\n",
       "1289        0.39389780163764954    0.39389780163764954  0.0003823945064395289\n",
       "[2019 rows x 4 columns]\n",
       "\n",
       "\n",
       "[tips]\n",
       "Use `model.explain()` to inspect the model.\n",
       "--\n",
       "Use `h2o.display.toggle_user_tips()` to switch on/off this section."
      ]
     },
     "execution_count": 89,
     "metadata": {},
     "output_type": "execute_result"
    }
   ],
   "source": [
    "# For binary classification, response should be a factor\n",
    "train[y] = train[y].asfactor()\n",
    "test[y] = test[y].asfactor()\n",
    "\n",
    "# Run AutoML for 20 base models\n",
    "aml = H2OAutoML(max_models=20, seed=1)\n",
    "aml.train(y = y, training_frame = train, leaderboard_frame = test)"
   ]
  },
  {
   "cell_type": "code",
   "execution_count": 90,
   "id": "2ffafc5f",
   "metadata": {},
   "outputs": [
    {
     "data": {
      "text/html": [
       "<table class='dataframe'>\n",
       "<thead>\n",
       "<tr><th>model_id                                               </th><th style=\"text-align: right;\">     auc</th><th style=\"text-align: right;\">    logloss</th><th style=\"text-align: right;\">   aucpr</th><th style=\"text-align: right;\">  mean_per_class_error</th><th style=\"text-align: right;\">       rmse</th><th style=\"text-align: right;\">        mse</th></tr>\n",
       "</thead>\n",
       "<tbody>\n",
       "<tr><td>DeepLearning_grid_1_AutoML_1_20230423_181434_model_1   </td><td style=\"text-align: right;\">1       </td><td style=\"text-align: right;\">0.000149787</td><td style=\"text-align: right;\">1       </td><td style=\"text-align: right;\">            0         </td><td style=\"text-align: right;\">0.00313456 </td><td style=\"text-align: right;\">9.82546e-06</td></tr>\n",
       "<tr><td>GBM_2_AutoML_1_20230423_181434                         </td><td style=\"text-align: right;\">1       </td><td style=\"text-align: right;\">0.131882   </td><td style=\"text-align: right;\">1       </td><td style=\"text-align: right;\">            0         </td><td style=\"text-align: right;\">0.138414   </td><td style=\"text-align: right;\">0.0191584  </td></tr>\n",
       "<tr><td>GBM_4_AutoML_1_20230423_181434                         </td><td style=\"text-align: right;\">1       </td><td style=\"text-align: right;\">0.106113   </td><td style=\"text-align: right;\">1       </td><td style=\"text-align: right;\">            0         </td><td style=\"text-align: right;\">0.112698   </td><td style=\"text-align: right;\">0.0127009  </td></tr>\n",
       "<tr><td>StackedEnsemble_BestOfFamily_1_AutoML_1_20230423_181434</td><td style=\"text-align: right;\">1       </td><td style=\"text-align: right;\">0.089303   </td><td style=\"text-align: right;\">1       </td><td style=\"text-align: right;\">            0         </td><td style=\"text-align: right;\">0.0973067  </td><td style=\"text-align: right;\">0.00946859 </td></tr>\n",
       "<tr><td>XRT_1_AutoML_1_20230423_181434                         </td><td style=\"text-align: right;\">1       </td><td style=\"text-align: right;\">0.164404   </td><td style=\"text-align: right;\">1       </td><td style=\"text-align: right;\">            0         </td><td style=\"text-align: right;\">0.174724   </td><td style=\"text-align: right;\">0.0305284  </td></tr>\n",
       "<tr><td>GBM_grid_1_AutoML_1_20230423_181434_model_2            </td><td style=\"text-align: right;\">1       </td><td style=\"text-align: right;\">0.185594   </td><td style=\"text-align: right;\">1       </td><td style=\"text-align: right;\">            0         </td><td style=\"text-align: right;\">0.185538   </td><td style=\"text-align: right;\">0.0344245  </td></tr>\n",
       "<tr><td>DeepLearning_grid_3_AutoML_1_20230423_181434_model_1   </td><td style=\"text-align: right;\">1       </td><td style=\"text-align: right;\">1.48777e-05</td><td style=\"text-align: right;\">1       </td><td style=\"text-align: right;\">            0         </td><td style=\"text-align: right;\">0.000277754</td><td style=\"text-align: right;\">7.71474e-08</td></tr>\n",
       "<tr><td>DRF_1_AutoML_1_20230423_181434                         </td><td style=\"text-align: right;\">1       </td><td style=\"text-align: right;\">0.156571   </td><td style=\"text-align: right;\">1       </td><td style=\"text-align: right;\">            0         </td><td style=\"text-align: right;\">0.166509   </td><td style=\"text-align: right;\">0.0277253  </td></tr>\n",
       "<tr><td>GBM_5_AutoML_1_20230423_181434                         </td><td style=\"text-align: right;\">1       </td><td style=\"text-align: right;\">0.0861687  </td><td style=\"text-align: right;\">1       </td><td style=\"text-align: right;\">            0         </td><td style=\"text-align: right;\">0.0945386  </td><td style=\"text-align: right;\">0.00893755 </td></tr>\n",
       "<tr><td>DeepLearning_1_AutoML_1_20230423_181434                </td><td style=\"text-align: right;\">1       </td><td style=\"text-align: right;\">0.00532197 </td><td style=\"text-align: right;\">1       </td><td style=\"text-align: right;\">            0         </td><td style=\"text-align: right;\">0.0239102  </td><td style=\"text-align: right;\">0.000571698</td></tr>\n",
       "<tr><td>XGBoost_grid_1_AutoML_1_20230423_181434_model_3        </td><td style=\"text-align: right;\">1       </td><td style=\"text-align: right;\">0.0535177  </td><td style=\"text-align: right;\">1       </td><td style=\"text-align: right;\">            0         </td><td style=\"text-align: right;\">0.0639633  </td><td style=\"text-align: right;\">0.0040913  </td></tr>\n",
       "<tr><td>StackedEnsemble_AllModels_1_AutoML_1_20230423_181434   </td><td style=\"text-align: right;\">1       </td><td style=\"text-align: right;\">0.0749722  </td><td style=\"text-align: right;\">1       </td><td style=\"text-align: right;\">            0         </td><td style=\"text-align: right;\">0.0831023  </td><td style=\"text-align: right;\">0.00690599 </td></tr>\n",
       "<tr><td>XGBoost_2_AutoML_1_20230423_181434                     </td><td style=\"text-align: right;\">1       </td><td style=\"text-align: right;\">0.113554   </td><td style=\"text-align: right;\">1       </td><td style=\"text-align: right;\">            0         </td><td style=\"text-align: right;\">0.134464   </td><td style=\"text-align: right;\">0.0180806  </td></tr>\n",
       "<tr><td>XGBoost_3_AutoML_1_20230423_181434                     </td><td style=\"text-align: right;\">1       </td><td style=\"text-align: right;\">0.0591152  </td><td style=\"text-align: right;\">1       </td><td style=\"text-align: right;\">            0         </td><td style=\"text-align: right;\">0.0731844  </td><td style=\"text-align: right;\">0.00535596 </td></tr>\n",
       "<tr><td>GBM_3_AutoML_1_20230423_181434                         </td><td style=\"text-align: right;\">1       </td><td style=\"text-align: right;\">0.103166   </td><td style=\"text-align: right;\">1       </td><td style=\"text-align: right;\">            0         </td><td style=\"text-align: right;\">0.11186    </td><td style=\"text-align: right;\">0.0125126  </td></tr>\n",
       "<tr><td>GBM_grid_1_AutoML_1_20230423_181434_model_1            </td><td style=\"text-align: right;\">1       </td><td style=\"text-align: right;\">0.152319   </td><td style=\"text-align: right;\">1       </td><td style=\"text-align: right;\">            0         </td><td style=\"text-align: right;\">0.160737   </td><td style=\"text-align: right;\">0.0258365  </td></tr>\n",
       "<tr><td>XGBoost_grid_1_AutoML_1_20230423_181434_model_2        </td><td style=\"text-align: right;\">1       </td><td style=\"text-align: right;\">0.115946   </td><td style=\"text-align: right;\">1       </td><td style=\"text-align: right;\">            0         </td><td style=\"text-align: right;\">0.129707   </td><td style=\"text-align: right;\">0.016824   </td></tr>\n",
       "<tr><td>DeepLearning_grid_2_AutoML_1_20230423_181434_model_1   </td><td style=\"text-align: right;\">1       </td><td style=\"text-align: right;\">1.11038e-05</td><td style=\"text-align: right;\">1       </td><td style=\"text-align: right;\">            0         </td><td style=\"text-align: right;\">0.000232284</td><td style=\"text-align: right;\">5.39558e-08</td></tr>\n",
       "<tr><td>XGBoost_grid_1_AutoML_1_20230423_181434_model_1        </td><td style=\"text-align: right;\">0.999637</td><td style=\"text-align: right;\">0.119794   </td><td style=\"text-align: right;\">0.999443</td><td style=\"text-align: right;\">            0.00277778</td><td style=\"text-align: right;\">0.141955   </td><td style=\"text-align: right;\">0.0201512  </td></tr>\n",
       "<tr><td>XGBoost_1_AutoML_1_20230423_181434                     </td><td style=\"text-align: right;\">0.989697</td><td style=\"text-align: right;\">0.221309   </td><td style=\"text-align: right;\">0.985231</td><td style=\"text-align: right;\">            0.049183  </td><td style=\"text-align: right;\">0.235495   </td><td style=\"text-align: right;\">0.0554578  </td></tr>\n",
       "<tr><td>GBM_1_AutoML_1_20230423_181434                         </td><td style=\"text-align: right;\">0.928132</td><td style=\"text-align: right;\">0.45995    </td><td style=\"text-align: right;\">0.902629</td><td style=\"text-align: right;\">            0.129902  </td><td style=\"text-align: right;\">0.379197   </td><td style=\"text-align: right;\">0.14379    </td></tr>\n",
       "<tr><td>GLM_1_AutoML_1_20230423_181434                         </td><td style=\"text-align: right;\">0.892166</td><td style=\"text-align: right;\">0.603388   </td><td style=\"text-align: right;\">0.865848</td><td style=\"text-align: right;\">            0.188399  </td><td style=\"text-align: right;\">0.455445   </td><td style=\"text-align: right;\">0.20743    </td></tr>\n",
       "</tbody>\n",
       "</table><pre style='font-size: smaller; margin-bottom: 1em;'>[22 rows x 7 columns]</pre>"
      ],
      "text/plain": [
       "model_id                                                      auc      logloss     aucpr    mean_per_class_error         rmse          mse\n",
       "-------------------------------------------------------  --------  -----------  --------  ----------------------  -----------  -----------\n",
       "DeepLearning_grid_1_AutoML_1_20230423_181434_model_1     1         0.000149787  1                     0           0.00313456   9.82546e-06\n",
       "GBM_2_AutoML_1_20230423_181434                           1         0.131882     1                     0           0.138414     0.0191584\n",
       "GBM_4_AutoML_1_20230423_181434                           1         0.106113     1                     0           0.112698     0.0127009\n",
       "StackedEnsemble_BestOfFamily_1_AutoML_1_20230423_181434  1         0.089303     1                     0           0.0973067    0.00946859\n",
       "XRT_1_AutoML_1_20230423_181434                           1         0.164404     1                     0           0.174724     0.0305284\n",
       "GBM_grid_1_AutoML_1_20230423_181434_model_2              1         0.185594     1                     0           0.185538     0.0344245\n",
       "DeepLearning_grid_3_AutoML_1_20230423_181434_model_1     1         1.48777e-05  1                     0           0.000277754  7.71474e-08\n",
       "DRF_1_AutoML_1_20230423_181434                           1         0.156571     1                     0           0.166509     0.0277253\n",
       "GBM_5_AutoML_1_20230423_181434                           1         0.0861687    1                     0           0.0945386    0.00893755\n",
       "DeepLearning_1_AutoML_1_20230423_181434                  1         0.00532197   1                     0           0.0239102    0.000571698\n",
       "XGBoost_grid_1_AutoML_1_20230423_181434_model_3          1         0.0535177    1                     0           0.0639633    0.0040913\n",
       "StackedEnsemble_AllModels_1_AutoML_1_20230423_181434     1         0.0749722    1                     0           0.0831023    0.00690599\n",
       "XGBoost_2_AutoML_1_20230423_181434                       1         0.113554     1                     0           0.134464     0.0180806\n",
       "XGBoost_3_AutoML_1_20230423_181434                       1         0.0591152    1                     0           0.0731844    0.00535596\n",
       "GBM_3_AutoML_1_20230423_181434                           1         0.103166     1                     0           0.11186      0.0125126\n",
       "GBM_grid_1_AutoML_1_20230423_181434_model_1              1         0.152319     1                     0           0.160737     0.0258365\n",
       "XGBoost_grid_1_AutoML_1_20230423_181434_model_2          1         0.115946     1                     0           0.129707     0.016824\n",
       "DeepLearning_grid_2_AutoML_1_20230423_181434_model_1     1         1.11038e-05  1                     0           0.000232284  5.39558e-08\n",
       "XGBoost_grid_1_AutoML_1_20230423_181434_model_1          0.999637  0.119794     0.999443              0.00277778  0.141955     0.0201512\n",
       "XGBoost_1_AutoML_1_20230423_181434                       0.989697  0.221309     0.985231              0.049183    0.235495     0.0554578\n",
       "GBM_1_AutoML_1_20230423_181434                           0.928132  0.45995      0.902629              0.129902    0.379197     0.14379\n",
       "GLM_1_AutoML_1_20230423_181434                           0.892166  0.603388     0.865848              0.188399    0.455445     0.20743\n",
       "[22 rows x 7 columns]\n"
      ]
     },
     "execution_count": 90,
     "metadata": {},
     "output_type": "execute_result"
    }
   ],
   "source": [
    "lb = aml.leaderboard\n",
    "lb.head(rows=lb.nrows)"
   ]
  },
  {
   "cell_type": "code",
   "execution_count": null,
   "id": "f7e561da",
   "metadata": {},
   "outputs": [],
   "source": [
    "preds = aml.predict(test)"
   ]
  },
  {
   "cell_type": "code",
   "execution_count": null,
   "id": "aea2738d",
   "metadata": {},
   "outputs": [],
   "source": [
    "preds['p1']"
   ]
  },
  {
   "cell_type": "code",
   "execution_count": 74,
   "id": "fa3262e5",
   "metadata": {},
   "outputs": [],
   "source": [
    "def validate(model, val_loader, criterion):\n",
    "    val_loss = []\n",
    "    val_accs = []\n",
    "    model.eval()\n",
    "    for i, (inputs, labels) in enumerate(val_loader):\n",
    "        inputs = torch.Tensor(inputs)\n",
    "        inputs = inputs.type(torch.FloatTensor).to(device)\n",
    "        labels = torch.Tensor(labels)\n",
    "        labels = labels.type(torch.FloatTensor).to(device)\n",
    "        \n",
    "        outputs = model(inputs)\n",
    "        loss    = criterion(outputs, labels)\n",
    "        pred, lab = torch.argmax(outputs, axis=-1), torch.argmax(labels, axis=-1)\n",
    "        \n",
    "        val_loss.append(loss.item())\n",
    "        val_accs.append( ((pred == lab).sum()/ len(pred)).cpu().detach().numpy() )\n",
    "    \n",
    "    return np.mean(val_loss), np.mean(val_accs)"
   ]
  },
  {
   "cell_type": "code",
   "execution_count": 75,
   "id": "26f1304e",
   "metadata": {},
   "outputs": [],
   "source": [
    "def train_one_epoch(model, optimizer, criterion ,train_loader, epoch):\n",
    "    model.train()\n",
    "    model.zero_grad()\n",
    "    train_loss = []\n",
    "    train_acc = []\n",
    "    for i, (inputs, labels) in enumerate(train_loader): \n",
    "            \n",
    "        inputs = torch.Tensor(inputs)\n",
    "        inputs = inputs.type(torch.FloatTensor).to(device)\n",
    "        labels = torch.Tensor(labels)\n",
    "        labels = labels.type(torch.FloatTensor).to(device)\n",
    "#         print(inputs.shape)\n",
    "        outputs = model(inputs)\n",
    "#         print(outputs.shape, labels.shape)\n",
    "        loss    = criterion(outputs, labels)\n",
    "        \n",
    "        pred, lab = torch.argmax(outputs, axis=-1), torch.argmax(labels, axis=-1)\n",
    "#         print(pred, lab)\n",
    "        optimizer.zero_grad()\n",
    "        loss.backward()\n",
    "        optimizer.step()\n",
    "        \n",
    "        train_loss.append(loss.cpu().detach().numpy())\n",
    "        train_acc.append( ((pred == lab).sum()/ len(pred)).cpu().detach().numpy() )\n",
    "        print(\"Epoch {}: {}/{} Loss: {}  Acc: {}\".format(epoch, i, len(train_loader), loss.item(), train_acc[-1]), end='\\r')\n",
    "        \n",
    "    return np.mean(train_loss), np.mean(train_acc)"
   ]
  },
  {
   "cell_type": "code",
   "execution_count": 80,
   "id": "8ea67545",
   "metadata": {},
   "outputs": [],
   "source": [
    "import torch.nn as nn\n",
    "class Lstm(nn.Module):\n",
    "    \"\"\"lstm+mlp\"\"\"\n",
    "    def __init__(self, inp_dim, hidden_dim, target_size=2, num_layers=1):\n",
    "        super(Lstm, self).__init__()\n",
    "        self.lstm = nn.LSTM(inp_dim, hidden_dim)\n",
    "        self.mlp  = nn.Linear(hidden_dim, target_size)\n",
    "        \n",
    "    def forward(self, x):\n",
    "        _, hidden = self.lstm( x )\n",
    "        x = self.mlp(x)\n",
    "        return x.flatten()\n",
    "    \n",
    "class FNN(nn.Module):\n",
    "    def __init__(self):\n",
    "        super(FNN, self).__init__()\n",
    "        self.fc0 = nn.Linear(2019, 1024)\n",
    "        self.fc1 = nn.Linear(1024, 128)\n",
    "        self.fc2 = nn.Linear(128, 32)\n",
    "        self.fc3 = nn.Linear(32, 2)\n",
    "        self.relu = nn.ReLU()\n",
    "        self.dropout = nn.Dropout(p=0.4)\n",
    "        \n",
    "    def forward(self, x):\n",
    "        x = self.fc0(x)\n",
    "        x = self.relu(x)\n",
    "        x = self.fc1(x)\n",
    "        x = self.relu(x)\n",
    "        x = self.dropout(x)\n",
    "        x = self.fc2(x)\n",
    "        x = self.relu(x)\n",
    "        x = self.dropout(x)\n",
    "        x = self.fc3(x)\n",
    "        return x"
   ]
  },
  {
   "cell_type": "code",
   "execution_count": 81,
   "id": "9e911894",
   "metadata": {},
   "outputs": [],
   "source": [
    "train_config = { 'num_epochs':20, 'learning_rate':1e-4 }\n",
    "arch_config  = {\n",
    "                'inp_size': 90,\n",
    "                'hidden_size': 180,\n",
    "               }\n",
    "\n",
    "model = Lstm(arch_config[\"inp_size\"], arch_config[\"hidden_size\"])\n",
    "model = FNN()\n",
    "model = model.to(device)\n",
    "# model = torch.compile(model)\n",
    "\n",
    "criterion = torch.nn.CrossEntropyLoss()\n",
    "optimizer = torch.optim.AdamW(model.parameters(), lr=train_config['learning_rate'], weight_decay=1e-7)"
   ]
  },
  {
   "cell_type": "code",
   "execution_count": 82,
   "id": "49b3783e",
   "metadata": {},
   "outputs": [],
   "source": [
    "train_losses = []\n",
    "train_accs = []\n",
    "val_losses = []\n",
    "val_accs = []"
   ]
  },
  {
   "cell_type": "code",
   "execution_count": 83,
   "id": "d82c984d",
   "metadata": {},
   "outputs": [
    {
     "name": "stdout",
     "output_type": "stream",
     "text": [
      "5.5703926 2.1942251324653625 0.53190106 0.5306256666666865348816\n"
     ]
    },
    {
     "data": {
      "image/png": "[encoded data removed]",
      "text/plain": [
       "<Figure size 640x480 with 1 Axes>"
      ]
     },
     "metadata": {},
     "output_type": "display_data"
    },
    {
     "name": "stdout",
     "output_type": "stream",
     "text": [
      "2.5128565 1.468762367963791 0.63346356 0.593125.6666666865348816\n",
      "1.9737445 2.486425533890724 0.655599 0.553125 0.8333333730697632\n",
      "1.1272794 2.34842512011528 0.6875 0.5453125c: 1.02555\n",
      "1.2867167 2.4906520545482635 0.7011719 0.554062558755\n",
      "1.7470953 4.348244875669479 0.655599 0.57875: 0.3333333432674408\n",
      "0.92547554 2.1369872987270355 0.7207031 0.58531253755\n",
      "1.6538267 2.7393781542778015 0.6842448 0.62093747666666865348816\n",
      "1.01476 2.147333785891533 0.7089844 0.62093747.581255\n",
      "1.7858267 2.534639686346054 0.7526042 0.6453125666666865348816\n",
      "1.0385501 2.7067643105983734 0.7760417 0.63875 0.6666666865348816\n"
     ]
    },
    {
     "data": {
      "image/png": "[encoded data removed]",
      "text/plain": [
       "<Figure size 640x480 with 1 Axes>"
      ]
     },
     "metadata": {},
     "output_type": "display_data"
    },
    {
     "name": "stdout",
     "output_type": "stream",
     "text": [
      "0.76328856 2.024142548441887 0.7734375 0.63cc: 0.518755\n",
      "0.6808883 2.035610467195511 0.78515625 0.6365624751255\n",
      "0.83913624 2.799386605620384 0.8125 0.61875Acc: 1.0525\n",
      "0.6130528 3.914543315768242 0.79557294 0.6243750.6666666865348816\n",
      "0.7808296 3.8241387009620667 0.84375 0.6165625: 1.04375\n",
      "0.63300544 3.9689312875270844 0.80794275 0.62093747333333730697632\n",
      "0.58451486 3.621642842888832 0.8496094 0.63656247.0255\n",
      "1.0058031 4.734648257493973 0.859375 0.65999997 1.0625\n",
      "0.84800935 4.215477183461189 0.8372396 0.63875: 0.8333333730697632\n"
     ]
    }
   ],
   "source": [
    "for epoch in range(train_config['num_epochs']):\n",
    "    los, acc = train_one_epoch(model, optimizer, criterion, trainloader, epoch)\n",
    "    train_losses.append(los)\n",
    "    train_accs.append(acc)\n",
    "    los, acc = validate(model, valloader, criterion)\n",
    "    val_losses.append(los)\n",
    "    val_accs.append(acc)\n",
    "    print(train_losses[-1], val_losses[-1], train_accs[-1], val_accs[-1])\n",
    "    if epoch % 10 == 0:\n",
    "        plt.plot(train_losses, label=\"train loss\")\n",
    "        plt.plot(val_losses, label=\"val loss\")\n",
    "        plt.plot(train_accs, label=\"train acc\")\n",
    "        plt.plot(val_accs, label=\"val acc\")\n",
    "        plt.legend()\n",
    "        plt.show()"
   ]
  },
  {
   "cell_type": "code",
   "execution_count": null,
   "id": "266e0cb1",
   "metadata": {},
   "outputs": [],
   "source": [
    "plt.plot(train_losses, label=\"train loss\")\n",
    "plt.plot(val_losses, label=\"val loss\")\n",
    "plt.plot(train_accs, label=\"train acc\")\n",
    "plt.plot(val_accs, label=\"val acc\")\n",
    "plt.legend()\n",
    "plt.show()"
   ]
  },
  {
   "cell_type": "code",
   "execution_count": null,
   "id": "f7d2ec7c",
   "metadata": {},
   "outputs": [],
   "source": []
  }
 ],
 "metadata": {
  "kernelspec": {
   "display_name": "Python 3 (ipykernel)",
   "language": "python",
   "name": "python3"
  },
  "language_info": {
   "codemirror_mode": {
    "name": "ipython",
    "version": 3
   },
   "file_extension": ".py",
   "mimetype": "text/x-python",
   "name": "python",
   "nbconvert_exporter": "python",
   "pygments_lexer": "ipython3",
   "version": "3.8.16"
  }
 },
 "nbformat": 4,
 "nbformat_minor": 5
}
